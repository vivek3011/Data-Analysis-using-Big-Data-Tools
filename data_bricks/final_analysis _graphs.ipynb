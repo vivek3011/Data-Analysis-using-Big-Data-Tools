{
 "cells": [
  {
   "cell_type": "code",
   "execution_count": 0,
   "metadata": {
    "application/vnd.databricks.v1+cell": {
     "inputWidgets": {},
     "nuid": "3b10d1bd-94bc-4295-b6ed-3c306d137304",
     "showTitle": false,
     "title": ""
    }
   },
   "outputs": [
    {
     "data": {
      "text/plain": [
       "Total Rows and Columns: (84598444, 19)\n",
       "=============================================\n",
       "Null values for every columns in DataFrame:\n",
       "=============================================\n",
       "VendorID 0\n",
       "tpep_pickup_datetime 0\n",
       "tpep_dropoff_datetime 0\n",
       "passenger_count 444383\n",
       "trip_distance 0\n",
       "RatecodeID 444383\n",
       "store_and_fwd_flag 444383\n",
       "PULocationID 0\n",
       "DOLocationID 0\n",
       "payment_type 0\n",
       "fare_amount 0\n",
       "extra 0\n",
       "mta_tax 0\n",
       "tip_amount 0\n",
       "tolls_amount 0\n",
       "improvement_surcharge 0\n",
       "total_amount 0\n",
       "congestion_surcharge 5300601\n",
       "airport_fee 84598444\n",
       "=============================================\n"
      ]
     },
     "metadata": {
      "application/vnd.databricks.v1+output": {
       "addedWidgets": {},
       "arguments": {},
       "data": "Total Rows and Columns: (84598444, 19)\n=============================================\nNull values for every columns in DataFrame:\n=============================================\nVendorID 0\ntpep_pickup_datetime 0\ntpep_dropoff_datetime 0\npassenger_count 444383\ntrip_distance 0\nRatecodeID 444383\nstore_and_fwd_flag 444383\nPULocationID 0\nDOLocationID 0\npayment_type 0\nfare_amount 0\nextra 0\nmta_tax 0\ntip_amount 0\ntolls_amount 0\nimprovement_surcharge 0\ntotal_amount 0\ncongestion_surcharge 5300601\nairport_fee 84598444\n=============================================\n",
       "datasetInfos": [],
       "metadata": {},
       "removedWidgets": [],
       "type": "ansi"
      }
     },
     "output_type": "display_data"
    }
   ],
   "source": [
    "# Create SparkSession from builder\n",
    "import pyspark\n",
    "from pyspark.sql import SparkSession\n",
    "from functools import reduce  # For Python 3.x\n",
    "from pyspark.sql import DataFrame\n",
    "from pyspark.sql.functions import isnan, when, count, col\n",
    "from pyspark.sql import Row\n",
    "from pyspark.sql import SparkSession\n",
    "from pyspark.sql.functions import *\n",
    "import pyspark.pandas as ps\n",
    "from pyspark.sql.functions import monotonically_increasing_id, row_number\n",
    "from pyspark.sql.window import Window\n",
    "\n",
    "\n",
    "def unionAll(*dfs):\n",
    "    return reduce(DataFrame.unionAll, dfs)\n",
    "\n",
    "\n",
    "from pyspark.sql.functions import monotonically_increasing_id\n",
    "def get_mode(df):\n",
    "    column_lst = df.columns\n",
    "    res = [df.select(i).groupby(i).count().orderBy(\"count\", ascending=False) for i in column_lst]\n",
    "    df_mode = res[0].limit(1).select(column_lst[0]).withColumn(\"temp_name_monotonically_increasing_id\", monotonically_increasing_id())\n",
    "    \n",
    "    for i in range(1, len(res)):\n",
    "        df2 = res[i].limit(1).select(column_lst[i]).withColumn(\"temp_name_monotonically_increasing_id\", monotonically_increasing_id())\n",
    "        df_mode = df_mode.join(df2, (df_mode.temp_name_monotonically_increasing_id == df2.temp_name_monotonically_increasing_id)).drop(df2.temp_name_monotonically_increasing_id)\n",
    "        \n",
    "    return df_mode.drop(\"temp_name_monotonically_increasing_id\")\n",
    "\n",
    "\n",
    "\n",
    "\n",
    "\n",
    "spark = SparkSession.builder \\\n",
    "                    .appName('SparkByExamples.com') \\\n",
    "                    .getOrCreate()\n",
    "parquets=[\"/FileStore/tables/yellow_tripdata_2019/yellow_tripdata_2019_01.parquet\",\n",
    "          \"/FileStore/tables/yellow_tripdata_2019/yellow_tripdata_2019_02.parquet\",\n",
    "          \"/FileStore/tables/yellow_tripdata_2019/yellow_tripdata_2019_03.parquet\",\n",
    "          \"/FileStore/tables/yellow_tripdata_2019/yellow_tripdata_2019_04.parquet\",\n",
    "          \"/FileStore/tables/yellow_tripdata_2019/yellow_tripdata_2019_05.parquet\",\n",
    "          \"/FileStore/tables/yellow_tripdata_2019/yellow_tripdata_2019_06.parquet\",\n",
    "          \"/FileStore/tables/yellow_tripdata_2019/yellow_tripdata_2019_07.parquet\",\n",
    "          \"/FileStore/tables/yellow_tripdata_2019/yellow_tripdata_2019_08.parquet\",\n",
    "          \"/FileStore/tables/yellow_tripdata_2019/yellow_tripdata_2019_09.parquet\",\n",
    "          \"/FileStore/tables/yellow_tripdata_2019/yellow_tripdata_2019_10.parquet\",\n",
    "          \"/FileStore/tables/yellow_tripdata_2019/yellow_tripdata_2019_11.parquet\",\n",
    "          \"/FileStore/tables/yellow_tripdata_2019/yellow_tripdata_2019_12.parquet\",]\n",
    "    \n",
    "data=[]\n",
    "for i in parquets:\n",
    "    d = spark.read.option(\"header\",\"true\").parquet(i,inferSchema=True)\n",
    "    data.append(d)\n",
    "    \n",
    "#Merge all the dataframes in list\n",
    "df_complete=unionAll(*data)\n",
    "print(\"Total Rows and Columns:\",(df_complete.count(), len(df_complete.columns)))\n",
    "columns=df_complete.columns\n",
    "\n",
    "print(\"=============================================\")\n",
    "\n",
    "#Null values\n",
    "print(\"Null values for every columns in DataFrame:\")\n",
    "print(\"=============================================\")\n",
    "for i in df_complete.columns:\n",
    "      print(i,df_complete.count()-(df_complete.na.drop(subset=i).count()))\n",
    "\n",
    "print(\"=============================================\")\n",
    "\n",
    "\n",
    "#Mode values for the DataFrame\n",
    "mode_values=get_mode(df_complete)\n"
   ]
  },
  {
   "cell_type": "code",
   "execution_count": 0,
   "metadata": {
    "application/vnd.databricks.v1+cell": {
     "inputWidgets": {},
     "nuid": "74b4b0a6-7c37-43b9-a03e-bb2b24c93295",
     "showTitle": false,
     "title": ""
    }
   },
   "outputs": [
    {
     "data": {
      "text/plain": [
       "Mode value of each column\n",
       "================================\n",
       "VendorID : 2\n",
       "tpep_pickup_datetime : 2019-02-02 12:19:58\n",
       "tpep_dropoff_datetime : 2019-10-27 00:00:00\n",
       "passenger_count : 1.0\n",
       "trip_distance : 0.9\n",
       "RatecodeID : 1.0\n",
       "store_and_fwd_flag : N\n",
       "PULocationID : 237\n",
       "DOLocationID : 236\n",
       "payment_type : 1\n",
       "fare_amount : 6.0\n",
       "extra : 0.0\n",
       "mta_tax : 0.5\n",
       "tip_amount : 0.0\n",
       "tolls_amount : 0.0\n",
       "improvement_surcharge : 0.3\n",
       "total_amount : 9.8\n",
       "congestion_surcharge : 2.5\n",
       "airport_fee : None\n",
       "================================\n"
      ]
     },
     "metadata": {
      "application/vnd.databricks.v1+output": {
       "addedWidgets": {},
       "arguments": {},
       "data": "Mode value of each column\n================================\nVendorID : 2\ntpep_pickup_datetime : 2019-02-02 12:19:58\ntpep_dropoff_datetime : 2019-10-27 00:00:00\npassenger_count : 1.0\ntrip_distance : 0.9\nRatecodeID : 1.0\nstore_and_fwd_flag : N\nPULocationID : 237\nDOLocationID : 236\npayment_type : 1\nfare_amount : 6.0\nextra : 0.0\nmta_tax : 0.5\ntip_amount : 0.0\ntolls_amount : 0.0\nimprovement_surcharge : 0.3\ntotal_amount : 9.8\ncongestion_surcharge : 2.5\nairport_fee : None\n================================\n",
       "datasetInfos": [],
       "metadata": {},
       "removedWidgets": [],
       "type": "ansi"
      }
     },
     "output_type": "display_data"
    }
   ],
   "source": [
    "print(\"Mode value of each column\")\n",
    "print(\"================================\")\n",
    "for i in range(len(df_complete.columns)):\n",
    "    print(columns[i],\":\",mode_values.collect()[0][i])\n",
    "print(\"================================\")\n",
    "# print(\"Grouping by each column\")\n",
    "# print(\"================================\")\n",
    "# for i in df_complete.columns:\n",
    "#     display(df_complete.groupBy(i).count())"
   ]
  },
  {
   "cell_type": "code",
   "execution_count": 0,
   "metadata": {
    "application/vnd.databricks.v1+cell": {
     "inputWidgets": {},
     "nuid": "9af12240-d3c1-4703-8bb3-c9dd183d31cc",
     "showTitle": false,
     "title": ""
    }
   },
   "outputs": [],
   "source": [
    "import pyspark.pandas as ps\n",
    "pd=ps.DataFrame(df_complete)\n",
    "df_corr=pd.to_spark()\n",
    "df_corr=df_corr.withColumn(\"date_format\",to_date(df_complete.tpep_pickup_datetime,\"MM-dd-yyyy\"))\n",
    "df_corr=df_corr.where(df_corr.date_format.contains(\"2019\"))\n"
   ]
  },
  {
   "cell_type": "code",
   "execution_count": 0,
   "metadata": {
    "application/vnd.databricks.v1+cell": {
     "inputWidgets": {},
     "nuid": "3b388b5f-898d-458b-a631-0ce9735c64f6",
     "showTitle": false,
     "title": ""
    }
   },
   "outputs": [
    {
     "data": {
      "text/plain": [
       "Out[5]: ['VendorID',\n",
       " 'tpep_pickup_datetime',\n",
       " 'tpep_dropoff_datetime',\n",
       " 'passenger_count',\n",
       " 'trip_distance',\n",
       " 'payment_type',\n",
       " 'fare_amount',\n",
       " 'extra',\n",
       " 'mta_tax',\n",
       " 'tip_amount',\n",
       " 'tolls_amount',\n",
       " 'improvement_surcharge',\n",
       " 'total_amount',\n",
       " 'congestion_surcharge',\n",
       " 'airport_fee',\n",
       " 'date_format',\n",
       " 'week_date']"
      ]
     },
     "metadata": {
      "application/vnd.databricks.v1+output": {
       "addedWidgets": {},
       "arguments": {},
       "data": "Out[5]: ['VendorID',\n 'tpep_pickup_datetime',\n 'tpep_dropoff_datetime',\n 'passenger_count',\n 'trip_distance',\n 'payment_type',\n 'fare_amount',\n 'extra',\n 'mta_tax',\n 'tip_amount',\n 'tolls_amount',\n 'improvement_surcharge',\n 'total_amount',\n 'congestion_surcharge',\n 'airport_fee',\n 'date_format',\n 'week_date']",
       "datasetInfos": [],
       "metadata": {},
       "removedWidgets": [],
       "type": "ansi"
      }
     },
     "output_type": "display_data"
    }
   ],
   "source": [
    "week_level=df_corr.drop('RatecodeID',\n",
    " 'store_and_fwd_flag',\n",
    " 'PULocationID',\n",
    " 'DOLocationID',)\n",
    "week_level=week_level.withColumn(\"week_date\",date_trunc(\"week\",week_level.date_format))\n",
    "week_level=week_level.fillna({\"passenger_count\":1.0,\n",
    "                   \"congestion_surcharge\":2.5,  \n",
    "                  })\n",
    "week_level.columns"
   ]
  },
  {
   "cell_type": "code",
   "execution_count": 0,
   "metadata": {
    "application/vnd.databricks.v1+cell": {
     "inputWidgets": {},
     "nuid": "3a0639e6-f5f9-4316-a3f6-9ba63e1702c6",
     "showTitle": false,
     "title": ""
    }
   },
   "outputs": [],
   "source": [
    "g=week_level.groupBy(\"VendorID\",\"week_date\").sum()"
   ]
  },
  {
   "cell_type": "code",
   "execution_count": 0,
   "metadata": {
    "application/vnd.databricks.v1+cell": {
     "inputWidgets": {},
     "nuid": "3551ad3b-299c-4479-a83f-a5b525f7f790",
     "showTitle": false,
     "title": ""
    }
   },
   "outputs": [],
   "source": [
    "\n",
    "#I made a little helper function for this that might help some people out.\n",
    "\n",
    "import re\n",
    "\n",
    "from functools import partial\n",
    "\n",
    "def rename_cols(agg_df, ignore_first_n=1):\n",
    "    \"\"\"changes the default spark aggregate names `avg(colname)` \n",
    "    to something a bit more useful. Pass an aggregated dataframe\n",
    "    and the number of aggregation columns to ignore.\n",
    "    \"\"\"\n",
    "    delimiters = \"(\", \")\"\n",
    "    split_pattern = '|'.join(map(re.escape, delimiters))\n",
    "    splitter = partial(re.split, split_pattern)\n",
    "    split_agg = lambda x: '_'.join(splitter(x))[0:-ignore_first_n]\n",
    "    renamed = map(split_agg, agg_df.columns[ignore_first_n:])\n",
    "    renamed = zip(agg_df.columns[ignore_first_n:], renamed)\n",
    "    for old, new in renamed:\n",
    "        agg_df = agg_df.withColumnRenamed(old, new)\n",
    "    return agg_df"
   ]
  },
  {
   "cell_type": "code",
   "execution_count": 0,
   "metadata": {
    "application/vnd.databricks.v1+cell": {
     "inputWidgets": {},
     "nuid": "ca53a644-37fa-470b-8550-af9ac1b5c519",
     "showTitle": false,
     "title": ""
    }
   },
   "outputs": [
    {
     "data": {
      "text/plain": [
       "root\n",
       " |-- VendorID: long (nullable = true)\n",
       " |-- week_dat: timestamp (nullable = true)\n",
       " |-- sum_VendorID: long (nullable = true)\n",
       " |-- sum_passenger_count: double (nullable = true)\n",
       " |-- sum_trip_distance: double (nullable = true)\n",
       " |-- sum_payment_type: long (nullable = true)\n",
       " |-- sum_fare_amount: double (nullable = true)\n",
       " |-- sum_extra: double (nullable = true)\n",
       " |-- sum_mta_tax: double (nullable = true)\n",
       " |-- sum_tip_amount: double (nullable = true)\n",
       " |-- sum_tolls_amount: double (nullable = true)\n",
       " |-- sum_improvement_surcharge: double (nullable = true)\n",
       " |-- sum_total_amount: double (nullable = true)\n",
       " |-- sum_congestion_surcharge: double (nullable = true)\n",
       " |-- sum_airport_fee: long (nullable = true)\n",
       "\n"
      ]
     },
     "metadata": {
      "application/vnd.databricks.v1+output": {
       "addedWidgets": {},
       "arguments": {},
       "data": "root\n |-- VendorID: long (nullable = true)\n |-- week_dat: timestamp (nullable = true)\n |-- sum_VendorID: long (nullable = true)\n |-- sum_passenger_count: double (nullable = true)\n |-- sum_trip_distance: double (nullable = true)\n |-- sum_payment_type: long (nullable = true)\n |-- sum_fare_amount: double (nullable = true)\n |-- sum_extra: double (nullable = true)\n |-- sum_mta_tax: double (nullable = true)\n |-- sum_tip_amount: double (nullable = true)\n |-- sum_tolls_amount: double (nullable = true)\n |-- sum_improvement_surcharge: double (nullable = true)\n |-- sum_total_amount: double (nullable = true)\n |-- sum_congestion_surcharge: double (nullable = true)\n |-- sum_airport_fee: long (nullable = true)\n\n",
       "datasetInfos": [],
       "metadata": {},
       "removedWidgets": [],
       "type": "ansi"
      }
     },
     "output_type": "display_data"
    }
   ],
   "source": [
    "final=rename_cols(g)\n",
    "final.printSchema()"
   ]
  },
  {
   "cell_type": "code",
   "execution_count": 0,
   "metadata": {
    "application/vnd.databricks.v1+cell": {
     "inputWidgets": {},
     "nuid": "31f79f7e-b14f-4b15-b191-c8648e476f71",
     "showTitle": false,
     "title": ""
    }
   },
   "outputs": [],
   "source": [
    "display(final.drop(\"sum_VendorID\",\"sum_payment_type\",\"sum_passenger_count\"))"
   ]
  },
  {
   "cell_type": "code",
   "execution_count": 0,
   "metadata": {
    "application/vnd.databricks.v1+cell": {
     "inputWidgets": {},
     "nuid": "8d5c31f4-223b-4339-9f72-20b1a3c91155",
     "showTitle": false,
     "title": ""
    }
   },
   "outputs": [
    {
     "data": {
      "text/plain": [
       "Out[10]: ['VendorID',\n",
       " 'tpep_pickup_datetime',\n",
       " 'tpep_dropoff_datetime',\n",
       " 'passenger_count',\n",
       " 'trip_distance',\n",
       " 'payment_type',\n",
       " 'fare_amount',\n",
       " 'extra',\n",
       " 'mta_tax',\n",
       " 'tip_amount',\n",
       " 'tolls_amount',\n",
       " 'improvement_surcharge',\n",
       " 'total_amount',\n",
       " 'congestion_surcharge',\n",
       " 'airport_fee',\n",
       " 'date_format',\n",
       " 'Month']"
      ]
     },
     "metadata": {
      "application/vnd.databricks.v1+output": {
       "addedWidgets": {},
       "arguments": {},
       "data": "Out[10]: ['VendorID',\n 'tpep_pickup_datetime',\n 'tpep_dropoff_datetime',\n 'passenger_count',\n 'trip_distance',\n 'payment_type',\n 'fare_amount',\n 'extra',\n 'mta_tax',\n 'tip_amount',\n 'tolls_amount',\n 'improvement_surcharge',\n 'total_amount',\n 'congestion_surcharge',\n 'airport_fee',\n 'date_format',\n 'Month']",
       "datasetInfos": [],
       "metadata": {},
       "removedWidgets": [],
       "type": "ansi"
      }
     },
     "output_type": "display_data"
    }
   ],
   "source": [
    "month_level=df_corr.drop('RatecodeID',\n",
    " 'store_and_fwd_flag',\n",
    " 'PULocationID',\n",
    " 'DOLocationID',)\n",
    "month_level=month_level.withColumn(\"Month\",month(month_level.date_format))\n",
    "month_level=month_level.fillna({\"passenger_count\":1.0,\n",
    "                   \"congestion_surcharge\":2.5,  \n",
    "                  })\n",
    "month_level.columns"
   ]
  },
  {
   "cell_type": "code",
   "execution_count": 0,
   "metadata": {
    "application/vnd.databricks.v1+cell": {
     "inputWidgets": {},
     "nuid": "80c0b88a-7513-44bc-bfd9-4001c9b3b773",
     "showTitle": false,
     "title": ""
    }
   },
   "outputs": [
    {
     "data": {
      "text/plain": [
       "root\n",
       " |-- VendorID: long (nullable = true)\n",
       " |-- Mont: integer (nullable = true)\n",
       " |-- sum_VendorID: long (nullable = true)\n",
       " |-- sum_passenger_count: double (nullable = true)\n",
       " |-- sum_trip_distance: double (nullable = true)\n",
       " |-- sum_payment_type: long (nullable = true)\n",
       " |-- sum_fare_amount: double (nullable = true)\n",
       " |-- sum_extra: double (nullable = true)\n",
       " |-- sum_mta_tax: double (nullable = true)\n",
       " |-- sum_tip_amount: double (nullable = true)\n",
       " |-- sum_tolls_amount: double (nullable = true)\n",
       " |-- sum_improvement_surcharge: double (nullable = true)\n",
       " |-- sum_total_amount: double (nullable = true)\n",
       " |-- sum_congestion_surcharge: double (nullable = true)\n",
       " |-- sum_airport_fee: long (nullable = true)\n",
       " |-- sum_Month: long (nullable = true)\n",
       "\n"
      ]
     },
     "metadata": {
      "application/vnd.databricks.v1+output": {
       "addedWidgets": {},
       "arguments": {},
       "data": "root\n |-- VendorID: long (nullable = true)\n |-- Mont: integer (nullable = true)\n |-- sum_VendorID: long (nullable = true)\n |-- sum_passenger_count: double (nullable = true)\n |-- sum_trip_distance: double (nullable = true)\n |-- sum_payment_type: long (nullable = true)\n |-- sum_fare_amount: double (nullable = true)\n |-- sum_extra: double (nullable = true)\n |-- sum_mta_tax: double (nullable = true)\n |-- sum_tip_amount: double (nullable = true)\n |-- sum_tolls_amount: double (nullable = true)\n |-- sum_improvement_surcharge: double (nullable = true)\n |-- sum_total_amount: double (nullable = true)\n |-- sum_congestion_surcharge: double (nullable = true)\n |-- sum_airport_fee: long (nullable = true)\n |-- sum_Month: long (nullable = true)\n\n",
       "datasetInfos": [],
       "metadata": {},
       "removedWidgets": [],
       "type": "ansi"
      }
     },
     "output_type": "display_data"
    }
   ],
   "source": [
    "f=month_level.groupBy(\"VendorID\",\"Month\").sum()\n",
    "final2=rename_cols(f)\n",
    "final2.printSchema()\n"
   ]
  },
  {
   "cell_type": "code",
   "execution_count": 0,
   "metadata": {
    "application/vnd.databricks.v1+cell": {
     "inputWidgets": {},
     "nuid": "6a658c2f-d9f9-4b8b-9535-193afe25008e",
     "showTitle": false,
     "title": ""
    }
   },
   "outputs": [
    {
     "data": {
      "text/html": [
       "<style scoped>\n",
       "  .table-result-container {\n",
       "    max-height: 300px;\n",
       "    overflow: auto;\n",
       "  }\n",
       "  table, th, td {\n",
       "    border: 1px solid black;\n",
       "    border-collapse: collapse;\n",
       "  }\n",
       "  th, td {\n",
       "    padding: 5px;\n",
       "  }\n",
       "  th {\n",
       "    text-align: left;\n",
       "  }\n",
       "</style><div class='table-result-container'><table class='table-result'><thead style='background-color: white'><tr><th>VendorID</th><th>Mont</th><th>sum_trip_distance</th><th>sum_fare_amount</th><th>sum_extra</th><th>sum_mta_tax</th><th>sum_tip_amount</th><th>sum_tolls_amount</th><th>sum_improvement_surcharge</th><th>sum_total_amount</th><th>sum_congestion_surcharge</th><th>sum_airport_fee</th></tr></thead><tbody><tr><td>2</td><td>8</td><td>1.2825559939997597E7</td><td>5.432206477000523E7</td><td>1428884.7000000172</td><td>1932889.75</td><td>8681133.410006532</td><td>1727795.660010087</td><td>1168148.7000855682</td><td>7.808088176741132E7</td><td>8880404.0</td><td>null</td></tr><tr><td>5</td><td>1</td><td>285.6800000000001</td><td>1245.6000000000001</td><td>0.0</td><td>49.5</td><td>220.17000000000004</td><td>46.16</td><td>29.70000000000005</td><td>1410.5099999999998</td><td>247.5</td><td>null</td></tr><tr><td>1</td><td>1</td><td>7738709.10000006</td><td>3.607138492000035E7</td><td>973381.2000000001</td><td>1463008.1600000004</td><td>5200263.300002536</td><td>828683.6500009553</td><td>881517.6000410882</td><td>4.5418238829568855E7</td><td>4642730.0</td><td>null</td></tr><tr><td>2</td><td>6</td><td>1.4134425479996435E7</td><td>6.135793529000942E7</td><td>1527938.3600000106</td><td>2175797.5</td><td>1.016106653001961E7</td><td>1923840.9900131545</td><td>1314760.2001083218</td><td>8.844327686681466E7</td><td>1.002542825E7</td><td>null</td></tr><tr><td>2</td><td>9</td><td>1.3610311489996975E7</td><td>5.975131304000386E7</td><td>1527361.3500000222</td><td>2104219.2</td><td>9931022.890016945</td><td>1822876.660011463</td><td>1271598.6001016262</td><td>8.610885632705237E7</td><td>9762034.5</td><td>null</td></tr><tr><td>2</td><td>7</td><td>1.3070629219998507E7</td><td>5.6209058130004734E7</td><td>1475661.1000000155</td><td>2002161.01</td><td>9056172.78000944</td><td>1738726.3600103313</td><td>1211000.7000922195</td><td>8.086129094732818E7</td><td>9224474.5</td><td>null</td></tr><tr><td>2</td><td>3</td><td>1.5421740449998418E7</td><td>6.595954855002728E7</td><td>1702020.8000000145</td><td>2414141.25</td><td>1.0944588630031554E7</td><td>1958690.0600024883</td><td>1459723.2001308238</td><td>9.54435075362394E7</td><td>1.105897025E7</td><td>null</td></tr><tr><td>2</td><td>5</td><td>1.5108384169995522E7</td><td>6.606518659002966E7</td><td>1721331.1000000108</td><td>2364913.0</td><td>1.0980074160025079E7</td><td>2069197.230015553</td><td>1428489.9001259676</td><td>9.550523248636001E7</td><td>1.0921443E7</td><td>null</td></tr><tr><td>2</td><td>2</td><td>1.3237018359997438E7</td><td>5.6998947870031945E7</td><td>1509601.1000000099</td><td>2146157.5</td><td>9499749.37000949</td><td>1632507.6900019788</td><td>1296768.600105523</td><td>8.245782047714151E7</td><td>9424652.25</td><td>null</td></tr><tr><td>2</td><td>1</td><td>1.3846184569998171E7</td><td>5.947131271003062E7</td><td>1596370.0500000096</td><td>2319821.25</td><td>8675271.550004618</td><td>1633460.1400019906</td><td>1399253.4001214372</td><td>7.512604003727005E7</td><td>7398427.75</td><td>null</td></tr><tr><td>4</td><td>1</td><td>196555.00999999887</td><td>888350.34</td><td>27051.0</td><td>38351.5</td><td>138269.6500000105</td><td>23384.629999998793</td><td>23043.899999967485</td><td>1138440.220000833</td><td>169750.0</td><td>null</td></tr><tr><td>2</td><td>4</td><td>1.4721684769997722E7</td><td>6.363266757003882E7</td><td>1747019.0500000147</td><td>2307244.5</td><td>1.0451773040022526E7</td><td>1953003.650013777</td><td>1395086.5001207895</td><td>9.206866099647176E7</td><td>1.0659689E7</td><td>null</td></tr><tr><td>1</td><td>2</td><td>7193553.399999791</td><td>3.3181254950000357E7</td><td>6683884.529999998</td><td>1320231.3800000001</td><td>5576012.360002532</td><td>808889.3100009152</td><td>796004.4000278148</td><td>4.836627692950592E7</td><td>5797905.0</td><td>null</td></tr><tr><td>4</td><td>2</td><td>133857.62999999893</td><td>614933.0299999999</td><td>19150.0</td><td>25773.5</td><td>110918.86000000741</td><td>15935.270000000457</td><td>15494.099999985796</td><td>919832.2600004047</td><td>117627.5</td><td>null</td></tr><tr><td>5</td><td>2</td><td>392.81000000000006</td><td>1492.9700000000005</td><td>0.0</td><td>34.0</td><td>281.61</td><td>105.64000000000003</td><td>20.400000000000027</td><td>2077.1199999999994</td><td>170.0</td><td>null</td></tr><tr><td>5</td><td>3</td><td>389.79</td><td>1365.6100000000006</td><td>0.0</td><td>22.0</td><td>199.21000000000004</td><td>73.86</td><td>13.800000000000011</td><td>1766.9800000000002</td><td>115.0</td><td>null</td></tr><tr><td>4</td><td>3</td><td>113667.09000000112</td><td>515474.0899999999</td><td>15626.0</td><td>20921.0</td><td>91287.24000000587</td><td>13298.390000000389</td><td>12578.099999992868</td><td>768547.3200001979</td><td>99362.5</td><td>null</td></tr><tr><td>1</td><td>3</td><td>8245954.099999114</td><td>3.8172580500000075E7</td><td>7782914.3100000005</td><td>1458324.8100000003</td><td>6446596.860003813</td><td>954021.3100010694</td><td>879541.5000407815</td><td>5.5693979288941935E7</td><td>6793545.0</td><td>null</td></tr><tr><td>1</td><td>4</td><td>7914195.199999023</td><td>3.59022740100006E7</td><td>7374860.0700000515</td><td>1375543.4000000004</td><td>5926994.040002595</td><td>967823.9099994577</td><td>829922.1000330795</td><td>5.2377417529256366E7</td><td>6404495.0</td><td>null</td></tr><tr><td>4</td><td>4</td><td>90169.01999999903</td><td>404229.05999999994</td><td>12747.5</td><td>15892.0</td><td>71348.47000000234</td><td>11961.180000000322</td><td>9558.90000000019</td><td>600584.6099999828</td><td>74847.5</td><td>null</td></tr><tr><td>5</td><td>4</td><td>168.23</td><td>659.1199999999999</td><td>0.0</td><td>8.0</td><td>87.54</td><td>43.74</td><td>5.099999999999999</td><td>835.9999999999999</td><td>42.5</td><td>null</td></tr><tr><td>2</td><td>10</td><td>1.4731866529996734E7</td><td>6.5552430870002545E7</td><td>1733841.1500000306</td><td>2328764.0</td><td>1.099074759002545E7</td><td>1963358.7400137603</td><td>1408137.0001228063</td><td>9.47624006465018E7</td><td>1.0871409E7</td><td>null</td></tr><tr><td>1</td><td>5</td><td>8091183.099999546</td><td>3.668721892999986E7</td><td>7347653.100000001</td><td>1379804.34</td><td>6046355.5600025235</td><td>1035572.0099994168</td><td>832889.7000335401</td><td>5.332949363919008E7</td><td>6393688.3</td><td>null</td></tr><tr><td>2</td><td>12</td><td>1.409625583999915E7</td><td>6.327324262000404E7</td><td>1644507.240000038</td><td>2263094.5</td><td>1.0519599150016775E7</td><td>1858294.5700118253</td><td>1370313.9001169482</td><td>9.140920510645653E7</td><td>1.0563052E7</td><td>null</td></tr><tr><td>4</td><td>5</td><td>85691.98000000016</td><td>381823.6200000001</td><td>11117.0</td><td>14124.0</td><td>65594.47000000151</td><td>11904.550000000292</td><td>8499.30000000276</td><td>558983.6799999257</td><td>65922.5</td><td>null</td></tr><tr><td>2</td><td>11</td><td>1.3681308489998884E7</td><td>6.165199363000389E7</td><td>1546650.4000000276</td><td>2237493.75</td><td>1.0417013440020273E7</td><td>1774916.2200107293</td><td>1353423.3001143218</td><td>8.93672552367005E7</td><td>1.04739655E7</td><td>null</td></tr><tr><td>5</td><td>5</td><td>53.98</td><td>214.81999999999996</td><td>0.0</td><td>4.5</td><td>36.05</td><td>25.62</td><td>2.9999999999999996</td><td>301.49</td><td>25.0</td><td>null</td></tr><tr><td>4</td><td>6</td><td>78042.44999999947</td><td>346576.66</td><td>9747.5</td><td>12805.0</td><td>61135.72000000169</td><td>10554.340000000157</td><td>7703.40000000321</td><td>508764.78999990126</td><td>60237.5</td><td>null</td></tr><tr><td>1</td><td>6</td><td>7471331.799999705</td><td>3.4274161809997104E7</td><td>6615677.999999999</td><td>1256605.979999986</td><td>5506949.560001987</td><td>952921.4099994587</td><td>758405.4000219787</td><td>4.9364722159471035E7</td><td>5777486.0</td><td>null</td></tr><tr><td>5</td><td>6</td><td>47.269999999999996</td><td>147.35</td><td>0.0</td><td>2.5</td><td>25.770000000000003</td><td>18.36</td><td>1.5</td><td>207.98000000000002</td><td>12.5</td><td>null</td></tr><tr><td>1</td><td>7</td><td>6522266.9000005005</td><td>2.9532931899994876E7</td><td>5864671.470000001</td><td>1107855.3000000003</td><td>4700036.310001331</td><td>816158.3299995366</td><td>669150.3000081244</td><td>4.269080360988261E7</td><td>5097694.0</td><td>null</td></tr><tr><td>4</td><td>7</td><td>33047.85999999998</td><td>141619.32</td><td>4450.0</td><td>5231.0</td><td>24758.499999999996</td><td>4277.659999999952</td><td>3146.400000000447</td><td>207880.7699999878</td><td>24397.5</td><td>null</td></tr><tr><td>5</td><td>7</td><td>53.61</td><td>213.62000000000006</td><td>0.0</td><td>3.5</td><td>41.260000000000005</td><td>0.0</td><td>2.4</td><td>278.28000000000003</td><td>20.0</td><td>null</td></tr><tr><td>4</td><td>8</td><td>2562.7200000000003</td><td>8601.61</td><td>136.5</td><td>136.5</td><td>1643.3199999999995</td><td>749.3000000000004</td><td>82.49999999999957</td><td>11849.729999999983</td><td>500.0</td><td>null</td></tr><tr><td>5</td><td>8</td><td>10.98</td><td>48.59</td><td>0.0</td><td>1.5</td><td>8.8</td><td>0.0</td><td>0.8999999999999999</td><td>64.78999999999999</td><td>7.5</td><td>null</td></tr><tr><td>1</td><td>8</td><td>6378975.799999664</td><td>2.8789117509993706E7</td><td>5624957.84</td><td>1064161.81</td><td>4475915.020001138</td><td>822435.3999995356</td><td>643102.2000040812</td><td>4.141968977996025E7</td><td>4891011.0</td><td>null</td></tr><tr><td>4</td><td>9</td><td>230.71999999999997</td><td>776.0</td><td>9.0</td><td>13.0</td><td>84.85</td><td>73.44</td><td>7.799999999999997</td><td>1006.5899999999997</td><td>42.5</td><td>null</td></tr><tr><td>1</td><td>9</td><td>6663759.899999582</td><td>3.0960931729993895E7</td><td>6031281.78</td><td>1138295.2900000007</td><td>5029301.8000015225</td><td>859698.4599995174</td><td>687837.300011025</td><td>4.47073463597721E7</td><td>5265871.5</td><td>null</td></tr><tr><td>5</td><td>9</td><td>8.48</td><td>45.43</td><td>0.0</td><td>1.5</td><td>4.52</td><td>0.0</td><td>0.8999999999999999</td><td>59.85000000000001</td><td>7.5</td><td>null</td></tr><tr><td>5</td><td>10</td><td>52.779999999999994</td><td>168.01</td><td>0.0</td><td>1.5</td><td>28.05</td><td>28.799999999999997</td><td>0.8999999999999999</td><td>232.26</td><td>7.5</td><td>null</td></tr><tr><td>1</td><td>10</td><td>7030865.499999785</td><td>3.2801039759995893E7</td><td>6580172.9899999965</td><td>1231622.0200000003</td><td>5465960.130001877</td><td>906741.4399994946</td><td>743952.3000197352</td><td>4.772948863959065E7</td><td>5739575.3</td><td>null</td></tr><tr><td>1</td><td>11</td><td>6462569.900000136</td><td>3.0292880789994437E7</td><td>6093347.69</td><td>1154255.2200000002</td><td>5066681.780001319</td><td>807631.8899995486</td><td>697362.6000125036</td><td>4.411215996970696E7</td><td>5370411.5</td><td>null</td></tr><tr><td>5</td><td>11</td><td>36.11</td><td>145.6</td><td>0.0</td><td>3.0</td><td>4.37</td><td>0.0</td><td>1.8</td><td>164.76999999999998</td><td>15.0</td><td>null</td></tr><tr><td>1</td><td>12</td><td>6408686.500000021</td><td>3.044683455999383E7</td><td>6000081.71</td><td>1132680.1600000015</td><td>4959798.810001551</td><td>818178.9699995498</td><td>684645.0000105295</td><td>4.404221920964065E7</td><td>5254712.0</td><td>null</td></tr><tr><td>5</td><td>12</td><td>48.86999999999999</td><td>202.71999999999997</td><td>0.0</td><td>4.0</td><td>31.590000000000003</td><td>24.02</td><td>2.4</td><td>279.73</td><td>20.0</td><td>null</td></tr></tbody></table></div>"
      ]
     },
     "metadata": {
      "application/vnd.databricks.v1+output": {
       "addedWidgets": {},
       "aggData": [],
       "aggError": "",
       "aggOverflow": false,
       "aggSchema": [],
       "aggSeriesLimitReached": false,
       "aggType": "",
       "arguments": {},
       "columnCustomDisplayInfos": {},
       "data": [
        [
         2,
         8,
         12825559.939997597,
         54322064.77000523,
         1428884.7000000172,
         1932889.75,
         8681133.410006532,
         1727795.660010087,
         1168148.7000855682,
         78080881.76741132,
         8880404,
         null
        ],
        [
         5,
         1,
         285.6800000000001,
         1245.6000000000001,
         0,
         49.5,
         220.17000000000004,
         46.16,
         29.70000000000005,
         1410.5099999999998,
         247.5,
         null
        ],
        [
         1,
         1,
         7738709.10000006,
         36071384.92000035,
         973381.2000000001,
         1463008.1600000004,
         5200263.300002536,
         828683.6500009553,
         881517.6000410882,
         45418238.829568855,
         4642730,
         null
        ],
        [
         2,
         6,
         14134425.479996435,
         61357935.29000942,
         1527938.3600000106,
         2175797.5,
         10161066.53001961,
         1923840.9900131545,
         1314760.2001083218,
         88443276.86681466,
         10025428.25,
         null
        ],
        [
         2,
         9,
         13610311.489996975,
         59751313.04000386,
         1527361.3500000222,
         2104219.2,
         9931022.890016945,
         1822876.660011463,
         1271598.6001016262,
         86108856.32705237,
         9762034.5,
         null
        ],
        [
         2,
         7,
         13070629.219998507,
         56209058.130004734,
         1475661.1000000155,
         2002161.01,
         9056172.78000944,
         1738726.3600103313,
         1211000.7000922195,
         80861290.94732818,
         9224474.5,
         null
        ],
        [
         2,
         3,
         15421740.449998418,
         65959548.55002728,
         1702020.8000000145,
         2414141.25,
         10944588.630031554,
         1958690.0600024883,
         1459723.2001308238,
         95443507.5362394,
         11058970.25,
         null
        ],
        [
         2,
         5,
         15108384.169995522,
         66065186.59002966,
         1721331.1000000108,
         2364913,
         10980074.160025079,
         2069197.230015553,
         1428489.9001259676,
         95505232.48636001,
         10921443,
         null
        ],
        [
         2,
         2,
         13237018.359997438,
         56998947.870031945,
         1509601.1000000099,
         2146157.5,
         9499749.37000949,
         1632507.6900019788,
         1296768.600105523,
         82457820.47714151,
         9424652.25,
         null
        ],
        [
         2,
         1,
         13846184.569998171,
         59471312.71003062,
         1596370.0500000096,
         2319821.25,
         8675271.550004618,
         1633460.1400019906,
         1399253.4001214372,
         75126040.03727005,
         7398427.75,
         null
        ],
        [
         4,
         1,
         196555.00999999887,
         888350.34,
         27051,
         38351.5,
         138269.6500000105,
         23384.629999998793,
         23043.899999967485,
         1138440.220000833,
         169750,
         null
        ],
        [
         2,
         4,
         14721684.769997722,
         63632667.57003882,
         1747019.0500000147,
         2307244.5,
         10451773.040022526,
         1953003.650013777,
         1395086.5001207895,
         92068660.99647176,
         10659689,
         null
        ],
        [
         1,
         2,
         7193553.399999791,
         33181254.950000357,
         6683884.529999998,
         1320231.3800000001,
         5576012.360002532,
         808889.3100009152,
         796004.4000278148,
         48366276.92950592,
         5797905,
         null
        ],
        [
         4,
         2,
         133857.62999999893,
         614933.0299999999,
         19150,
         25773.5,
         110918.86000000741,
         15935.270000000457,
         15494.099999985796,
         919832.2600004047,
         117627.5,
         null
        ],
        [
         5,
         2,
         392.81000000000006,
         1492.9700000000005,
         0,
         34,
         281.61,
         105.64000000000003,
         20.400000000000027,
         2077.1199999999994,
         170,
         null
        ],
        [
         5,
         3,
         389.79,
         1365.6100000000006,
         0,
         22,
         199.21000000000004,
         73.86,
         13.800000000000011,
         1766.9800000000002,
         115,
         null
        ],
        [
         4,
         3,
         113667.09000000112,
         515474.0899999999,
         15626,
         20921,
         91287.24000000587,
         13298.390000000389,
         12578.099999992868,
         768547.3200001979,
         99362.5,
         null
        ],
        [
         1,
         3,
         8245954.099999114,
         38172580.500000075,
         7782914.3100000005,
         1458324.8100000003,
         6446596.860003813,
         954021.3100010694,
         879541.5000407815,
         55693979.288941935,
         6793545,
         null
        ],
        [
         1,
         4,
         7914195.199999023,
         35902274.0100006,
         7374860.0700000515,
         1375543.4000000004,
         5926994.040002595,
         967823.9099994577,
         829922.1000330795,
         52377417.529256366,
         6404495,
         null
        ],
        [
         4,
         4,
         90169.01999999903,
         404229.05999999994,
         12747.5,
         15892,
         71348.47000000234,
         11961.180000000322,
         9558.90000000019,
         600584.6099999828,
         74847.5,
         null
        ],
        [
         5,
         4,
         168.23,
         659.1199999999999,
         0,
         8,
         87.54,
         43.74,
         5.099999999999999,
         835.9999999999999,
         42.5,
         null
        ],
        [
         2,
         10,
         14731866.529996734,
         65552430.870002545,
         1733841.1500000306,
         2328764,
         10990747.59002545,
         1963358.7400137603,
         1408137.0001228063,
         94762400.6465018,
         10871409,
         null
        ],
        [
         1,
         5,
         8091183.099999546,
         36687218.92999986,
         7347653.100000001,
         1379804.34,
         6046355.5600025235,
         1035572.0099994168,
         832889.7000335401,
         53329493.63919008,
         6393688.3,
         null
        ],
        [
         2,
         12,
         14096255.83999915,
         63273242.62000404,
         1644507.240000038,
         2263094.5,
         10519599.150016775,
         1858294.5700118253,
         1370313.9001169482,
         91409205.10645653,
         10563052,
         null
        ],
        [
         4,
         5,
         85691.98000000016,
         381823.6200000001,
         11117,
         14124,
         65594.47000000151,
         11904.550000000292,
         8499.30000000276,
         558983.6799999257,
         65922.5,
         null
        ],
        [
         2,
         11,
         13681308.489998884,
         61651993.63000389,
         1546650.4000000276,
         2237493.75,
         10417013.440020273,
         1774916.2200107293,
         1353423.3001143218,
         89367255.2367005,
         10473965.5,
         null
        ],
        [
         5,
         5,
         53.98,
         214.81999999999996,
         0,
         4.5,
         36.05,
         25.62,
         2.9999999999999996,
         301.49,
         25,
         null
        ],
        [
         4,
         6,
         78042.44999999947,
         346576.66,
         9747.5,
         12805,
         61135.72000000169,
         10554.340000000157,
         7703.40000000321,
         508764.78999990126,
         60237.5,
         null
        ],
        [
         1,
         6,
         7471331.799999705,
         34274161.809997104,
         6615677.999999999,
         1256605.979999986,
         5506949.560001987,
         952921.4099994587,
         758405.4000219787,
         49364722.159471035,
         5777486,
         null
        ],
        [
         5,
         6,
         47.269999999999996,
         147.35,
         0,
         2.5,
         25.770000000000003,
         18.36,
         1.5,
         207.98000000000002,
         12.5,
         null
        ],
        [
         1,
         7,
         6522266.9000005005,
         29532931.899994876,
         5864671.470000001,
         1107855.3000000003,
         4700036.310001331,
         816158.3299995366,
         669150.3000081244,
         42690803.60988261,
         5097694,
         null
        ],
        [
         4,
         7,
         33047.85999999998,
         141619.32,
         4450,
         5231,
         24758.499999999996,
         4277.659999999952,
         3146.400000000447,
         207880.7699999878,
         24397.5,
         null
        ],
        [
         5,
         7,
         53.61,
         213.62000000000006,
         0,
         3.5,
         41.260000000000005,
         0,
         2.4,
         278.28000000000003,
         20,
         null
        ],
        [
         4,
         8,
         2562.7200000000003,
         8601.61,
         136.5,
         136.5,
         1643.3199999999995,
         749.3000000000004,
         82.49999999999957,
         11849.729999999983,
         500,
         null
        ],
        [
         5,
         8,
         10.98,
         48.59,
         0,
         1.5,
         8.8,
         0,
         0.8999999999999999,
         64.78999999999999,
         7.5,
         null
        ],
        [
         1,
         8,
         6378975.799999664,
         28789117.509993706,
         5624957.84,
         1064161.81,
         4475915.020001138,
         822435.3999995356,
         643102.2000040812,
         41419689.77996025,
         4891011,
         null
        ],
        [
         4,
         9,
         230.71999999999997,
         776,
         9,
         13,
         84.85,
         73.44,
         7.799999999999997,
         1006.5899999999997,
         42.5,
         null
        ],
        [
         1,
         9,
         6663759.899999582,
         30960931.729993895,
         6031281.78,
         1138295.2900000007,
         5029301.8000015225,
         859698.4599995174,
         687837.300011025,
         44707346.3597721,
         5265871.5,
         null
        ],
        [
         5,
         9,
         8.48,
         45.43,
         0,
         1.5,
         4.52,
         0,
         0.8999999999999999,
         59.85000000000001,
         7.5,
         null
        ],
        [
         5,
         10,
         52.779999999999994,
         168.01,
         0,
         1.5,
         28.05,
         28.799999999999997,
         0.8999999999999999,
         232.26,
         7.5,
         null
        ],
        [
         1,
         10,
         7030865.499999785,
         32801039.759995893,
         6580172.9899999965,
         1231622.0200000003,
         5465960.130001877,
         906741.4399994946,
         743952.3000197352,
         47729488.63959065,
         5739575.3,
         null
        ],
        [
         1,
         11,
         6462569.900000136,
         30292880.789994437,
         6093347.69,
         1154255.2200000002,
         5066681.780001319,
         807631.8899995486,
         697362.6000125036,
         44112159.96970696,
         5370411.5,
         null
        ],
        [
         5,
         11,
         36.11,
         145.6,
         0,
         3,
         4.37,
         0,
         1.8,
         164.76999999999998,
         15,
         null
        ],
        [
         1,
         12,
         6408686.500000021,
         30446834.55999383,
         6000081.71,
         1132680.1600000015,
         4959798.810001551,
         818178.9699995498,
         684645.0000105295,
         44042219.20964065,
         5254712,
         null
        ],
        [
         5,
         12,
         48.86999999999999,
         202.71999999999997,
         0,
         4,
         31.590000000000003,
         24.02,
         2.4,
         279.73,
         20,
         null
        ]
       ],
       "datasetInfos": [],
       "dbfsResultPath": null,
       "isJsonSchema": true,
       "metadata": {},
       "overflow": false,
       "plotOptions": {
        "customPlotOptions": {},
        "displayType": "table",
        "pivotAggregation": null,
        "pivotColumns": null,
        "xColumns": null,
        "yColumns": null
       },
       "removedWidgets": [],
       "schema": [
        {
         "metadata": "{}",
         "name": "VendorID",
         "type": "\"long\""
        },
        {
         "metadata": "{}",
         "name": "Mont",
         "type": "\"integer\""
        },
        {
         "metadata": "{}",
         "name": "sum_trip_distance",
         "type": "\"double\""
        },
        {
         "metadata": "{}",
         "name": "sum_fare_amount",
         "type": "\"double\""
        },
        {
         "metadata": "{}",
         "name": "sum_extra",
         "type": "\"double\""
        },
        {
         "metadata": "{}",
         "name": "sum_mta_tax",
         "type": "\"double\""
        },
        {
         "metadata": "{}",
         "name": "sum_tip_amount",
         "type": "\"double\""
        },
        {
         "metadata": "{}",
         "name": "sum_tolls_amount",
         "type": "\"double\""
        },
        {
         "metadata": "{}",
         "name": "sum_improvement_surcharge",
         "type": "\"double\""
        },
        {
         "metadata": "{}",
         "name": "sum_total_amount",
         "type": "\"double\""
        },
        {
         "metadata": "{}",
         "name": "sum_congestion_surcharge",
         "type": "\"double\""
        },
        {
         "metadata": "{}",
         "name": "sum_airport_fee",
         "type": "\"long\""
        }
       ],
       "type": "table"
      }
     },
     "output_type": "display_data"
    }
   ],
   "source": [
    "display(final2.drop(\"sum_VendorID\",\"sum_payment_type\",\"sum_Month\",\"sum_passenger_count\"))"
   ]
  },
  {
   "cell_type": "code",
   "execution_count": 0,
   "metadata": {
    "application/vnd.databricks.v1+cell": {
     "inputWidgets": {},
     "nuid": "be44cad3-8cac-4d1c-adc4-cfb087b9adde",
     "showTitle": false,
     "title": ""
    }
   },
   "outputs": [
    {
     "data": {
      "text/plain": [
       "+--------+-----+-------------------------+\n",
       "|VendorID|Month|avg(congestion_surcharge)|\n",
       "+--------+-----+-------------------------+\n",
       "|       5|   12|                      2.5|\n",
       "|       1|   12|        2.301466098925982|\n",
       "|       2|   12|       2.2898577555082156|\n",
       "|       2|   11|       2.3007396702511227|\n",
       "|       5|   11|                      2.5|\n",
       "|       1|   11|       2.3094858841879424|\n",
       "|       1|   10|       2.3137281958316755|\n",
       "|       2|   10|       2.2967218808453715|\n",
       "|       5|   10|                      2.5|\n",
       "|       5|    9|                      2.5|\n",
       "|       2|    9|        2.284518289420906|\n",
       "|       1|    9|        2.295024391221862|\n",
       "|       4|    9|       1.6346153846153846|\n",
       "|       4|    8|       1.8181818181818181|\n",
       "|       2|    8|       2.2617148570842067|\n",
       "|       5|    8|                      2.5|\n",
       "|       1|    8|       2.2786958490650426|\n",
       "|       2|    7|        2.268817562656751|\n",
       "|       4|    7|        2.326229977116705|\n",
       "|       5|    7|                      2.5|\n",
       "|       1|    7|       2.2817488967677164|\n",
       "|       2|    6|        2.271692375914246|\n",
       "|       1|    6|        2.281378457417193|\n",
       "|       5|    6|                      2.5|\n",
       "|       4|    6|       2.3458797414128827|\n",
       "|       2|    5|       2.2793697749169297|\n",
       "|       5|    5|                      2.5|\n",
       "|       1|    5|       2.3009092165371245|\n",
       "|       4|    5|        2.326457509881423|\n",
       "|       1|    4|       2.3142015736366184|\n",
       "|       4|    4|       2.3485252588641354|\n",
       "|       5|    4|                      2.5|\n",
       "|       2|    4|       2.2793687375670815|\n",
       "|       2|    3|       2.2607117837184565|\n",
       "|       5|    3|                      2.5|\n",
       "|       4|    3|        2.369497305289264|\n",
       "|       1|    3|       2.3165517008563357|\n",
       "|       1|    2|       2.1847014883193046|\n",
       "|       4|    2|       2.2773959341723136|\n",
       "|       2|    2|       2.1697820399420387|\n",
       "|       5|    2|                      2.5|\n",
       "|       5|    1|                      2.5|\n",
       "|       1|    1|        1.579816508766569|\n",
       "|       2|    1|       1.5806275890947703|\n",
       "|       4|    1|       2.2096247217630136|\n",
       "+--------+-----+-------------------------+\n",
       "\n"
      ]
     },
     "metadata": {
      "application/vnd.databricks.v1+output": {
       "addedWidgets": {},
       "arguments": {},
       "data": "+--------+-----+-------------------------+\n|VendorID|Month|avg(congestion_surcharge)|\n+--------+-----+-------------------------+\n|       5|   12|                      2.5|\n|       1|   12|        2.301466098925982|\n|       2|   12|       2.2898577555082156|\n|       2|   11|       2.3007396702511227|\n|       5|   11|                      2.5|\n|       1|   11|       2.3094858841879424|\n|       1|   10|       2.3137281958316755|\n|       2|   10|       2.2967218808453715|\n|       5|   10|                      2.5|\n|       5|    9|                      2.5|\n|       2|    9|        2.284518289420906|\n|       1|    9|        2.295024391221862|\n|       4|    9|       1.6346153846153846|\n|       4|    8|       1.8181818181818181|\n|       2|    8|       2.2617148570842067|\n|       5|    8|                      2.5|\n|       1|    8|       2.2786958490650426|\n|       2|    7|        2.268817562656751|\n|       4|    7|        2.326229977116705|\n|       5|    7|                      2.5|\n|       1|    7|       2.2817488967677164|\n|       2|    6|        2.271692375914246|\n|       1|    6|        2.281378457417193|\n|       5|    6|                      2.5|\n|       4|    6|       2.3458797414128827|\n|       2|    5|       2.2793697749169297|\n|       5|    5|                      2.5|\n|       1|    5|       2.3009092165371245|\n|       4|    5|        2.326457509881423|\n|       1|    4|       2.3142015736366184|\n|       4|    4|       2.3485252588641354|\n|       5|    4|                      2.5|\n|       2|    4|       2.2793687375670815|\n|       2|    3|       2.2607117837184565|\n|       5|    3|                      2.5|\n|       4|    3|        2.369497305289264|\n|       1|    3|       2.3165517008563357|\n|       1|    2|       2.1847014883193046|\n|       4|    2|       2.2773959341723136|\n|       2|    2|       2.1697820399420387|\n|       5|    2|                      2.5|\n|       5|    1|                      2.5|\n|       1|    1|        1.579816508766569|\n|       2|    1|       1.5806275890947703|\n|       4|    1|       2.2096247217630136|\n+--------+-----+-------------------------+\n\n",
       "datasetInfos": [],
       "metadata": {},
       "removedWidgets": [],
       "type": "ansi"
      }
     },
     "output_type": "display_data"
    }
   ],
   "source": [
    "avg_month=df_corr.drop('RatecodeID',\n",
    " 'store_and_fwd_flag',\n",
    " 'PULocationID',\n",
    " 'DOLocationID',)\n",
    "avg_month=avg_month.withColumn(\"Month\",month(month_level.date_format))\n",
    "avg_month=avg_month.fillna({\"passenger_count\":1.0,\n",
    "                   \"congestion_surcharge\":2.5,  \n",
    "                  })\n",
    "avg_month.columns\n",
    "avg_month.groupby(\"VendorID\",\"Month\").agg({\"congestion_surcharge\":\"avg\"}).alias('Avg_congestion_surcharge').orderBy(\"Month\", ascending=False).show(100)\n",
    "  "
   ]
  },
  {
   "cell_type": "code",
   "execution_count": 0,
   "metadata": {
    "application/vnd.databricks.v1+cell": {
     "inputWidgets": {},
     "nuid": "b4dce500-310a-48ab-80ac-f43c8355776f",
     "showTitle": false,
     "title": ""
    }
   },
   "outputs": [
    {
     "data": {
      "text/plain": [
       "+--------+-----+--------------------+\n",
       "|VendorID|Month|sum(passenger_count)|\n",
       "+--------+-----+--------------------+\n",
       "|       2|    1|           8428590.0|\n",
       "|       4|    1|             78704.0|\n",
       "|       5|    1|                99.0|\n",
       "|       1|    1|           3536755.0|\n",
       "|       1|    2|           3198458.0|\n",
       "|       4|    2|             52934.0|\n",
       "|       5|    2|                68.0|\n",
       "|       2|    2|           7807682.0|\n",
       "|       1|    3|           3573563.0|\n",
       "|       2|    3|           8754361.0|\n",
       "|       5|    3|                46.0|\n",
       "|       4|    3|             43528.0|\n",
       "|       1|    4|           3411199.0|\n",
       "|       4|    4|             33126.0|\n",
       "|       2|    4|           8292821.0|\n",
       "|       5|    4|                17.0|\n",
       "|       4|    5|             29740.0|\n",
       "|       1|    5|           3408856.0|\n",
       "|       5|    5|                10.0|\n",
       "|       2|    5|           8467842.0|\n",
       "|       2|    6|           7737157.0|\n",
       "|       1|    6|           3144416.0|\n",
       "|       5|    6|                 5.0|\n",
       "|       4|    6|             27136.0|\n",
       "|       4|    7|             11216.0|\n",
       "|       5|    7|                 8.0|\n",
       "|       2|    7|           7103533.0|\n",
       "|       1|    7|           2786056.0|\n",
       "|       4|    8|               275.0|\n",
       "|       5|    8|                 3.0|\n",
       "|       2|    8|           6837220.0|\n",
       "|       1|    8|           2701915.0|\n",
       "|       2|    9|           7345831.0|\n",
       "|       5|    9|                 3.0|\n",
       "|       4|    9|                26.0|\n",
       "|       1|    9|           2811269.0|\n",
       "|       1|   10|           3044087.0|\n",
       "|       2|   10|           8032386.0|\n",
       "|       5|   10|                 3.0|\n",
       "|       5|   11|                 6.0|\n",
       "|       2|   11|           7696083.0|\n",
       "|       1|   11|           2882587.0|\n",
       "|       2|   12|           7753219.0|\n",
       "|       1|   12|           2913727.0|\n",
       "|       5|   12|                 8.0|\n",
       "+--------+-----+--------------------+\n",
       "\n"
      ]
     },
     "metadata": {
      "application/vnd.databricks.v1+output": {
       "addedWidgets": {},
       "arguments": {},
       "data": "+--------+-----+--------------------+\n|VendorID|Month|sum(passenger_count)|\n+--------+-----+--------------------+\n|       2|    1|           8428590.0|\n|       4|    1|             78704.0|\n|       5|    1|                99.0|\n|       1|    1|           3536755.0|\n|       1|    2|           3198458.0|\n|       4|    2|             52934.0|\n|       5|    2|                68.0|\n|       2|    2|           7807682.0|\n|       1|    3|           3573563.0|\n|       2|    3|           8754361.0|\n|       5|    3|                46.0|\n|       4|    3|             43528.0|\n|       1|    4|           3411199.0|\n|       4|    4|             33126.0|\n|       2|    4|           8292821.0|\n|       5|    4|                17.0|\n|       4|    5|             29740.0|\n|       1|    5|           3408856.0|\n|       5|    5|                10.0|\n|       2|    5|           8467842.0|\n|       2|    6|           7737157.0|\n|       1|    6|           3144416.0|\n|       5|    6|                 5.0|\n|       4|    6|             27136.0|\n|       4|    7|             11216.0|\n|       5|    7|                 8.0|\n|       2|    7|           7103533.0|\n|       1|    7|           2786056.0|\n|       4|    8|               275.0|\n|       5|    8|                 3.0|\n|       2|    8|           6837220.0|\n|       1|    8|           2701915.0|\n|       2|    9|           7345831.0|\n|       5|    9|                 3.0|\n|       4|    9|                26.0|\n|       1|    9|           2811269.0|\n|       1|   10|           3044087.0|\n|       2|   10|           8032386.0|\n|       5|   10|                 3.0|\n|       5|   11|                 6.0|\n|       2|   11|           7696083.0|\n|       1|   11|           2882587.0|\n|       2|   12|           7753219.0|\n|       1|   12|           2913727.0|\n|       5|   12|                 8.0|\n+--------+-----+--------------------+\n\n",
       "datasetInfos": [],
       "metadata": {},
       "removedWidgets": [],
       "type": "ansi"
      }
     },
     "output_type": "display_data"
    }
   ],
   "source": [
    "pass_month=df_corr.drop('RatecodeID',\n",
    " 'store_and_fwd_flag',\n",
    " 'PULocationID',\n",
    " 'DOLocationID',)\n",
    "pass_month=pass_month.withColumn(\"Month\",month(month_level.date_format))\n",
    "pass_month=pass_month.fillna({\"passenger_count\":1.0,\n",
    "                   \"congestion_surcharge\":2.5,  \n",
    "                  })\n",
    "pass_month.columns\n",
    "pass_month.groupby(\"VendorID\",\"Month\").agg({\"passenger_count\":\"sum\"}).alias('Total_passenger_count').orderBy(\"Month\").show(100)"
   ]
  },
  {
   "cell_type": "code",
   "execution_count": 0,
   "metadata": {
    "application/vnd.databricks.v1+cell": {
     "inputWidgets": {},
     "nuid": "a52b82c2-dc95-41ae-a4a6-67e0fd174b85",
     "showTitle": false,
     "title": ""
    }
   },
   "outputs": [],
   "source": [
    "trip_hour=df_corr.drop('RatecodeID',\n",
    " 'store_and_fwd_flag',\n",
    " 'PULocationID',\n",
    " 'DOLocationID',)\n",
    "trip_hour=trip_hour.fillna({\"passenger_count\":1.0,\n",
    "                   \"congestion_surcharge\":2.5,  \n",
    "                  })\n",
    "\n",
    "#trip_hour.columns\n",
    "from pyspark.sql import functions as F\n",
    "trip_hour=trip_hour.withColumn(\"hour\", F.date_trunc('hour',F.to_timestamp(\"tpep_pickup_datetime\",\"yyyy-MM-dd HH:mm:ss 'UTC'\")))\n",
    "trip_hour=trip_hour.withColumn(\"hour2\", hour(trip_hour.tpep_pickup_datetime))"
   ]
  },
  {
   "cell_type": "code",
   "execution_count": 0,
   "metadata": {
    "application/vnd.databricks.v1+cell": {
     "inputWidgets": {},
     "nuid": "0c3975bf-1f33-487c-89c3-80faa36cf5c6",
     "showTitle": false,
     "title": ""
    }
   },
   "outputs": [
    {
     "data": {
      "text/plain": [
       "root\n",
       " |-- VendorID: long (nullable = true)\n",
       " |-- tpep_pickup_datetime: timestamp (nullable = true)\n",
       " |-- tpep_dropoff_datetime: timestamp (nullable = true)\n",
       " |-- passenger_count: double (nullable = false)\n",
       " |-- trip_distance: double (nullable = true)\n",
       " |-- payment_type: long (nullable = true)\n",
       " |-- fare_amount: double (nullable = true)\n",
       " |-- extra: double (nullable = true)\n",
       " |-- mta_tax: double (nullable = true)\n",
       " |-- tip_amount: double (nullable = true)\n",
       " |-- tolls_amount: double (nullable = true)\n",
       " |-- improvement_surcharge: double (nullable = true)\n",
       " |-- total_amount: double (nullable = true)\n",
       " |-- congestion_surcharge: double (nullable = false)\n",
       " |-- airport_fee: integer (nullable = true)\n",
       " |-- date_format: date (nullable = true)\n",
       " |-- hour: timestamp (nullable = true)\n",
       " |-- hour2: integer (nullable = true)\n",
       "\n"
      ]
     },
     "metadata": {
      "application/vnd.databricks.v1+output": {
       "addedWidgets": {},
       "arguments": {},
       "data": "root\n |-- VendorID: long (nullable = true)\n |-- tpep_pickup_datetime: timestamp (nullable = true)\n |-- tpep_dropoff_datetime: timestamp (nullable = true)\n |-- passenger_count: double (nullable = false)\n |-- trip_distance: double (nullable = true)\n |-- payment_type: long (nullable = true)\n |-- fare_amount: double (nullable = true)\n |-- extra: double (nullable = true)\n |-- mta_tax: double (nullable = true)\n |-- tip_amount: double (nullable = true)\n |-- tolls_amount: double (nullable = true)\n |-- improvement_surcharge: double (nullable = true)\n |-- total_amount: double (nullable = true)\n |-- congestion_surcharge: double (nullable = false)\n |-- airport_fee: integer (nullable = true)\n |-- date_format: date (nullable = true)\n |-- hour: timestamp (nullable = true)\n |-- hour2: integer (nullable = true)\n\n",
       "datasetInfos": [],
       "metadata": {},
       "removedWidgets": [],
       "type": "ansi"
      }
     },
     "output_type": "display_data"
    }
   ],
   "source": [
    "trip_hour.printSchema()"
   ]
  },
  {
   "cell_type": "code",
   "execution_count": 0,
   "metadata": {
    "application/vnd.databricks.v1+cell": {
     "inputWidgets": {},
     "nuid": "6be0f879-a623-49d5-91de-1b5645bd02ca",
     "showTitle": false,
     "title": ""
    }
   },
   "outputs": [
    {
     "data": {
      "text/plain": [
       "+-------------------+----------------+--------------------+\n",
       "|               hour|total_trip_count|             percent|\n",
       "+-------------------+----------------+--------------------+\n",
       "|2019-03-15 21:00:00|           21506|2.542170466040865E-4|\n",
       "|2019-01-11 18:00:00|           20742|2.451859937069637...|\n",
       "|2019-04-12 19:00:00|           20233|2.391692320255037E-4|\n",
       "|2019-03-07 18:00:00|           20198|2.387555057802166...|\n",
       "|2019-01-31 18:00:00|           20157|2.382708550357375...|\n",
       "|2019-02-01 18:00:00|           20104|2.376443552928743...|\n",
       "|2019-01-25 18:00:00|           20074| 2.37289732796914E-4|\n",
       "|2019-01-30 18:00:00|           20014|2.365804878049933...|\n",
       "|2019-02-06 18:00:00|           19952|2.358476013133420...|\n",
       "|2019-05-02 20:00:00|           19914|2.353984128184589...|\n",
       "|2019-01-25 19:00:00|           19879|2.349846865731719...|\n",
       "|2019-04-09 18:00:00|           19814|2.342163378319245...|\n",
       "|2019-03-06 18:00:00|           19805|2.341099510831364...|\n",
       "|2019-04-05 19:00:00|           19718|2.330815458448515...|\n",
       "|2019-04-12 18:00:00|           19594|2.316157728615489E-4|\n",
       "|2019-03-05 18:00:00|           19457|2.299963301299968E-4|\n",
       "|2019-04-05 18:00:00|           19439|2.297835566324206E-4|\n",
       "|2019-01-29 18:00:00|           19439|2.297835566324206E-4|\n",
       "|2019-01-11 19:00:00|           19405|2.293816511369989E-4|\n",
       "|2019-03-08 18:00:00|           19386|2.291570568895574E-4|\n",
       "+-------------------+----------------+--------------------+\n",
       "only showing top 20 rows\n",
       "\n"
      ]
     },
     "metadata": {
      "application/vnd.databricks.v1+output": {
       "addedWidgets": {},
       "arguments": {},
       "data": "+-------------------+----------------+--------------------+\n|               hour|total_trip_count|             percent|\n+-------------------+----------------+--------------------+\n|2019-03-15 21:00:00|           21506|2.542170466040865E-4|\n|2019-01-11 18:00:00|           20742|2.451859937069637...|\n|2019-04-12 19:00:00|           20233|2.391692320255037E-4|\n|2019-03-07 18:00:00|           20198|2.387555057802166...|\n|2019-01-31 18:00:00|           20157|2.382708550357375...|\n|2019-02-01 18:00:00|           20104|2.376443552928743...|\n|2019-01-25 18:00:00|           20074| 2.37289732796914E-4|\n|2019-01-30 18:00:00|           20014|2.365804878049933...|\n|2019-02-06 18:00:00|           19952|2.358476013133420...|\n|2019-05-02 20:00:00|           19914|2.353984128184589...|\n|2019-01-25 19:00:00|           19879|2.349846865731719...|\n|2019-04-09 18:00:00|           19814|2.342163378319245...|\n|2019-03-06 18:00:00|           19805|2.341099510831364...|\n|2019-04-05 19:00:00|           19718|2.330815458448515...|\n|2019-04-12 18:00:00|           19594|2.316157728615489E-4|\n|2019-03-05 18:00:00|           19457|2.299963301299968E-4|\n|2019-04-05 18:00:00|           19439|2.297835566324206E-4|\n|2019-01-29 18:00:00|           19439|2.297835566324206E-4|\n|2019-01-11 19:00:00|           19405|2.293816511369989E-4|\n|2019-03-08 18:00:00|           19386|2.291570568895574E-4|\n+-------------------+----------------+--------------------+\nonly showing top 20 rows\n\n",
       "datasetInfos": [],
       "metadata": {},
       "removedWidgets": [],
       "type": "ansi"
      }
     },
     "output_type": "display_data"
    }
   ],
   "source": [
    "trip=trip_hour.groupby(\"hour\").agg(count(\"tpep_pickup_datetime\").alias('total_trip_count')).orderBy(\"hour\")\n",
    "import pyspark.sql.functions as f\n",
    "from pyspark.sql.window import Window\n",
    "trip = trip.withColumn('percent', f.col('total_trip_count')/f.sum('total_trip_count').over(Window.partitionBy()))\n",
    "trip.orderBy('percent', ascending=False).show()"
   ]
  },
  {
   "cell_type": "code",
   "execution_count": 0,
   "metadata": {
    "application/vnd.databricks.v1+cell": {
     "inputWidgets": {},
     "nuid": "560a266d-8245-4017-9274-160b6309f65f",
     "showTitle": false,
     "title": ""
    }
   },
   "outputs": [
    {
     "data": {
      "text/plain": [
       "+-----+----------------+--------------------+\n",
       "|hour2|total_trip_count|             percent|\n",
       "+-----+----------------+--------------------+\n",
       "|   18|         5548948| 0.06559272632380046|\n",
       "|   19|         5240544| 0.06194715978232893|\n",
       "|   17|         5036391| 0.05953391823506937|\n",
       "|   20|         4783081|  0.0565396040866791|\n",
       "|   15|         4745926| 0.05610040412543225|\n",
       "|   21|         4733473| 0.05595320032735912|\n",
       "|   14|         4720305| 0.05579754469313227|\n",
       "|   13|         4484443| 0.05300947898839252|\n",
       "|   16|         4466825| 0.05280122101726489|\n",
       "|   12|         4436595| 0.05244387974883554|\n",
       "|   22|         4400975| 0.05202282463863199|\n",
       "|   11|         4175330|0.049355531535266464|\n",
       "|   10|         3976419| 0.04700425435880104|\n",
       "|    9|         3932176|0.046481268922508624|\n",
       "|    8|         3853839|0.045555266840307175|\n",
       "|   23|         3481246| 0.04115093818572909|\n",
       "|    7|         3083751|0.036452249218004204|\n",
       "|    0|         2498194|0.029530526389103008|\n",
       "|    6|         1774797|0.020979431398762807|\n",
       "|    1|         1737013|0.020532796185850653|\n",
       "|    2|         1204670| 0.01424010274028387|\n",
       "|    3|          841461|0.009946700002442167|\n",
       "|    5|          782664| 0.00925167537260954|\n",
       "|    4|          657936|0.007777296883404...|\n",
       "+-----+----------------+--------------------+\n",
       "\n"
      ]
     },
     "metadata": {
      "application/vnd.databricks.v1+output": {
       "addedWidgets": {},
       "arguments": {},
       "data": "+-----+----------------+--------------------+\n|hour2|total_trip_count|             percent|\n+-----+----------------+--------------------+\n|   18|         5548948| 0.06559272632380046|\n|   19|         5240544| 0.06194715978232893|\n|   17|         5036391| 0.05953391823506937|\n|   20|         4783081|  0.0565396040866791|\n|   15|         4745926| 0.05610040412543225|\n|   21|         4733473| 0.05595320032735912|\n|   14|         4720305| 0.05579754469313227|\n|   13|         4484443| 0.05300947898839252|\n|   16|         4466825| 0.05280122101726489|\n|   12|         4436595| 0.05244387974883554|\n|   22|         4400975| 0.05202282463863199|\n|   11|         4175330|0.049355531535266464|\n|   10|         3976419| 0.04700425435880104|\n|    9|         3932176|0.046481268922508624|\n|    8|         3853839|0.045555266840307175|\n|   23|         3481246| 0.04115093818572909|\n|    7|         3083751|0.036452249218004204|\n|    0|         2498194|0.029530526389103008|\n|    6|         1774797|0.020979431398762807|\n|    1|         1737013|0.020532796185850653|\n|    2|         1204670| 0.01424010274028387|\n|    3|          841461|0.009946700002442167|\n|    5|          782664| 0.00925167537260954|\n|    4|          657936|0.007777296883404...|\n+-----+----------------+--------------------+\n\n",
       "datasetInfos": [],
       "metadata": {},
       "removedWidgets": [],
       "type": "ansi"
      }
     },
     "output_type": "display_data"
    }
   ],
   "source": [
    "trip2=trip_hour.groupby(\"hour2\").agg(count(\"tpep_pickup_datetime\").alias('total_trip_count')).orderBy(\"hour2\")\n",
    "import pyspark.sql.functions as f\n",
    "from pyspark.sql.window import Window\n",
    "trip2 = trip2.withColumn('percent', f.col('total_trip_count')/f.sum('total_trip_count').over(Window.partitionBy()))\n",
    "trip2.orderBy('percent', ascending=False).show(50)"
   ]
  },
  {
   "cell_type": "code",
   "execution_count": 0,
   "metadata": {
    "application/vnd.databricks.v1+cell": {
     "inputWidgets": {},
     "nuid": "0627c22d-e71f-481e-9f0c-baaadc34ba4f",
     "showTitle": false,
     "title": ""
    }
   },
   "outputs": [
    {
     "data": {
      "text/plain": [
       "+------------------+\n",
       "|      sum(percent)|\n",
       "+------------------+\n",
       "|1.0000000000000002|\n",
       "+------------------+\n",
       "\n"
      ]
     },
     "metadata": {
      "application/vnd.databricks.v1+output": {
       "addedWidgets": {},
       "arguments": {},
       "data": "+------------------+\n|      sum(percent)|\n+------------------+\n|1.0000000000000002|\n+------------------+\n\n",
       "datasetInfos": [],
       "metadata": {},
       "removedWidgets": [],
       "type": "ansi"
      }
     },
     "output_type": "display_data"
    }
   ],
   "source": [
    "trip.agg(sum(\"percent\")).show()"
   ]
  },
  {
   "cell_type": "code",
   "execution_count": 0,
   "metadata": {
    "application/vnd.databricks.v1+cell": {
     "inputWidgets": {},
     "nuid": "8ddc9ab1-9218-4114-8f28-2330543f201a",
     "showTitle": false,
     "title": ""
    }
   },
   "outputs": [],
   "source": [
    "payment_month=df_corr.drop('RatecodeID',\n",
    " 'store_and_fwd_flag',\n",
    " 'PULocationID',\n",
    " 'DOLocationID',)\n",
    "payment_month=payment_month.withColumn(\"Month\",month(month_level.date_format))\n",
    "payment_month=payment_month.fillna({\"passenger_count\":1.0,\n",
    "                   \"congestion_surcharge\":2.5,  \n",
    "                  })"
   ]
  },
  {
   "cell_type": "code",
   "execution_count": 0,
   "metadata": {
    "application/vnd.databricks.v1+cell": {
     "inputWidgets": {},
     "nuid": "20f40cfb-cc77-496e-9d72-353858eee221",
     "showTitle": false,
     "title": ""
    }
   },
   "outputs": [],
   "source": [
    "from pyspark.sql.functions import when\n",
    "\n",
    "payment_month = payment_month.withColumn(\"payment_type_name\", \n",
    "              when(payment_month.payment_type == 0, \"Cash\")\n",
    "             .when(payment_month.payment_type == 1, \"Credit_card\")\n",
    "             .when(payment_month.payment_type == 2, \"Net_Banking\")                       \n",
    "             .when(payment_month.payment_type == 3, \"UPI\")  \n",
    "             .when(payment_month.payment_type == 4, \"Debit_Card\")  \n",
    "             .when(payment_month.payment_type == 5, \"Unknown\")  \n",
    "             .otherwise(payment_month.payment_type))\n",
    "from pyspark.sql.functions import when\n",
    "\n",
    "payment_month = payment_month.withColumn(\"payment_type_name2\", \n",
    "              when(payment_month.payment_type == 0, \"Credit card\")\n",
    "             .when(payment_month.payment_type == 1, \"Cash\")\n",
    "             .when(payment_month.payment_type == 2, \"No charge\")                       \n",
    "             .when(payment_month.payment_type == 3, \"Dispute\")  \n",
    "             .when(payment_month.payment_type == 4, \"Unknown\")  \n",
    "             .when(payment_month.payment_type == 5, \"Voided trip\")  \n",
    "             .otherwise(payment_month.payment_type))"
   ]
  },
  {
   "cell_type": "code",
   "execution_count": 0,
   "metadata": {
    "application/vnd.databricks.v1+cell": {
     "inputWidgets": {},
     "nuid": "f2c16d26-6312-4e50-93a8-964601866743",
     "showTitle": false,
     "title": ""
    }
   },
   "outputs": [
    {
     "data": {
      "text/plain": [
       "root\n",
       " |-- VendorID: long (nullable = true)\n",
       " |-- tpep_pickup_datetime: timestamp (nullable = true)\n",
       " |-- tpep_dropoff_datetime: timestamp (nullable = true)\n",
       " |-- passenger_count: double (nullable = false)\n",
       " |-- trip_distance: double (nullable = true)\n",
       " |-- payment_type: long (nullable = true)\n",
       " |-- fare_amount: double (nullable = true)\n",
       " |-- extra: double (nullable = true)\n",
       " |-- mta_tax: double (nullable = true)\n",
       " |-- tip_amount: double (nullable = true)\n",
       " |-- tolls_amount: double (nullable = true)\n",
       " |-- improvement_surcharge: double (nullable = true)\n",
       " |-- total_amount: double (nullable = true)\n",
       " |-- congestion_surcharge: double (nullable = false)\n",
       " |-- airport_fee: integer (nullable = true)\n",
       " |-- date_format: date (nullable = true)\n",
       " |-- Month: integer (nullable = true)\n",
       " |-- payment_type_name: string (nullable = true)\n",
       " |-- payment_type_name2: string (nullable = true)\n",
       "\n"
      ]
     },
     "metadata": {
      "application/vnd.databricks.v1+output": {
       "addedWidgets": {},
       "arguments": {},
       "data": "root\n |-- VendorID: long (nullable = true)\n |-- tpep_pickup_datetime: timestamp (nullable = true)\n |-- tpep_dropoff_datetime: timestamp (nullable = true)\n |-- passenger_count: double (nullable = false)\n |-- trip_distance: double (nullable = true)\n |-- payment_type: long (nullable = true)\n |-- fare_amount: double (nullable = true)\n |-- extra: double (nullable = true)\n |-- mta_tax: double (nullable = true)\n |-- tip_amount: double (nullable = true)\n |-- tolls_amount: double (nullable = true)\n |-- improvement_surcharge: double (nullable = true)\n |-- total_amount: double (nullable = true)\n |-- congestion_surcharge: double (nullable = false)\n |-- airport_fee: integer (nullable = true)\n |-- date_format: date (nullable = true)\n |-- Month: integer (nullable = true)\n |-- payment_type_name: string (nullable = true)\n |-- payment_type_name2: string (nullable = true)\n\n",
       "datasetInfos": [],
       "metadata": {},
       "removedWidgets": [],
       "type": "ansi"
      }
     },
     "output_type": "display_data"
    }
   ],
   "source": [
    "payment_month.printSchema()"
   ]
  },
  {
   "cell_type": "code",
   "execution_count": 0,
   "metadata": {
    "application/vnd.databricks.v1+cell": {
     "inputWidgets": {},
     "nuid": "5ee48d1c-fec8-4e7e-98a7-d5333a60f733",
     "showTitle": false,
     "title": ""
    }
   },
   "outputs": [
    {
     "data": {
      "text/plain": [
       "+-----+-----------------+-----------------------+--------------------+\n",
       "|Month|payment_type_name|payment_type_name_count|             percent|\n",
       "+-----+-----------------+-----------------------+--------------------+\n",
       "|    3|      Credit_card|                5721654| 0.06763424075004455|\n",
       "|    1|      Credit_card|                5486204| 0.06485104519424932|\n",
       "|    5|      Credit_card|                5456422| 0.06449899962175965|\n",
       "|    4|      Credit_card|                5354015| 0.06328847209029936|\n",
       "|   10|      Credit_card|                5216086| 0.06165804788212235|\n",
       "|    2|      Credit_card|                5184852|0.061288838580828196|\n",
       "|    6|      Credit_card|                4983310| 0.05890646101146705|\n",
       "|   11|      Credit_card|                4977584| 0.05883877539773809|\n",
       "|   12|      Credit_card|                4875930|0.057637148890926415|\n",
       "|    9|      Credit_card|                4726409| 0.05586969855031033|\n",
       "|    7|      Credit_card|                4424183|0.052297160601506895|\n",
       "|    8|      Credit_card|                4216317| 0.04984002860999731|\n",
       "|    1|      Net_Banking|                2137168| 0.02526292834821735|\n",
       "|    3|      Net_Banking|                2057314|0.024318994188470177|\n",
       "|    5|      Net_Banking|                2053448| 0.02427329516949076|\n",
       "|    4|      Net_Banking|                2027410|0.023965506484496933|\n",
       "|   12|      Net_Banking|                1912003|0.022601309204787187|\n",
       "|    6|      Net_Banking|                1903243|0.022497759435966772|\n",
       "|   10|      Net_Banking|                1893590| 0.02238365373751661|\n",
       "|    7|      Net_Banking|                1801659|0.021296960381645677|\n",
       "|   11|      Net_Banking|                1797750|0.021250753070422047|\n",
       "|    2|      Net_Banking|                1787291|0.021127119847580415|\n",
       "|    8|      Net_Banking|                1771552|0.020941073065449765|\n",
       "|    9|      Net_Banking|                1753381|  0.0207262782196466|\n",
       "|   12|             Cash|                  51018|6.030710166301165E-4|\n",
       "|   11|             Cash|                  47491|5.613792318550485E-4|\n",
       "|   10|             Cash|                  46723|5.523008959584644E-4|\n",
       "|    4|             Cash|                  42456|5.018617562830418E-4|\n",
       "|    5|              UPI|                  40727|4.814236797658621...|\n",
       "|   10|              UPI|                  39792|4.703712786417655...|\n",
       "|    3|              UPI|                  39280|4.643190547107094...|\n",
       "|    6|              UPI|                  38344|4.532548328367476E-4|\n",
       "|    4|              UPI|                  38285|4.525574085946923E-4|\n",
       "|    9|              UPI|                  37558|4.439637234425872...|\n",
       "|   12|              UPI|                  37093|4.384670747552023E-4|\n",
       "|   11|              UPI|                  36724|4.341052180548904E-4|\n",
       "|    8|              UPI|                  35959|4.250623444079023E-4|\n",
       "|    7|              UPI|                  35485|4.194593089717293E-4|\n",
       "|    2|              UPI|                  34801|4.113739160638340...|\n",
       "|    9|             Cash|                  34089|4.029575421597092E-4|\n",
       "|    7|             Cash|                  33959|4.014208446772144...|\n",
       "|    3|             Cash|                  33474|3.956877809925226...|\n",
       "|    8|             Cash|                  33321|3.938792062631250...|\n",
       "|    1|              UPI|                  33181|3.922243012819769E-4|\n",
       "|    5|             Cash|                  32770|3.873659730873205E-4|\n",
       "|    6|             Cash|                  30747|3.634525961097298E-4|\n",
       "|    2|             Cash|                  29663|3.506389032556969E-4|\n",
       "|    1|             Cash|                  28672|3.389245401391411E-4|\n",
       "|   12|       Debit_Card|                  20138|2.380462607882960...|\n",
       "|   11|       Debit_Card|                  18261|2.158587132910454...|\n",
       "|   10|       Debit_Card|                  17919|2.118160168370978...|\n",
       "|    9|       Debit_Card|                  16191|1.913897610697835...|\n",
       "|    8|       Debit_Card|                  15939|1.884109321037168...|\n",
       "|    6|       Debit_Card|                  15691|1.854793861371115...|\n",
       "|    5|       Debit_Card|                  15176|1.793916999564594...|\n",
       "|    7|       Debit_Card|                  15090|1.783751154680398...|\n",
       "|    3|       Debit_Card|                  14648|1.731503440275578...|\n",
       "|    4|       Debit_Card|                  13793|1.630436028926888E-4|\n",
       "|    2|       Debit_Card|                  12571|1.485986465572385...|\n",
       "|    1|       Debit_Card|                  11165|1.319786722465649...|\n",
       "|    3|          Unknown|                     30|3.546224959603178E-7|\n",
       "|    8|          Unknown|                      1|1.182074986534392...|\n",
       "|   11|          Unknown|                      1|1.182074986534392...|\n",
       "|   12|          Unknown|                      1|1.182074986534392...|\n",
       "+-----+-----------------+-----------------------+--------------------+\n",
       "\n"
      ]
     },
     "metadata": {
      "application/vnd.databricks.v1+output": {
       "addedWidgets": {},
       "arguments": {},
       "data": "+-----+-----------------+-----------------------+--------------------+\n|Month|payment_type_name|payment_type_name_count|             percent|\n+-----+-----------------+-----------------------+--------------------+\n|    3|      Credit_card|                5721654| 0.06763424075004455|\n|    1|      Credit_card|                5486204| 0.06485104519424932|\n|    5|      Credit_card|                5456422| 0.06449899962175965|\n|    4|      Credit_card|                5354015| 0.06328847209029936|\n|   10|      Credit_card|                5216086| 0.06165804788212235|\n|    2|      Credit_card|                5184852|0.061288838580828196|\n|    6|      Credit_card|                4983310| 0.05890646101146705|\n|   11|      Credit_card|                4977584| 0.05883877539773809|\n|   12|      Credit_card|                4875930|0.057637148890926415|\n|    9|      Credit_card|                4726409| 0.05586969855031033|\n|    7|      Credit_card|                4424183|0.052297160601506895|\n|    8|      Credit_card|                4216317| 0.04984002860999731|\n|    1|      Net_Banking|                2137168| 0.02526292834821735|\n|    3|      Net_Banking|                2057314|0.024318994188470177|\n|    5|      Net_Banking|                2053448| 0.02427329516949076|\n|    4|      Net_Banking|                2027410|0.023965506484496933|\n|   12|      Net_Banking|                1912003|0.022601309204787187|\n|    6|      Net_Banking|                1903243|0.022497759435966772|\n|   10|      Net_Banking|                1893590| 0.02238365373751661|\n|    7|      Net_Banking|                1801659|0.021296960381645677|\n|   11|      Net_Banking|                1797750|0.021250753070422047|\n|    2|      Net_Banking|                1787291|0.021127119847580415|\n|    8|      Net_Banking|                1771552|0.020941073065449765|\n|    9|      Net_Banking|                1753381|  0.0207262782196466|\n|   12|             Cash|                  51018|6.030710166301165E-4|\n|   11|             Cash|                  47491|5.613792318550485E-4|\n|   10|             Cash|                  46723|5.523008959584644E-4|\n|    4|             Cash|                  42456|5.018617562830418E-4|\n|    5|              UPI|                  40727|4.814236797658621...|\n|   10|              UPI|                  39792|4.703712786417655...|\n|    3|              UPI|                  39280|4.643190547107094...|\n|    6|              UPI|                  38344|4.532548328367476E-4|\n|    4|              UPI|                  38285|4.525574085946923E-4|\n|    9|              UPI|                  37558|4.439637234425872...|\n|   12|              UPI|                  37093|4.384670747552023E-4|\n|   11|              UPI|                  36724|4.341052180548904E-4|\n|    8|              UPI|                  35959|4.250623444079023E-4|\n|    7|              UPI|                  35485|4.194593089717293E-4|\n|    2|              UPI|                  34801|4.113739160638340...|\n|    9|             Cash|                  34089|4.029575421597092E-4|\n|    7|             Cash|                  33959|4.014208446772144...|\n|    3|             Cash|                  33474|3.956877809925226...|\n|    8|             Cash|                  33321|3.938792062631250...|\n|    1|              UPI|                  33181|3.922243012819769E-4|\n|    5|             Cash|                  32770|3.873659730873205E-4|\n|    6|             Cash|                  30747|3.634525961097298E-4|\n|    2|             Cash|                  29663|3.506389032556969E-4|\n|    1|             Cash|                  28672|3.389245401391411E-4|\n|   12|       Debit_Card|                  20138|2.380462607882960...|\n|   11|       Debit_Card|                  18261|2.158587132910454...|\n|   10|       Debit_Card|                  17919|2.118160168370978...|\n|    9|       Debit_Card|                  16191|1.913897610697835...|\n|    8|       Debit_Card|                  15939|1.884109321037168...|\n|    6|       Debit_Card|                  15691|1.854793861371115...|\n|    5|       Debit_Card|                  15176|1.793916999564594...|\n|    7|       Debit_Card|                  15090|1.783751154680398...|\n|    3|       Debit_Card|                  14648|1.731503440275578...|\n|    4|       Debit_Card|                  13793|1.630436028926888E-4|\n|    2|       Debit_Card|                  12571|1.485986465572385...|\n|    1|       Debit_Card|                  11165|1.319786722465649...|\n|    3|          Unknown|                     30|3.546224959603178E-7|\n|    8|          Unknown|                      1|1.182074986534392...|\n|   11|          Unknown|                      1|1.182074986534392...|\n|   12|          Unknown|                      1|1.182074986534392...|\n+-----+-----------------+-----------------------+--------------------+\n\n",
       "datasetInfos": [],
       "metadata": {},
       "removedWidgets": [],
       "type": "ansi"
      }
     },
     "output_type": "display_data"
    }
   ],
   "source": [
    "payment_month1=payment_month.groupby(\"Month\",\"payment_type_name\").agg(count(\"payment_type_name\").alias('payment_type_name_count')).orderBy(\"Month\")\n",
    "import pyspark.sql.functions as f\n",
    "from pyspark.sql.window import Window\n",
    "payment_month1 = payment_month1.withColumn('percent', f.col('payment_type_name_count')/f.sum('payment_type_name_count').over(Window.partitionBy()))\n",
    "payment_month1.orderBy('percent', ascending=False).show(10000)"
   ]
  },
  {
   "cell_type": "code",
   "execution_count": 0,
   "metadata": {
    "application/vnd.databricks.v1+cell": {
     "inputWidgets": {},
     "nuid": "0ab4e102-45b7-490c-9b1d-59fb4bcb136f",
     "showTitle": false,
     "title": ""
    }
   },
   "outputs": [
    {
     "data": {
      "text/plain": [
       "+-----+------------------+-----------------------+--------------------+\n",
       "|Month|payment_type_name2|payment_type_name_count|             percent|\n",
       "+-----+------------------+-----------------------+--------------------+\n",
       "|    3|              Cash|                5721654| 0.06763424075004455|\n",
       "|    1|              Cash|                5486204| 0.06485104519424932|\n",
       "|    5|              Cash|                5456422| 0.06449899962175965|\n",
       "|    4|              Cash|                5354015| 0.06328847209029936|\n",
       "|   10|              Cash|                5216086| 0.06165804788212235|\n",
       "|    2|              Cash|                5184852|0.061288838580828196|\n",
       "|    6|              Cash|                4983310| 0.05890646101146705|\n",
       "|   11|              Cash|                4977584| 0.05883877539773809|\n",
       "|   12|              Cash|                4875930|0.057637148890926415|\n",
       "|    9|              Cash|                4726409| 0.05586969855031033|\n",
       "|    7|              Cash|                4424183|0.052297160601506895|\n",
       "|    8|              Cash|                4216317| 0.04984002860999731|\n",
       "|    1|         No charge|                2137168| 0.02526292834821735|\n",
       "|    3|         No charge|                2057314|0.024318994188470177|\n",
       "|    5|         No charge|                2053448| 0.02427329516949076|\n",
       "|    4|         No charge|                2027410|0.023965506484496933|\n",
       "|   12|         No charge|                1912003|0.022601309204787187|\n",
       "|    6|         No charge|                1903243|0.022497759435966772|\n",
       "|   10|         No charge|                1893590| 0.02238365373751661|\n",
       "|    7|         No charge|                1801659|0.021296960381645677|\n",
       "|   11|         No charge|                1797750|0.021250753070422047|\n",
       "|    2|         No charge|                1787291|0.021127119847580415|\n",
       "|    8|         No charge|                1771552|0.020941073065449765|\n",
       "|    9|         No charge|                1753381|  0.0207262782196466|\n",
       "|   12|       Credit card|                  51018|6.030710166301165E-4|\n",
       "|   11|       Credit card|                  47491|5.613792318550485E-4|\n",
       "|   10|       Credit card|                  46723|5.523008959584644E-4|\n",
       "|    4|       Credit card|                  42456|5.018617562830418E-4|\n",
       "|    5|           Dispute|                  40727|4.814236797658621...|\n",
       "|   10|           Dispute|                  39792|4.703712786417655...|\n",
       "|    3|           Dispute|                  39280|4.643190547107094...|\n",
       "|    6|           Dispute|                  38344|4.532548328367476E-4|\n",
       "|    4|           Dispute|                  38285|4.525574085946923E-4|\n",
       "|    9|           Dispute|                  37558|4.439637234425872...|\n",
       "|   12|           Dispute|                  37093|4.384670747552023E-4|\n",
       "|   11|           Dispute|                  36724|4.341052180548904E-4|\n",
       "|    8|           Dispute|                  35959|4.250623444079023E-4|\n",
       "|    7|           Dispute|                  35485|4.194593089717293E-4|\n",
       "|    2|           Dispute|                  34801|4.113739160638340...|\n",
       "|    9|       Credit card|                  34089|4.029575421597092E-4|\n",
       "|    7|       Credit card|                  33959|4.014208446772144...|\n",
       "|    3|       Credit card|                  33474|3.956877809925226...|\n",
       "|    8|       Credit card|                  33321|3.938792062631250...|\n",
       "|    1|           Dispute|                  33181|3.922243012819769E-4|\n",
       "|    5|       Credit card|                  32770|3.873659730873205E-4|\n",
       "|    6|       Credit card|                  30747|3.634525961097298E-4|\n",
       "|    2|       Credit card|                  29663|3.506389032556969E-4|\n",
       "|    1|       Credit card|                  28672|3.389245401391411E-4|\n",
       "|   12|           Unknown|                  20138|2.380462607882960...|\n",
       "|   11|           Unknown|                  18261|2.158587132910454...|\n",
       "|   10|           Unknown|                  17919|2.118160168370978...|\n",
       "|    9|           Unknown|                  16191|1.913897610697835...|\n",
       "|    8|           Unknown|                  15939|1.884109321037168...|\n",
       "|    6|           Unknown|                  15691|1.854793861371115...|\n",
       "|    5|           Unknown|                  15176|1.793916999564594...|\n",
       "|    7|           Unknown|                  15090|1.783751154680398...|\n",
       "|    3|           Unknown|                  14648|1.731503440275578...|\n",
       "|    4|           Unknown|                  13793|1.630436028926888E-4|\n",
       "|    2|           Unknown|                  12571|1.485986465572385...|\n",
       "|    1|           Unknown|                  11165|1.319786722465649...|\n",
       "|    3|       Voided trip|                     30|3.546224959603178E-7|\n",
       "|    8|       Voided trip|                      1|1.182074986534392...|\n",
       "|   11|       Voided trip|                      1|1.182074986534392...|\n",
       "|   12|       Voided trip|                      1|1.182074986534392...|\n",
       "+-----+------------------+-----------------------+--------------------+\n",
       "\n"
      ]
     },
     "metadata": {
      "application/vnd.databricks.v1+output": {
       "addedWidgets": {},
       "arguments": {},
       "data": "+-----+------------------+-----------------------+--------------------+\n|Month|payment_type_name2|payment_type_name_count|             percent|\n+-----+------------------+-----------------------+--------------------+\n|    3|              Cash|                5721654| 0.06763424075004455|\n|    1|              Cash|                5486204| 0.06485104519424932|\n|    5|              Cash|                5456422| 0.06449899962175965|\n|    4|              Cash|                5354015| 0.06328847209029936|\n|   10|              Cash|                5216086| 0.06165804788212235|\n|    2|              Cash|                5184852|0.061288838580828196|\n|    6|              Cash|                4983310| 0.05890646101146705|\n|   11|              Cash|                4977584| 0.05883877539773809|\n|   12|              Cash|                4875930|0.057637148890926415|\n|    9|              Cash|                4726409| 0.05586969855031033|\n|    7|              Cash|                4424183|0.052297160601506895|\n|    8|              Cash|                4216317| 0.04984002860999731|\n|    1|         No charge|                2137168| 0.02526292834821735|\n|    3|         No charge|                2057314|0.024318994188470177|\n|    5|         No charge|                2053448| 0.02427329516949076|\n|    4|         No charge|                2027410|0.023965506484496933|\n|   12|         No charge|                1912003|0.022601309204787187|\n|    6|         No charge|                1903243|0.022497759435966772|\n|   10|         No charge|                1893590| 0.02238365373751661|\n|    7|         No charge|                1801659|0.021296960381645677|\n|   11|         No charge|                1797750|0.021250753070422047|\n|    2|         No charge|                1787291|0.021127119847580415|\n|    8|         No charge|                1771552|0.020941073065449765|\n|    9|         No charge|                1753381|  0.0207262782196466|\n|   12|       Credit card|                  51018|6.030710166301165E-4|\n|   11|       Credit card|                  47491|5.613792318550485E-4|\n|   10|       Credit card|                  46723|5.523008959584644E-4|\n|    4|       Credit card|                  42456|5.018617562830418E-4|\n|    5|           Dispute|                  40727|4.814236797658621...|\n|   10|           Dispute|                  39792|4.703712786417655...|\n|    3|           Dispute|                  39280|4.643190547107094...|\n|    6|           Dispute|                  38344|4.532548328367476E-4|\n|    4|           Dispute|                  38285|4.525574085946923E-4|\n|    9|           Dispute|                  37558|4.439637234425872...|\n|   12|           Dispute|                  37093|4.384670747552023E-4|\n|   11|           Dispute|                  36724|4.341052180548904E-4|\n|    8|           Dispute|                  35959|4.250623444079023E-4|\n|    7|           Dispute|                  35485|4.194593089717293E-4|\n|    2|           Dispute|                  34801|4.113739160638340...|\n|    9|       Credit card|                  34089|4.029575421597092E-4|\n|    7|       Credit card|                  33959|4.014208446772144...|\n|    3|       Credit card|                  33474|3.956877809925226...|\n|    8|       Credit card|                  33321|3.938792062631250...|\n|    1|           Dispute|                  33181|3.922243012819769E-4|\n|    5|       Credit card|                  32770|3.873659730873205E-4|\n|    6|       Credit card|                  30747|3.634525961097298E-4|\n|    2|       Credit card|                  29663|3.506389032556969E-4|\n|    1|       Credit card|                  28672|3.389245401391411E-4|\n|   12|           Unknown|                  20138|2.380462607882960...|\n|   11|           Unknown|                  18261|2.158587132910454...|\n|   10|           Unknown|                  17919|2.118160168370978...|\n|    9|           Unknown|                  16191|1.913897610697835...|\n|    8|           Unknown|                  15939|1.884109321037168...|\n|    6|           Unknown|                  15691|1.854793861371115...|\n|    5|           Unknown|                  15176|1.793916999564594...|\n|    7|           Unknown|                  15090|1.783751154680398...|\n|    3|           Unknown|                  14648|1.731503440275578...|\n|    4|           Unknown|                  13793|1.630436028926888E-4|\n|    2|           Unknown|                  12571|1.485986465572385...|\n|    1|           Unknown|                  11165|1.319786722465649...|\n|    3|       Voided trip|                     30|3.546224959603178E-7|\n|    8|       Voided trip|                      1|1.182074986534392...|\n|   11|       Voided trip|                      1|1.182074986534392...|\n|   12|       Voided trip|                      1|1.182074986534392...|\n+-----+------------------+-----------------------+--------------------+\n\n",
       "datasetInfos": [],
       "metadata": {},
       "removedWidgets": [],
       "type": "ansi"
      }
     },
     "output_type": "display_data"
    }
   ],
   "source": [
    "payment_month1=payment_month.groupby(\"Month\",\"payment_type_name2\").agg(count(\"payment_type_name2\").alias('payment_type_name_count')).orderBy(\"Month\")\n",
    "import pyspark.sql.functions as f\n",
    "from pyspark.sql.window import Window\n",
    "payment_month1 = payment_month1.withColumn('percent', f.col('payment_type_name_count')/f.sum('payment_type_name_count').over(Window.partitionBy()))\n",
    "payment_month1.orderBy('percent', ascending=False).show(10000)"
   ]
  },
  {
   "cell_type": "code",
   "execution_count": 0,
   "metadata": {
    "application/vnd.databricks.v1+cell": {
     "inputWidgets": {},
     "nuid": "2c6a41fc-dfcc-4ba0-b70b-1c5154cc3be0",
     "showTitle": false,
     "title": ""
    }
   },
   "outputs": [
    {
     "data": {
      "text/plain": [
       "/databricks/spark/python/pyspark/sql/context.py:82: FutureWarning: Deprecated in 3.0.0. Use SparkSession.builder.getOrCreate() instead.\n",
       "  warnings.warn(\n",
       "+-----+------------------+-----------------------+----+\n",
       "|Month|payment_type_name2|payment_type_name_count|rank|\n",
       "+-----+------------------+-----------------------+----+\n",
       "|    1|              Cash|                5486204|   1|\n",
       "|    1|         No charge|                2137168|   2|\n",
       "|    1|           Dispute|                  33181|   3|\n",
       "|    1|       Credit card|                  28672|   4|\n",
       "|    1|           Unknown|                  11165|   5|\n",
       "|    2|              Cash|                5184852|   1|\n",
       "|    2|         No charge|                1787291|   2|\n",
       "|    2|           Dispute|                  34801|   3|\n",
       "|    2|       Credit card|                  29663|   4|\n",
       "|    2|           Unknown|                  12571|   5|\n",
       "|    3|              Cash|                5721654|   1|\n",
       "|    3|         No charge|                2057314|   2|\n",
       "|    3|           Dispute|                  39280|   3|\n",
       "|    3|       Credit card|                  33474|   4|\n",
       "|    3|           Unknown|                  14648|   5|\n",
       "|    4|              Cash|                5354015|   1|\n",
       "|    4|         No charge|                2027410|   2|\n",
       "|    4|       Credit card|                  42456|   3|\n",
       "|    4|           Dispute|                  38285|   4|\n",
       "|    4|           Unknown|                  13793|   5|\n",
       "|    5|              Cash|                5456422|   1|\n",
       "|    5|         No charge|                2053448|   2|\n",
       "|    5|           Dispute|                  40727|   3|\n",
       "|    5|       Credit card|                  32770|   4|\n",
       "|    5|           Unknown|                  15176|   5|\n",
       "|    6|              Cash|                4983310|   1|\n",
       "|    6|         No charge|                1903243|   2|\n",
       "|    6|           Dispute|                  38344|   3|\n",
       "|    6|       Credit card|                  30747|   4|\n",
       "|    6|           Unknown|                  15691|   5|\n",
       "|    7|              Cash|                4424183|   1|\n",
       "|    7|         No charge|                1801659|   2|\n",
       "|    7|           Dispute|                  35485|   3|\n",
       "|    7|       Credit card|                  33959|   4|\n",
       "|    7|           Unknown|                  15090|   5|\n",
       "|    8|              Cash|                4216317|   1|\n",
       "|    8|         No charge|                1771552|   2|\n",
       "|    8|           Dispute|                  35959|   3|\n",
       "|    8|       Credit card|                  33321|   4|\n",
       "|    8|           Unknown|                  15939|   5|\n",
       "|    9|              Cash|                4726409|   1|\n",
       "|    9|         No charge|                1753381|   2|\n",
       "|    9|           Dispute|                  37558|   3|\n",
       "|    9|       Credit card|                  34089|   4|\n",
       "|    9|           Unknown|                  16191|   5|\n",
       "|   10|              Cash|                5216086|   1|\n",
       "|   10|         No charge|                1893590|   2|\n",
       "|   10|       Credit card|                  46723|   3|\n",
       "|   10|           Dispute|                  39792|   4|\n",
       "|   10|           Unknown|                  17919|   5|\n",
       "|   11|              Cash|                4977584|   1|\n",
       "|   11|         No charge|                1797750|   2|\n",
       "|   11|       Credit card|                  47491|   3|\n",
       "|   11|           Dispute|                  36724|   4|\n",
       "|   11|           Unknown|                  18261|   5|\n",
       "|   12|              Cash|                4875930|   1|\n",
       "|   12|         No charge|                1912003|   2|\n",
       "|   12|       Credit card|                  51018|   3|\n",
       "|   12|           Dispute|                  37093|   4|\n",
       "|   12|           Unknown|                  20138|   5|\n",
       "+-----+------------------+-----------------------+----+\n",
       "\n"
      ]
     },
     "metadata": {
      "application/vnd.databricks.v1+output": {
       "addedWidgets": {},
       "arguments": {},
       "data": "/databricks/spark/python/pyspark/sql/context.py:82: FutureWarning: Deprecated in 3.0.0. Use SparkSession.builder.getOrCreate() instead.\n  warnings.warn(\n+-----+------------------+-----------------------+----+\n|Month|payment_type_name2|payment_type_name_count|rank|\n+-----+------------------+-----------------------+----+\n|    1|              Cash|                5486204|   1|\n|    1|         No charge|                2137168|   2|\n|    1|           Dispute|                  33181|   3|\n|    1|       Credit card|                  28672|   4|\n|    1|           Unknown|                  11165|   5|\n|    2|              Cash|                5184852|   1|\n|    2|         No charge|                1787291|   2|\n|    2|           Dispute|                  34801|   3|\n|    2|       Credit card|                  29663|   4|\n|    2|           Unknown|                  12571|   5|\n|    3|              Cash|                5721654|   1|\n|    3|         No charge|                2057314|   2|\n|    3|           Dispute|                  39280|   3|\n|    3|       Credit card|                  33474|   4|\n|    3|           Unknown|                  14648|   5|\n|    4|              Cash|                5354015|   1|\n|    4|         No charge|                2027410|   2|\n|    4|       Credit card|                  42456|   3|\n|    4|           Dispute|                  38285|   4|\n|    4|           Unknown|                  13793|   5|\n|    5|              Cash|                5456422|   1|\n|    5|         No charge|                2053448|   2|\n|    5|           Dispute|                  40727|   3|\n|    5|       Credit card|                  32770|   4|\n|    5|           Unknown|                  15176|   5|\n|    6|              Cash|                4983310|   1|\n|    6|         No charge|                1903243|   2|\n|    6|           Dispute|                  38344|   3|\n|    6|       Credit card|                  30747|   4|\n|    6|           Unknown|                  15691|   5|\n|    7|              Cash|                4424183|   1|\n|    7|         No charge|                1801659|   2|\n|    7|           Dispute|                  35485|   3|\n|    7|       Credit card|                  33959|   4|\n|    7|           Unknown|                  15090|   5|\n|    8|              Cash|                4216317|   1|\n|    8|         No charge|                1771552|   2|\n|    8|           Dispute|                  35959|   3|\n|    8|       Credit card|                  33321|   4|\n|    8|           Unknown|                  15939|   5|\n|    9|              Cash|                4726409|   1|\n|    9|         No charge|                1753381|   2|\n|    9|           Dispute|                  37558|   3|\n|    9|       Credit card|                  34089|   4|\n|    9|           Unknown|                  16191|   5|\n|   10|              Cash|                5216086|   1|\n|   10|         No charge|                1893590|   2|\n|   10|       Credit card|                  46723|   3|\n|   10|           Dispute|                  39792|   4|\n|   10|           Unknown|                  17919|   5|\n|   11|              Cash|                4977584|   1|\n|   11|         No charge|                1797750|   2|\n|   11|       Credit card|                  47491|   3|\n|   11|           Dispute|                  36724|   4|\n|   11|           Unknown|                  18261|   5|\n|   12|              Cash|                4875930|   1|\n|   12|         No charge|                1912003|   2|\n|   12|       Credit card|                  51018|   3|\n|   12|           Dispute|                  37093|   4|\n|   12|           Unknown|                  20138|   5|\n+-----+------------------+-----------------------+----+\n\n",
       "datasetInfos": [],
       "metadata": {},
       "removedWidgets": [],
       "type": "ansi"
      }
     },
     "output_type": "display_data"
    }
   ],
   "source": [
    "import pandas as pd\n",
    "#import findspark\n",
    "#findspark.init()\n",
    "import pyspark\n",
    "from pyspark import SparkContext\n",
    "from pyspark.sql import SQLContext \n",
    "#sc = SparkContext(\"local\", \"App Name\")\n",
    "sql = SQLContext(sc)\n",
    "from pyspark.sql.window import Window\n",
    "from pyspark.sql.functions import rank, col\n",
    "\n",
    "payment_month_top=payment_month.groupby(\"Month\",\"payment_type_name2\").agg(count(\"payment_type_name2\").alias('payment_type_name_count')).orderBy(\"Month\")\n",
    "window = Window.partitionBy(payment_month_top['Month']).orderBy(payment_month_top['payment_type_name_count'].desc())\n",
    "payment_month_top.select('*', rank().over(window).alias('rank')).filter(col('rank') <= 5).show(1000) "
   ]
  },
  {
   "cell_type": "code",
   "execution_count": 0,
   "metadata": {
    "application/vnd.databricks.v1+cell": {
     "inputWidgets": {},
     "nuid": "6f2a7540-8158-43ee-a0b2-a38c7874e10d",
     "showTitle": false,
     "title": ""
    }
   },
   "outputs": [],
   "source": [
    "final_week_level=final.drop(\"sum_VendorID\",\"sum_payment_type\",\"sum_passenger_count\")\n",
    "final_month_level=final2.drop(\"sum_VendorID\",\"sum_payment_type\",\"sum_Month\",\"sum_passenger_count\")\n",
    "final_avg_month=avg_month.groupby(\"VendorID\",\"Month\").agg({\"congestion_surcharge\":\"avg\"}).alias('Avg_congestion_surcharge').orderBy(\"Month\", ascending=False)\n",
    "final_pass_month=pass_month.groupby(\"VendorID\",\"Month\").agg({\"passenger_count\":\"sum\"}).alias('Total_passenger_count').orderBy(\"Month\")\n",
    "final_trip=trip2.orderBy('percent', ascending=False)\n",
    "final_payment_month=payment_month1.orderBy('percent', ascending=False)\n",
    "fianl_payment_month_top=payment_month_top.select('*', rank().over(window).alias('rank')).filter(col('rank') <= 5)\n",
    "\n",
    "final_list=[final_week_level,final_month_level,final_avg_month,final_pass_month,final_trip,final_payment_month,fianl_payment_month_top]"
   ]
  },
  {
   "cell_type": "code",
   "execution_count": 0,
   "metadata": {
    "application/vnd.databricks.v1+cell": {
     "inputWidgets": {},
     "nuid": "095a1408-a69d-4357-a753-91bb478f4363",
     "showTitle": false,
     "title": ""
    }
   },
   "outputs": [],
   "source": [
    "for i in final_list:\n",
    "    display(i)"
   ]
  },
  {
   "cell_type": "code",
   "execution_count": 0,
   "metadata": {
    "application/vnd.databricks.v1+cell": {
     "inputWidgets": {},
     "nuid": "1dc97805-62cc-4b75-b202-d9788f2fa9f5",
     "showTitle": false,
     "title": ""
    }
   },
   "outputs": [
    {
     "data": {
      "text/html": [
       "<style scoped>\n",
       "  .table-result-container {\n",
       "    max-height: 300px;\n",
       "    overflow: auto;\n",
       "  }\n",
       "  table, th, td {\n",
       "    border: 1px solid black;\n",
       "    border-collapse: collapse;\n",
       "  }\n",
       "  th, td {\n",
       "    padding: 5px;\n",
       "  }\n",
       "  th {\n",
       "    text-align: left;\n",
       "  }\n",
       "</style><div class='table-result-container'><table class='table-result'><thead style='background-color: white'><tr><th>VendorID</th><th>Month</th><th>avg(congestion_surcharge)</th></tr></thead><tbody><tr><td>5</td><td>12</td><td>2.5</td></tr><tr><td>1</td><td>12</td><td>2.301466098925982</td></tr><tr><td>2</td><td>12</td><td>2.2898577555082156</td></tr><tr><td>2</td><td>11</td><td>2.3007396702511227</td></tr><tr><td>5</td><td>11</td><td>2.5</td></tr><tr><td>1</td><td>11</td><td>2.3094858841879424</td></tr><tr><td>1</td><td>10</td><td>2.3137281958316755</td></tr><tr><td>2</td><td>10</td><td>2.2967218808453715</td></tr><tr><td>5</td><td>10</td><td>2.5</td></tr><tr><td>5</td><td>9</td><td>2.5</td></tr><tr><td>2</td><td>9</td><td>2.284518289420906</td></tr><tr><td>1</td><td>9</td><td>2.295024391221862</td></tr><tr><td>4</td><td>9</td><td>1.6346153846153846</td></tr><tr><td>4</td><td>8</td><td>1.8181818181818181</td></tr><tr><td>2</td><td>8</td><td>2.2617148570842067</td></tr><tr><td>5</td><td>8</td><td>2.5</td></tr><tr><td>1</td><td>8</td><td>2.2786958490650426</td></tr><tr><td>2</td><td>7</td><td>2.268817562656751</td></tr><tr><td>4</td><td>7</td><td>2.326229977116705</td></tr><tr><td>5</td><td>7</td><td>2.5</td></tr><tr><td>1</td><td>7</td><td>2.2817488967677164</td></tr><tr><td>2</td><td>6</td><td>2.271692375914246</td></tr><tr><td>1</td><td>6</td><td>2.281378457417193</td></tr><tr><td>5</td><td>6</td><td>2.5</td></tr><tr><td>4</td><td>6</td><td>2.3458797414128827</td></tr><tr><td>2</td><td>5</td><td>2.2793697749169297</td></tr><tr><td>5</td><td>5</td><td>2.5</td></tr><tr><td>1</td><td>5</td><td>2.3009092165371245</td></tr><tr><td>4</td><td>5</td><td>2.326457509881423</td></tr><tr><td>1</td><td>4</td><td>2.3142015736366184</td></tr><tr><td>4</td><td>4</td><td>2.3485252588641354</td></tr><tr><td>5</td><td>4</td><td>2.5</td></tr><tr><td>2</td><td>4</td><td>2.2793687375670815</td></tr><tr><td>2</td><td>3</td><td>2.2607117837184565</td></tr><tr><td>5</td><td>3</td><td>2.5</td></tr><tr><td>4</td><td>3</td><td>2.369497305289264</td></tr><tr><td>1</td><td>3</td><td>2.3165517008563357</td></tr><tr><td>1</td><td>2</td><td>2.1847014883193046</td></tr><tr><td>4</td><td>2</td><td>2.2773959341723136</td></tr><tr><td>2</td><td>2</td><td>2.1697820399420387</td></tr><tr><td>5</td><td>2</td><td>2.5</td></tr><tr><td>5</td><td>1</td><td>2.5</td></tr><tr><td>1</td><td>1</td><td>1.579816508766569</td></tr><tr><td>2</td><td>1</td><td>1.5806275890947703</td></tr><tr><td>4</td><td>1</td><td>2.2096247217630136</td></tr></tbody></table></div>"
      ]
     },
     "metadata": {
      "application/vnd.databricks.v1+output": {
       "addedWidgets": {},
       "aggData": [],
       "aggError": "",
       "aggOverflow": false,
       "aggSchema": [],
       "aggSeriesLimitReached": false,
       "aggType": "",
       "arguments": {},
       "columnCustomDisplayInfos": {},
       "data": [
        [
         5,
         12,
         2.5
        ],
        [
         1,
         12,
         2.301466098925982
        ],
        [
         2,
         12,
         2.2898577555082156
        ],
        [
         2,
         11,
         2.3007396702511227
        ],
        [
         5,
         11,
         2.5
        ],
        [
         1,
         11,
         2.3094858841879424
        ],
        [
         1,
         10,
         2.3137281958316755
        ],
        [
         2,
         10,
         2.2967218808453715
        ],
        [
         5,
         10,
         2.5
        ],
        [
         5,
         9,
         2.5
        ],
        [
         2,
         9,
         2.284518289420906
        ],
        [
         1,
         9,
         2.295024391221862
        ],
        [
         4,
         9,
         1.6346153846153846
        ],
        [
         4,
         8,
         1.8181818181818181
        ],
        [
         2,
         8,
         2.2617148570842067
        ],
        [
         5,
         8,
         2.5
        ],
        [
         1,
         8,
         2.2786958490650426
        ],
        [
         2,
         7,
         2.268817562656751
        ],
        [
         4,
         7,
         2.326229977116705
        ],
        [
         5,
         7,
         2.5
        ],
        [
         1,
         7,
         2.2817488967677164
        ],
        [
         2,
         6,
         2.271692375914246
        ],
        [
         1,
         6,
         2.281378457417193
        ],
        [
         5,
         6,
         2.5
        ],
        [
         4,
         6,
         2.3458797414128827
        ],
        [
         2,
         5,
         2.2793697749169297
        ],
        [
         5,
         5,
         2.5
        ],
        [
         1,
         5,
         2.3009092165371245
        ],
        [
         4,
         5,
         2.326457509881423
        ],
        [
         1,
         4,
         2.3142015736366184
        ],
        [
         4,
         4,
         2.3485252588641354
        ],
        [
         5,
         4,
         2.5
        ],
        [
         2,
         4,
         2.2793687375670815
        ],
        [
         2,
         3,
         2.2607117837184565
        ],
        [
         5,
         3,
         2.5
        ],
        [
         4,
         3,
         2.369497305289264
        ],
        [
         1,
         3,
         2.3165517008563357
        ],
        [
         1,
         2,
         2.1847014883193046
        ],
        [
         4,
         2,
         2.2773959341723136
        ],
        [
         2,
         2,
         2.1697820399420387
        ],
        [
         5,
         2,
         2.5
        ],
        [
         5,
         1,
         2.5
        ],
        [
         1,
         1,
         1.579816508766569
        ],
        [
         2,
         1,
         1.5806275890947703
        ],
        [
         4,
         1,
         2.2096247217630136
        ]
       ],
       "datasetInfos": [],
       "dbfsResultPath": null,
       "isJsonSchema": true,
       "metadata": {},
       "overflow": false,
       "plotOptions": {
        "customPlotOptions": {
         "plotlyLine": [
          {
           "key": "yRange",
           "value": ""
          },
          {
           "key": "showPoints",
           "value": false
          },
          {
           "key": "logScale",
           "value": false
          }
         ]
        },
        "displayType": "plotlyLine",
        "pivotAggregation": "avg",
        "pivotColumns": [],
        "xColumns": [
         "Month"
        ],
        "yColumns": [
         "avg(congestion_surcharge)"
        ]
       },
       "removedWidgets": [],
       "schema": [
        {
         "metadata": "{}",
         "name": "VendorID",
         "type": "\"long\""
        },
        {
         "metadata": "{}",
         "name": "Month",
         "type": "\"integer\""
        },
        {
         "metadata": "{}",
         "name": "avg(congestion_surcharge)",
         "type": "\"double\""
        }
       ],
       "type": "table"
      }
     },
     "output_type": "display_data"
    }
   ],
   "source": [
    "display(final_avg_month)"
   ]
  },
  {
   "cell_type": "code",
   "execution_count": 0,
   "metadata": {
    "application/vnd.databricks.v1+cell": {
     "inputWidgets": {},
     "nuid": "d7d46019-5bd4-42ee-902d-37a2d4e7616a",
     "showTitle": false,
     "title": ""
    }
   },
   "outputs": [
    {
     "data": {
      "text/html": [
       "<style scoped>\n",
       "  .table-result-container {\n",
       "    max-height: 300px;\n",
       "    overflow: auto;\n",
       "  }\n",
       "  table, th, td {\n",
       "    border: 1px solid black;\n",
       "    border-collapse: collapse;\n",
       "  }\n",
       "  th, td {\n",
       "    padding: 5px;\n",
       "  }\n",
       "  th {\n",
       "    text-align: left;\n",
       "  }\n",
       "</style><div class='table-result-container'><table class='table-result'><thead style='background-color: white'><tr><th>VendorID</th><th>Month</th><th>sum(passenger_count)</th></tr></thead><tbody><tr><td>2</td><td>1</td><td>8428590.0</td></tr><tr><td>4</td><td>1</td><td>78704.0</td></tr><tr><td>5</td><td>1</td><td>99.0</td></tr><tr><td>1</td><td>1</td><td>3536755.0</td></tr><tr><td>1</td><td>2</td><td>3198458.0</td></tr><tr><td>4</td><td>2</td><td>52934.0</td></tr><tr><td>5</td><td>2</td><td>68.0</td></tr><tr><td>2</td><td>2</td><td>7807682.0</td></tr><tr><td>1</td><td>3</td><td>3573563.0</td></tr><tr><td>2</td><td>3</td><td>8754361.0</td></tr><tr><td>5</td><td>3</td><td>46.0</td></tr><tr><td>4</td><td>3</td><td>43528.0</td></tr><tr><td>1</td><td>4</td><td>3411199.0</td></tr><tr><td>4</td><td>4</td><td>33126.0</td></tr><tr><td>2</td><td>4</td><td>8292821.0</td></tr><tr><td>5</td><td>4</td><td>17.0</td></tr><tr><td>4</td><td>5</td><td>29740.0</td></tr><tr><td>1</td><td>5</td><td>3408856.0</td></tr><tr><td>5</td><td>5</td><td>10.0</td></tr><tr><td>2</td><td>5</td><td>8467842.0</td></tr><tr><td>2</td><td>6</td><td>7737157.0</td></tr><tr><td>1</td><td>6</td><td>3144416.0</td></tr><tr><td>5</td><td>6</td><td>5.0</td></tr><tr><td>4</td><td>6</td><td>27136.0</td></tr><tr><td>4</td><td>7</td><td>11216.0</td></tr><tr><td>5</td><td>7</td><td>8.0</td></tr><tr><td>2</td><td>7</td><td>7103533.0</td></tr><tr><td>1</td><td>7</td><td>2786056.0</td></tr><tr><td>4</td><td>8</td><td>275.0</td></tr><tr><td>5</td><td>8</td><td>3.0</td></tr><tr><td>2</td><td>8</td><td>6837220.0</td></tr><tr><td>1</td><td>8</td><td>2701915.0</td></tr><tr><td>2</td><td>9</td><td>7345831.0</td></tr><tr><td>5</td><td>9</td><td>3.0</td></tr><tr><td>4</td><td>9</td><td>26.0</td></tr><tr><td>1</td><td>9</td><td>2811269.0</td></tr><tr><td>1</td><td>10</td><td>3044087.0</td></tr><tr><td>2</td><td>10</td><td>8032386.0</td></tr><tr><td>5</td><td>10</td><td>3.0</td></tr><tr><td>5</td><td>11</td><td>6.0</td></tr><tr><td>2</td><td>11</td><td>7696083.0</td></tr><tr><td>1</td><td>11</td><td>2882587.0</td></tr><tr><td>2</td><td>12</td><td>7753219.0</td></tr><tr><td>1</td><td>12</td><td>2913727.0</td></tr><tr><td>5</td><td>12</td><td>8.0</td></tr></tbody></table></div>"
      ]
     },
     "metadata": {
      "application/vnd.databricks.v1+output": {
       "addedWidgets": {},
       "aggData": [],
       "aggError": "",
       "aggOverflow": false,
       "aggSchema": [],
       "aggSeriesLimitReached": false,
       "aggType": "",
       "arguments": {},
       "columnCustomDisplayInfos": {},
       "data": [
        [
         2,
         1,
         8428590
        ],
        [
         4,
         1,
         78704
        ],
        [
         5,
         1,
         99
        ],
        [
         1,
         1,
         3536755
        ],
        [
         1,
         2,
         3198458
        ],
        [
         4,
         2,
         52934
        ],
        [
         5,
         2,
         68
        ],
        [
         2,
         2,
         7807682
        ],
        [
         1,
         3,
         3573563
        ],
        [
         2,
         3,
         8754361
        ],
        [
         5,
         3,
         46
        ],
        [
         4,
         3,
         43528
        ],
        [
         1,
         4,
         3411199
        ],
        [
         4,
         4,
         33126
        ],
        [
         2,
         4,
         8292821
        ],
        [
         5,
         4,
         17
        ],
        [
         4,
         5,
         29740
        ],
        [
         1,
         5,
         3408856
        ],
        [
         5,
         5,
         10
        ],
        [
         2,
         5,
         8467842
        ],
        [
         2,
         6,
         7737157
        ],
        [
         1,
         6,
         3144416
        ],
        [
         5,
         6,
         5
        ],
        [
         4,
         6,
         27136
        ],
        [
         4,
         7,
         11216
        ],
        [
         5,
         7,
         8
        ],
        [
         2,
         7,
         7103533
        ],
        [
         1,
         7,
         2786056
        ],
        [
         4,
         8,
         275
        ],
        [
         5,
         8,
         3
        ],
        [
         2,
         8,
         6837220
        ],
        [
         1,
         8,
         2701915
        ],
        [
         2,
         9,
         7345831
        ],
        [
         5,
         9,
         3
        ],
        [
         4,
         9,
         26
        ],
        [
         1,
         9,
         2811269
        ],
        [
         1,
         10,
         3044087
        ],
        [
         2,
         10,
         8032386
        ],
        [
         5,
         10,
         3
        ],
        [
         5,
         11,
         6
        ],
        [
         2,
         11,
         7696083
        ],
        [
         1,
         11,
         2882587
        ],
        [
         2,
         12,
         7753219
        ],
        [
         1,
         12,
         2913727
        ],
        [
         5,
         12,
         8
        ]
       ],
       "datasetInfos": [],
       "dbfsResultPath": null,
       "isJsonSchema": true,
       "metadata": {},
       "overflow": false,
       "plotOptions": {
        "customPlotOptions": {
         "plotlyLine": [
          {
           "key": "yRange",
           "value": ""
          },
          {
           "key": "showPoints",
           "value": false
          },
          {
           "key": "logScale",
           "value": false
          }
         ]
        },
        "displayType": "plotlyLine",
        "pivotAggregation": "sum",
        "pivotColumns": [],
        "xColumns": [
         "Month"
        ],
        "yColumns": [
         "sum(passenger_count)"
        ]
       },
       "removedWidgets": [],
       "schema": [
        {
         "metadata": "{}",
         "name": "VendorID",
         "type": "\"long\""
        },
        {
         "metadata": "{}",
         "name": "Month",
         "type": "\"integer\""
        },
        {
         "metadata": "{}",
         "name": "sum(passenger_count)",
         "type": "\"double\""
        }
       ],
       "type": "table"
      }
     },
     "output_type": "display_data"
    }
   ],
   "source": [
    "display(final_pass_month)"
   ]
  },
  {
   "cell_type": "code",
   "execution_count": 0,
   "metadata": {
    "application/vnd.databricks.v1+cell": {
     "inputWidgets": {},
     "nuid": "e9c5acec-d4cc-46f7-9ac8-ac180ee6cbb4",
     "showTitle": false,
     "title": ""
    }
   },
   "outputs": [
    {
     "data": {
      "text/html": [
       "<style scoped>\n",
       "  .table-result-container {\n",
       "    max-height: 300px;\n",
       "    overflow: auto;\n",
       "  }\n",
       "  table, th, td {\n",
       "    border: 1px solid black;\n",
       "    border-collapse: collapse;\n",
       "  }\n",
       "  th, td {\n",
       "    padding: 5px;\n",
       "  }\n",
       "  th {\n",
       "    text-align: left;\n",
       "  }\n",
       "</style><div class='table-result-container'><table class='table-result'><thead style='background-color: white'><tr><th>Month</th><th>payment_type_name2</th><th>payment_type_name_count</th><th>percent</th></tr></thead><tbody><tr><td>3</td><td>Cash</td><td>5721654</td><td>0.06763424075004455</td></tr><tr><td>1</td><td>Cash</td><td>5486204</td><td>0.06485104519424932</td></tr><tr><td>5</td><td>Cash</td><td>5456422</td><td>0.06449899962175965</td></tr><tr><td>4</td><td>Cash</td><td>5354015</td><td>0.06328847209029936</td></tr><tr><td>10</td><td>Cash</td><td>5216086</td><td>0.06165804788212235</td></tr><tr><td>2</td><td>Cash</td><td>5184852</td><td>0.061288838580828196</td></tr><tr><td>6</td><td>Cash</td><td>4983310</td><td>0.05890646101146705</td></tr><tr><td>11</td><td>Cash</td><td>4977584</td><td>0.05883877539773809</td></tr><tr><td>12</td><td>Cash</td><td>4875930</td><td>0.057637148890926415</td></tr><tr><td>9</td><td>Cash</td><td>4726409</td><td>0.05586969855031033</td></tr><tr><td>7</td><td>Cash</td><td>4424183</td><td>0.052297160601506895</td></tr><tr><td>8</td><td>Cash</td><td>4216317</td><td>0.04984002860999731</td></tr><tr><td>1</td><td>No charge</td><td>2137168</td><td>0.02526292834821735</td></tr><tr><td>3</td><td>No charge</td><td>2057314</td><td>0.024318994188470177</td></tr><tr><td>5</td><td>No charge</td><td>2053448</td><td>0.02427329516949076</td></tr><tr><td>4</td><td>No charge</td><td>2027410</td><td>0.023965506484496933</td></tr><tr><td>12</td><td>No charge</td><td>1912003</td><td>0.022601309204787187</td></tr><tr><td>6</td><td>No charge</td><td>1903243</td><td>0.022497759435966772</td></tr><tr><td>10</td><td>No charge</td><td>1893590</td><td>0.02238365373751661</td></tr><tr><td>7</td><td>No charge</td><td>1801659</td><td>0.021296960381645677</td></tr><tr><td>11</td><td>No charge</td><td>1797750</td><td>0.021250753070422047</td></tr><tr><td>2</td><td>No charge</td><td>1787291</td><td>0.021127119847580415</td></tr><tr><td>8</td><td>No charge</td><td>1771552</td><td>0.020941073065449765</td></tr><tr><td>9</td><td>No charge</td><td>1753381</td><td>0.0207262782196466</td></tr><tr><td>12</td><td>Credit card</td><td>51018</td><td>6.030710166301165E-4</td></tr><tr><td>11</td><td>Credit card</td><td>47491</td><td>5.613792318550485E-4</td></tr><tr><td>10</td><td>Credit card</td><td>46723</td><td>5.523008959584644E-4</td></tr><tr><td>4</td><td>Credit card</td><td>42456</td><td>5.018617562830418E-4</td></tr><tr><td>5</td><td>Dispute</td><td>40727</td><td>4.8142367976586217E-4</td></tr><tr><td>10</td><td>Dispute</td><td>39792</td><td>4.7037127864176556E-4</td></tr><tr><td>3</td><td>Dispute</td><td>39280</td><td>4.6431905471070947E-4</td></tr><tr><td>6</td><td>Dispute</td><td>38344</td><td>4.532548328367476E-4</td></tr><tr><td>4</td><td>Dispute</td><td>38285</td><td>4.525574085946923E-4</td></tr><tr><td>9</td><td>Dispute</td><td>37558</td><td>4.4396372344258727E-4</td></tr><tr><td>12</td><td>Dispute</td><td>37093</td><td>4.384670747552023E-4</td></tr><tr><td>11</td><td>Dispute</td><td>36724</td><td>4.341052180548904E-4</td></tr><tr><td>8</td><td>Dispute</td><td>35959</td><td>4.250623444079023E-4</td></tr><tr><td>7</td><td>Dispute</td><td>35485</td><td>4.194593089717293E-4</td></tr><tr><td>2</td><td>Dispute</td><td>34801</td><td>4.1137391606383403E-4</td></tr><tr><td>9</td><td>Credit card</td><td>34089</td><td>4.029575421597092E-4</td></tr><tr><td>7</td><td>Credit card</td><td>33959</td><td>4.0142084467721445E-4</td></tr><tr><td>3</td><td>Credit card</td><td>33474</td><td>3.9568778099252264E-4</td></tr><tr><td>8</td><td>Credit card</td><td>33321</td><td>3.9387920626312504E-4</td></tr><tr><td>1</td><td>Dispute</td><td>33181</td><td>3.922243012819769E-4</td></tr><tr><td>5</td><td>Credit card</td><td>32770</td><td>3.873659730873205E-4</td></tr><tr><td>6</td><td>Credit card</td><td>30747</td><td>3.634525961097298E-4</td></tr><tr><td>2</td><td>Credit card</td><td>29663</td><td>3.506389032556969E-4</td></tr><tr><td>1</td><td>Credit card</td><td>28672</td><td>3.389245401391411E-4</td></tr><tr><td>12</td><td>Unknown</td><td>20138</td><td>2.3804626078829602E-4</td></tr><tr><td>11</td><td>Unknown</td><td>18261</td><td>2.1585871329104546E-4</td></tr><tr><td>10</td><td>Unknown</td><td>17919</td><td>2.1181601683709786E-4</td></tr><tr><td>9</td><td>Unknown</td><td>16191</td><td>1.9138976106978354E-4</td></tr><tr><td>8</td><td>Unknown</td><td>15939</td><td>1.8841093210371688E-4</td></tr><tr><td>6</td><td>Unknown</td><td>15691</td><td>1.8547938613711157E-4</td></tr><tr><td>5</td><td>Unknown</td><td>15176</td><td>1.7939169995645946E-4</td></tr><tr><td>7</td><td>Unknown</td><td>15090</td><td>1.7837511546803987E-4</td></tr><tr><td>3</td><td>Unknown</td><td>14648</td><td>1.7315034402755786E-4</td></tr><tr><td>4</td><td>Unknown</td><td>13793</td><td>1.630436028926888E-4</td></tr><tr><td>2</td><td>Unknown</td><td>12571</td><td>1.4859864655723852E-4</td></tr><tr><td>1</td><td>Unknown</td><td>11165</td><td>1.3197867224656496E-4</td></tr><tr><td>3</td><td>Voided trip</td><td>30</td><td>3.546224959603178E-7</td></tr><tr><td>8</td><td>Voided trip</td><td>1</td><td>1.1820749865343928E-8</td></tr><tr><td>11</td><td>Voided trip</td><td>1</td><td>1.1820749865343928E-8</td></tr><tr><td>12</td><td>Voided trip</td><td>1</td><td>1.1820749865343928E-8</td></tr></tbody></table></div>"
      ]
     },
     "metadata": {
      "application/vnd.databricks.v1+output": {
       "addedWidgets": {},
       "aggData": [],
       "aggError": "",
       "aggOverflow": false,
       "aggSchema": [],
       "aggSeriesLimitReached": false,
       "aggType": "",
       "arguments": {},
       "columnCustomDisplayInfos": {},
       "data": [
        [
         3,
         "Cash",
         5721654,
         0.06763424075004455
        ],
        [
         1,
         "Cash",
         5486204,
         0.06485104519424932
        ],
        [
         5,
         "Cash",
         5456422,
         0.06449899962175965
        ],
        [
         4,
         "Cash",
         5354015,
         0.06328847209029936
        ],
        [
         10,
         "Cash",
         5216086,
         0.06165804788212235
        ],
        [
         2,
         "Cash",
         5184852,
         0.061288838580828196
        ],
        [
         6,
         "Cash",
         4983310,
         0.05890646101146705
        ],
        [
         11,
         "Cash",
         4977584,
         0.05883877539773809
        ],
        [
         12,
         "Cash",
         4875930,
         0.057637148890926415
        ],
        [
         9,
         "Cash",
         4726409,
         0.05586969855031033
        ],
        [
         7,
         "Cash",
         4424183,
         0.052297160601506895
        ],
        [
         8,
         "Cash",
         4216317,
         0.04984002860999731
        ],
        [
         1,
         "No charge",
         2137168,
         0.02526292834821735
        ],
        [
         3,
         "No charge",
         2057314,
         0.024318994188470177
        ],
        [
         5,
         "No charge",
         2053448,
         0.02427329516949076
        ],
        [
         4,
         "No charge",
         2027410,
         0.023965506484496933
        ],
        [
         12,
         "No charge",
         1912003,
         0.022601309204787187
        ],
        [
         6,
         "No charge",
         1903243,
         0.022497759435966772
        ],
        [
         10,
         "No charge",
         1893590,
         0.02238365373751661
        ],
        [
         7,
         "No charge",
         1801659,
         0.021296960381645677
        ],
        [
         11,
         "No charge",
         1797750,
         0.021250753070422047
        ],
        [
         2,
         "No charge",
         1787291,
         0.021127119847580415
        ],
        [
         8,
         "No charge",
         1771552,
         0.020941073065449765
        ],
        [
         9,
         "No charge",
         1753381,
         0.0207262782196466
        ],
        [
         12,
         "Credit card",
         51018,
         0.0006030710166301165
        ],
        [
         11,
         "Credit card",
         47491,
         0.0005613792318550485
        ],
        [
         10,
         "Credit card",
         46723,
         0.0005523008959584644
        ],
        [
         4,
         "Credit card",
         42456,
         0.0005018617562830418
        ],
        [
         5,
         "Dispute",
         40727,
         0.00048142367976586217
        ],
        [
         10,
         "Dispute",
         39792,
         0.00047037127864176556
        ],
        [
         3,
         "Dispute",
         39280,
         0.00046431905471070947
        ],
        [
         6,
         "Dispute",
         38344,
         0.0004532548328367476
        ],
        [
         4,
         "Dispute",
         38285,
         0.0004525574085946923
        ],
        [
         9,
         "Dispute",
         37558,
         0.00044396372344258727
        ],
        [
         12,
         "Dispute",
         37093,
         0.0004384670747552023
        ],
        [
         11,
         "Dispute",
         36724,
         0.0004341052180548904
        ],
        [
         8,
         "Dispute",
         35959,
         0.0004250623444079023
        ],
        [
         7,
         "Dispute",
         35485,
         0.0004194593089717293
        ],
        [
         2,
         "Dispute",
         34801,
         0.00041137391606383403
        ],
        [
         9,
         "Credit card",
         34089,
         0.0004029575421597092
        ],
        [
         7,
         "Credit card",
         33959,
         0.00040142084467721445
        ],
        [
         3,
         "Credit card",
         33474,
         0.00039568778099252264
        ],
        [
         8,
         "Credit card",
         33321,
         0.00039387920626312504
        ],
        [
         1,
         "Dispute",
         33181,
         0.0003922243012819769
        ],
        [
         5,
         "Credit card",
         32770,
         0.0003873659730873205
        ],
        [
         6,
         "Credit card",
         30747,
         0.0003634525961097298
        ],
        [
         2,
         "Credit card",
         29663,
         0.0003506389032556969
        ],
        [
         1,
         "Credit card",
         28672,
         0.0003389245401391411
        ],
        [
         12,
         "Unknown",
         20138,
         0.00023804626078829602
        ],
        [
         11,
         "Unknown",
         18261,
         0.00021585871329104546
        ],
        [
         10,
         "Unknown",
         17919,
         0.00021181601683709786
        ],
        [
         9,
         "Unknown",
         16191,
         0.00019138976106978354
        ],
        [
         8,
         "Unknown",
         15939,
         0.00018841093210371688
        ],
        [
         6,
         "Unknown",
         15691,
         0.00018547938613711157
        ],
        [
         5,
         "Unknown",
         15176,
         0.00017939169995645946
        ],
        [
         7,
         "Unknown",
         15090,
         0.00017837511546803987
        ],
        [
         3,
         "Unknown",
         14648,
         0.00017315034402755786
        ],
        [
         4,
         "Unknown",
         13793,
         0.0001630436028926888
        ],
        [
         2,
         "Unknown",
         12571,
         0.00014859864655723852
        ],
        [
         1,
         "Unknown",
         11165,
         0.00013197867224656496
        ],
        [
         3,
         "Voided trip",
         30,
         3.546224959603178e-07
        ],
        [
         8,
         "Voided trip",
         1,
         1.1820749865343928e-08
        ],
        [
         11,
         "Voided trip",
         1,
         1.1820749865343928e-08
        ],
        [
         12,
         "Voided trip",
         1,
         1.1820749865343928e-08
        ]
       ],
       "datasetInfos": [],
       "dbfsResultPath": null,
       "isJsonSchema": true,
       "metadata": {},
       "overflow": false,
       "plotOptions": {
        "customPlotOptions": {
         "areaChart": [
          {
           "key": "grouped",
           "value": true
          },
          {
           "key": "stacked",
           "value": false
          },
          {
           "key": "100_stacked",
           "value": false
          }
         ],
         "boxPlot": [],
         "plotlyBar": [
          {
           "key": "grouped",
           "value": true
          },
          {
           "key": "stacked",
           "value": false
          },
          {
           "key": "100_stacked",
           "value": false
          }
         ],
         "scatterPlot": [
          {
           "key": "loess",
           "value": false
          },
          {
           "key": "bandwidth",
           "value": 0.3
          }
         ]
        },
        "displayType": "plotlyBar",
        "pivotAggregation": "sum",
        "pivotColumns": [
         "payment_type_name2"
        ],
        "xColumns": [
         "Month"
        ],
        "yColumns": [
         "percent"
        ]
       },
       "removedWidgets": [],
       "schema": [
        {
         "metadata": "{}",
         "name": "Month",
         "type": "\"integer\""
        },
        {
         "metadata": "{}",
         "name": "payment_type_name2",
         "type": "\"string\""
        },
        {
         "metadata": "{}",
         "name": "payment_type_name_count",
         "type": "\"long\""
        },
        {
         "metadata": "{}",
         "name": "percent",
         "type": "\"double\""
        }
       ],
       "type": "table"
      }
     },
     "output_type": "display_data"
    }
   ],
   "source": [
    "display(final_payment_month)"
   ]
  },
  {
   "cell_type": "code",
   "execution_count": 0,
   "metadata": {
    "application/vnd.databricks.v1+cell": {
     "inputWidgets": {},
     "nuid": "64512416-4417-459a-8376-e607c0766eef",
     "showTitle": false,
     "title": ""
    }
   },
   "outputs": [
    {
     "data": {
      "text/html": [
       "<style scoped>\n",
       "  .table-result-container {\n",
       "    max-height: 300px;\n",
       "    overflow: auto;\n",
       "  }\n",
       "  table, th, td {\n",
       "    border: 1px solid black;\n",
       "    border-collapse: collapse;\n",
       "  }\n",
       "  th, td {\n",
       "    padding: 5px;\n",
       "  }\n",
       "  th {\n",
       "    text-align: left;\n",
       "  }\n",
       "</style><div class='table-result-container'><table class='table-result'><thead style='background-color: white'><tr><th>Month</th><th>payment_type_name2</th><th>payment_type_name_count</th><th>rank</th></tr></thead><tbody><tr><td>1</td><td>Cash</td><td>5486204</td><td>1</td></tr><tr><td>1</td><td>No charge</td><td>2137168</td><td>2</td></tr><tr><td>1</td><td>Dispute</td><td>33181</td><td>3</td></tr><tr><td>1</td><td>Credit card</td><td>28672</td><td>4</td></tr><tr><td>1</td><td>Unknown</td><td>11165</td><td>5</td></tr><tr><td>2</td><td>Cash</td><td>5184852</td><td>1</td></tr><tr><td>2</td><td>No charge</td><td>1787291</td><td>2</td></tr><tr><td>2</td><td>Dispute</td><td>34801</td><td>3</td></tr><tr><td>2</td><td>Credit card</td><td>29663</td><td>4</td></tr><tr><td>2</td><td>Unknown</td><td>12571</td><td>5</td></tr><tr><td>3</td><td>Cash</td><td>5721654</td><td>1</td></tr><tr><td>3</td><td>No charge</td><td>2057314</td><td>2</td></tr><tr><td>3</td><td>Dispute</td><td>39280</td><td>3</td></tr><tr><td>3</td><td>Credit card</td><td>33474</td><td>4</td></tr><tr><td>3</td><td>Unknown</td><td>14648</td><td>5</td></tr><tr><td>4</td><td>Cash</td><td>5354015</td><td>1</td></tr><tr><td>4</td><td>No charge</td><td>2027410</td><td>2</td></tr><tr><td>4</td><td>Credit card</td><td>42456</td><td>3</td></tr><tr><td>4</td><td>Dispute</td><td>38285</td><td>4</td></tr><tr><td>4</td><td>Unknown</td><td>13793</td><td>5</td></tr><tr><td>5</td><td>Cash</td><td>5456422</td><td>1</td></tr><tr><td>5</td><td>No charge</td><td>2053448</td><td>2</td></tr><tr><td>5</td><td>Dispute</td><td>40727</td><td>3</td></tr><tr><td>5</td><td>Credit card</td><td>32770</td><td>4</td></tr><tr><td>5</td><td>Unknown</td><td>15176</td><td>5</td></tr><tr><td>6</td><td>Cash</td><td>4983310</td><td>1</td></tr><tr><td>6</td><td>No charge</td><td>1903243</td><td>2</td></tr><tr><td>6</td><td>Dispute</td><td>38344</td><td>3</td></tr><tr><td>6</td><td>Credit card</td><td>30747</td><td>4</td></tr><tr><td>6</td><td>Unknown</td><td>15691</td><td>5</td></tr><tr><td>7</td><td>Cash</td><td>4424183</td><td>1</td></tr><tr><td>7</td><td>No charge</td><td>1801659</td><td>2</td></tr><tr><td>7</td><td>Dispute</td><td>35485</td><td>3</td></tr><tr><td>7</td><td>Credit card</td><td>33959</td><td>4</td></tr><tr><td>7</td><td>Unknown</td><td>15090</td><td>5</td></tr><tr><td>8</td><td>Cash</td><td>4216317</td><td>1</td></tr><tr><td>8</td><td>No charge</td><td>1771552</td><td>2</td></tr><tr><td>8</td><td>Dispute</td><td>35959</td><td>3</td></tr><tr><td>8</td><td>Credit card</td><td>33321</td><td>4</td></tr><tr><td>8</td><td>Unknown</td><td>15939</td><td>5</td></tr><tr><td>9</td><td>Cash</td><td>4726409</td><td>1</td></tr><tr><td>9</td><td>No charge</td><td>1753381</td><td>2</td></tr><tr><td>9</td><td>Dispute</td><td>37558</td><td>3</td></tr><tr><td>9</td><td>Credit card</td><td>34089</td><td>4</td></tr><tr><td>9</td><td>Unknown</td><td>16191</td><td>5</td></tr><tr><td>10</td><td>Cash</td><td>5216086</td><td>1</td></tr><tr><td>10</td><td>No charge</td><td>1893590</td><td>2</td></tr><tr><td>10</td><td>Credit card</td><td>46723</td><td>3</td></tr><tr><td>10</td><td>Dispute</td><td>39792</td><td>4</td></tr><tr><td>10</td><td>Unknown</td><td>17919</td><td>5</td></tr><tr><td>11</td><td>Cash</td><td>4977584</td><td>1</td></tr><tr><td>11</td><td>No charge</td><td>1797750</td><td>2</td></tr><tr><td>11</td><td>Credit card</td><td>47491</td><td>3</td></tr><tr><td>11</td><td>Dispute</td><td>36724</td><td>4</td></tr><tr><td>11</td><td>Unknown</td><td>18261</td><td>5</td></tr><tr><td>12</td><td>Cash</td><td>4875930</td><td>1</td></tr><tr><td>12</td><td>No charge</td><td>1912003</td><td>2</td></tr><tr><td>12</td><td>Credit card</td><td>51018</td><td>3</td></tr><tr><td>12</td><td>Dispute</td><td>37093</td><td>4</td></tr><tr><td>12</td><td>Unknown</td><td>20138</td><td>5</td></tr></tbody></table></div>"
      ]
     },
     "metadata": {
      "application/vnd.databricks.v1+output": {
       "addedWidgets": {},
       "aggData": [],
       "aggError": "",
       "aggOverflow": false,
       "aggSchema": [],
       "aggSeriesLimitReached": false,
       "aggType": "",
       "arguments": {},
       "columnCustomDisplayInfos": {},
       "data": [
        [
         1,
         "Cash",
         5486204,
         1
        ],
        [
         1,
         "No charge",
         2137168,
         2
        ],
        [
         1,
         "Dispute",
         33181,
         3
        ],
        [
         1,
         "Credit card",
         28672,
         4
        ],
        [
         1,
         "Unknown",
         11165,
         5
        ],
        [
         2,
         "Cash",
         5184852,
         1
        ],
        [
         2,
         "No charge",
         1787291,
         2
        ],
        [
         2,
         "Dispute",
         34801,
         3
        ],
        [
         2,
         "Credit card",
         29663,
         4
        ],
        [
         2,
         "Unknown",
         12571,
         5
        ],
        [
         3,
         "Cash",
         5721654,
         1
        ],
        [
         3,
         "No charge",
         2057314,
         2
        ],
        [
         3,
         "Dispute",
         39280,
         3
        ],
        [
         3,
         "Credit card",
         33474,
         4
        ],
        [
         3,
         "Unknown",
         14648,
         5
        ],
        [
         4,
         "Cash",
         5354015,
         1
        ],
        [
         4,
         "No charge",
         2027410,
         2
        ],
        [
         4,
         "Credit card",
         42456,
         3
        ],
        [
         4,
         "Dispute",
         38285,
         4
        ],
        [
         4,
         "Unknown",
         13793,
         5
        ],
        [
         5,
         "Cash",
         5456422,
         1
        ],
        [
         5,
         "No charge",
         2053448,
         2
        ],
        [
         5,
         "Dispute",
         40727,
         3
        ],
        [
         5,
         "Credit card",
         32770,
         4
        ],
        [
         5,
         "Unknown",
         15176,
         5
        ],
        [
         6,
         "Cash",
         4983310,
         1
        ],
        [
         6,
         "No charge",
         1903243,
         2
        ],
        [
         6,
         "Dispute",
         38344,
         3
        ],
        [
         6,
         "Credit card",
         30747,
         4
        ],
        [
         6,
         "Unknown",
         15691,
         5
        ],
        [
         7,
         "Cash",
         4424183,
         1
        ],
        [
         7,
         "No charge",
         1801659,
         2
        ],
        [
         7,
         "Dispute",
         35485,
         3
        ],
        [
         7,
         "Credit card",
         33959,
         4
        ],
        [
         7,
         "Unknown",
         15090,
         5
        ],
        [
         8,
         "Cash",
         4216317,
         1
        ],
        [
         8,
         "No charge",
         1771552,
         2
        ],
        [
         8,
         "Dispute",
         35959,
         3
        ],
        [
         8,
         "Credit card",
         33321,
         4
        ],
        [
         8,
         "Unknown",
         15939,
         5
        ],
        [
         9,
         "Cash",
         4726409,
         1
        ],
        [
         9,
         "No charge",
         1753381,
         2
        ],
        [
         9,
         "Dispute",
         37558,
         3
        ],
        [
         9,
         "Credit card",
         34089,
         4
        ],
        [
         9,
         "Unknown",
         16191,
         5
        ],
        [
         10,
         "Cash",
         5216086,
         1
        ],
        [
         10,
         "No charge",
         1893590,
         2
        ],
        [
         10,
         "Credit card",
         46723,
         3
        ],
        [
         10,
         "Dispute",
         39792,
         4
        ],
        [
         10,
         "Unknown",
         17919,
         5
        ],
        [
         11,
         "Cash",
         4977584,
         1
        ],
        [
         11,
         "No charge",
         1797750,
         2
        ],
        [
         11,
         "Credit card",
         47491,
         3
        ],
        [
         11,
         "Dispute",
         36724,
         4
        ],
        [
         11,
         "Unknown",
         18261,
         5
        ],
        [
         12,
         "Cash",
         4875930,
         1
        ],
        [
         12,
         "No charge",
         1912003,
         2
        ],
        [
         12,
         "Credit card",
         51018,
         3
        ],
        [
         12,
         "Dispute",
         37093,
         4
        ],
        [
         12,
         "Unknown",
         20138,
         5
        ]
       ],
       "datasetInfos": [],
       "dbfsResultPath": null,
       "isJsonSchema": true,
       "metadata": {},
       "overflow": false,
       "plotOptions": {
        "customPlotOptions": {},
        "displayType": "plotlyBar",
        "pivotAggregation": null,
        "pivotColumns": null,
        "xColumns": null,
        "yColumns": null
       },
       "removedWidgets": [],
       "schema": [
        {
         "metadata": "{}",
         "name": "Month",
         "type": "\"integer\""
        },
        {
         "metadata": "{}",
         "name": "payment_type_name2",
         "type": "\"string\""
        },
        {
         "metadata": "{}",
         "name": "payment_type_name_count",
         "type": "\"long\""
        },
        {
         "metadata": "{}",
         "name": "rank",
         "type": "\"integer\""
        }
       ],
       "type": "table"
      }
     },
     "output_type": "display_data"
    }
   ],
   "source": [
    "display(fianl_payment_month_top)"
   ]
  },
  {
   "cell_type": "code",
   "execution_count": 0,
   "metadata": {
    "application/vnd.databricks.v1+cell": {
     "inputWidgets": {},
     "nuid": "2520d264-a4f1-49ce-9e03-fb8a7b4abe9b",
     "showTitle": false,
     "title": ""
    }
   },
   "outputs": [
    {
     "data": {
      "text/html": [
       "<style scoped>\n",
       "  .table-result-container {\n",
       "    max-height: 300px;\n",
       "    overflow: auto;\n",
       "  }\n",
       "  table, th, td {\n",
       "    border: 1px solid black;\n",
       "    border-collapse: collapse;\n",
       "  }\n",
       "  th, td {\n",
       "    padding: 5px;\n",
       "  }\n",
       "  th {\n",
       "    text-align: left;\n",
       "  }\n",
       "</style><div class='table-result-container'><table class='table-result'><thead style='background-color: white'><tr><th>hour2</th><th>total_trip_count</th><th>percent</th></tr></thead><tbody><tr><td>18</td><td>5548948</td><td>0.06559272632380046</td></tr><tr><td>19</td><td>5240544</td><td>0.06194715978232893</td></tr><tr><td>17</td><td>5036391</td><td>0.05953391823506937</td></tr><tr><td>20</td><td>4783081</td><td>0.0565396040866791</td></tr><tr><td>15</td><td>4745926</td><td>0.05610040412543225</td></tr><tr><td>21</td><td>4733473</td><td>0.05595320032735912</td></tr><tr><td>14</td><td>4720305</td><td>0.05579754469313227</td></tr><tr><td>13</td><td>4484443</td><td>0.05300947898839252</td></tr><tr><td>16</td><td>4466825</td><td>0.05280122101726489</td></tr><tr><td>12</td><td>4436595</td><td>0.05244387974883554</td></tr><tr><td>22</td><td>4400975</td><td>0.05202282463863199</td></tr><tr><td>11</td><td>4175330</td><td>0.049355531535266464</td></tr><tr><td>10</td><td>3976419</td><td>0.04700425435880104</td></tr><tr><td>9</td><td>3932176</td><td>0.046481268922508624</td></tr><tr><td>8</td><td>3853839</td><td>0.045555266840307175</td></tr><tr><td>23</td><td>3481246</td><td>0.04115093818572909</td></tr><tr><td>7</td><td>3083751</td><td>0.036452249218004204</td></tr><tr><td>0</td><td>2498194</td><td>0.029530526389103008</td></tr><tr><td>6</td><td>1774797</td><td>0.020979431398762807</td></tr><tr><td>1</td><td>1737013</td><td>0.020532796185850653</td></tr><tr><td>2</td><td>1204670</td><td>0.01424010274028387</td></tr><tr><td>3</td><td>841461</td><td>0.009946700002442167</td></tr><tr><td>5</td><td>782664</td><td>0.00925167537260954</td></tr><tr><td>4</td><td>657936</td><td>0.0077772968834049225</td></tr></tbody></table></div>"
      ]
     },
     "metadata": {
      "application/vnd.databricks.v1+output": {
       "addedWidgets": {},
       "aggData": [],
       "aggError": "",
       "aggOverflow": false,
       "aggSchema": [],
       "aggSeriesLimitReached": false,
       "aggType": "",
       "arguments": {},
       "columnCustomDisplayInfos": {},
       "data": [
        [
         18,
         5548948,
         0.06559272632380046
        ],
        [
         19,
         5240544,
         0.06194715978232893
        ],
        [
         17,
         5036391,
         0.05953391823506937
        ],
        [
         20,
         4783081,
         0.0565396040866791
        ],
        [
         15,
         4745926,
         0.05610040412543225
        ],
        [
         21,
         4733473,
         0.05595320032735912
        ],
        [
         14,
         4720305,
         0.05579754469313227
        ],
        [
         13,
         4484443,
         0.05300947898839252
        ],
        [
         16,
         4466825,
         0.05280122101726489
        ],
        [
         12,
         4436595,
         0.05244387974883554
        ],
        [
         22,
         4400975,
         0.05202282463863199
        ],
        [
         11,
         4175330,
         0.049355531535266464
        ],
        [
         10,
         3976419,
         0.04700425435880104
        ],
        [
         9,
         3932176,
         0.046481268922508624
        ],
        [
         8,
         3853839,
         0.045555266840307175
        ],
        [
         23,
         3481246,
         0.04115093818572909
        ],
        [
         7,
         3083751,
         0.036452249218004204
        ],
        [
         0,
         2498194,
         0.029530526389103008
        ],
        [
         6,
         1774797,
         0.020979431398762807
        ],
        [
         1,
         1737013,
         0.020532796185850653
        ],
        [
         2,
         1204670,
         0.01424010274028387
        ],
        [
         3,
         841461,
         0.009946700002442167
        ],
        [
         5,
         782664,
         0.00925167537260954
        ],
        [
         4,
         657936,
         0.0077772968834049225
        ]
       ],
       "datasetInfos": [],
       "dbfsResultPath": null,
       "isJsonSchema": true,
       "metadata": {},
       "overflow": false,
       "plotOptions": {
        "customPlotOptions": {
         "plotlyLine": [
          {
           "key": "yRange",
           "value": ""
          },
          {
           "key": "showPoints",
           "value": false
          },
          {
           "key": "logScale",
           "value": false
          }
         ]
        },
        "displayType": "plotlyLine",
        "pivotAggregation": "sum",
        "pivotColumns": [],
        "xColumns": [
         "hour2"
        ],
        "yColumns": [
         "percent"
        ]
       },
       "removedWidgets": [],
       "schema": [
        {
         "metadata": "{}",
         "name": "hour2",
         "type": "\"integer\""
        },
        {
         "metadata": "{}",
         "name": "total_trip_count",
         "type": "\"long\""
        },
        {
         "metadata": "{}",
         "name": "percent",
         "type": "\"double\""
        }
       ],
       "type": "table"
      }
     },
     "output_type": "display_data"
    }
   ],
   "source": [
    "display(final_trip)"
   ]
  },
  {
   "cell_type": "code",
   "execution_count": 0,
   "metadata": {
    "application/vnd.databricks.v1+cell": {
     "inputWidgets": {},
     "nuid": "774f5926-d332-492a-b366-ff18342292a5",
     "showTitle": false,
     "title": ""
    }
   },
   "outputs": [],
   "source": [
    "import pyspark.pandas as ps\n",
    "pd_final_week_level=ps.DataFrame(final_week_level)\n",
    "pd_final_month_level=ps.DataFrame(final_month_level)\n",
    "pd_final_avg_month=ps.DataFrame(final_avg_month)\n",
    "pd_final_pass_month=ps.DataFrame(final_pass_month)\n",
    "pd_final_trip=ps.DataFrame(final_trip)\n",
    "pd_final_payment_month=ps.DataFrame(final_payment_month)\n",
    "pd_fianl_payment_month_top=ps.DataFrame(fianl_payment_month_top)"
   ]
  },
  {
   "cell_type": "code",
   "execution_count": 0,
   "metadata": {
    "application/vnd.databricks.v1+cell": {
     "inputWidgets": {},
     "nuid": "3b4c3f78-9e82-4282-95bf-9192c82ac3e9",
     "showTitle": false,
     "title": ""
    }
   },
   "outputs": [],
   "source": [
    "pd_final_week_level.to_orc(\"final_week_level\")\n",
    "pd_final_month_level.to_orc(\"final_month_level\")\n",
    "pd_final_avg_month.to_orc(\"final_avg_month\")\n",
    "pd_final_pass_month.to_orc(\"final_pass_month\")\n",
    "pd_final_trip.to_orc(\"pd_final_tripfinal_trip\")\n",
    "pd_final_payment_month.to_orc(\"final_payment_month\")\n",
    "pd_fianl_payment_month_top.to_orc(\"fianl_payment_month_top\")"
   ]
  },
  {
   "cell_type": "code",
   "execution_count": 0,
   "metadata": {
    "application/vnd.databricks.v1+cell": {
     "inputWidgets": {},
     "nuid": "9e7eeaf6-3676-4b9f-b85d-e71b1fe8a666",
     "showTitle": false,
     "title": ""
    }
   },
   "outputs": [
    {
     "data": {
      "text/plain": [
       "\u001b[0;31m---------------------------------------------------------------------------\u001b[0m\n",
       "\u001b[0;31mPy4JJavaError\u001b[0m                             Traceback (most recent call last)\n",
       "\u001b[0;32m<command-3940188177395034>\u001b[0m in \u001b[0;36m<module>\u001b[0;34m\u001b[0m\n",
       "\u001b[0;32m----> 1\u001b[0;31m \u001b[0mdf_complete\u001b[0m\u001b[0;34m.\u001b[0m\u001b[0mselect\u001b[0m\u001b[0;34m(\u001b[0m\u001b[0;34m\"*\"\u001b[0m\u001b[0;34m)\u001b[0m\u001b[0;34m.\u001b[0m\u001b[0mwrite\u001b[0m\u001b[0;34m.\u001b[0m\u001b[0mformat\u001b[0m\u001b[0;34m(\u001b[0m\u001b[0;34m\"jdbc\"\u001b[0m\u001b[0;34m)\u001b[0m\u001b[0;31m\\\u001b[0m\u001b[0;34m\u001b[0m\u001b[0;34m\u001b[0m\u001b[0m\n",
       "\u001b[0m\u001b[1;32m      2\u001b[0m     \u001b[0;34m.\u001b[0m\u001b[0moption\u001b[0m\u001b[0;34m(\u001b[0m\u001b[0;34m\"url\"\u001b[0m\u001b[0;34m,\u001b[0m \u001b[0;34m\"jdbc:postgresql://localhost:5432/yellow_tripdata_2019\"\u001b[0m\u001b[0;34m)\u001b[0m\u001b[0;31m \u001b[0m\u001b[0;31m\\\u001b[0m\u001b[0;34m\u001b[0m\u001b[0;34m\u001b[0m\u001b[0m\n",
       "\u001b[1;32m      3\u001b[0m     \u001b[0;34m.\u001b[0m\u001b[0moption\u001b[0m\u001b[0;34m(\u001b[0m\u001b[0;34m\"driver\"\u001b[0m\u001b[0;34m,\u001b[0m \u001b[0;34m\"org.postgresql.Driver\"\u001b[0m\u001b[0;34m)\u001b[0m\u001b[0;34m.\u001b[0m\u001b[0moption\u001b[0m\u001b[0;34m(\u001b[0m\u001b[0;34m\"dbtable\"\u001b[0m\u001b[0;34m,\u001b[0m \u001b[0;34m\"yellow_tripdata_2019\"\u001b[0m\u001b[0;34m)\u001b[0m\u001b[0;31m \u001b[0m\u001b[0;31m\\\u001b[0m\u001b[0;34m\u001b[0m\u001b[0;34m\u001b[0m\u001b[0m\n",
       "\u001b[1;32m      4\u001b[0m     \u001b[0;34m.\u001b[0m\u001b[0moption\u001b[0m\u001b[0;34m(\u001b[0m\u001b[0;34m\"user\"\u001b[0m\u001b[0;34m,\u001b[0m \u001b[0;34m\"postgres\"\u001b[0m\u001b[0;34m)\u001b[0m\u001b[0;34m.\u001b[0m\u001b[0moption\u001b[0m\u001b[0;34m(\u001b[0m\u001b[0;34m\"password\"\u001b[0m\u001b[0;34m,\u001b[0m \u001b[0;34m\"vivek@3011\"\u001b[0m\u001b[0;34m)\u001b[0m\u001b[0;34m.\u001b[0m\u001b[0msave\u001b[0m\u001b[0;34m(\u001b[0m\u001b[0;34m)\u001b[0m\u001b[0;34m\u001b[0m\u001b[0;34m\u001b[0m\u001b[0m\n",
       "\n",
       "\u001b[0;32m/databricks/spark/python/pyspark/sql/readwriter.py\u001b[0m in \u001b[0;36msave\u001b[0;34m(self, path, format, mode, partitionBy, **options)\u001b[0m\n",
       "\u001b[1;32m    736\u001b[0m             \u001b[0mself\u001b[0m\u001b[0;34m.\u001b[0m\u001b[0mformat\u001b[0m\u001b[0;34m(\u001b[0m\u001b[0mformat\u001b[0m\u001b[0;34m)\u001b[0m\u001b[0;34m\u001b[0m\u001b[0;34m\u001b[0m\u001b[0m\n",
       "\u001b[1;32m    737\u001b[0m         \u001b[0;32mif\u001b[0m \u001b[0mpath\u001b[0m \u001b[0;32mis\u001b[0m \u001b[0;32mNone\u001b[0m\u001b[0;34m:\u001b[0m\u001b[0;34m\u001b[0m\u001b[0;34m\u001b[0m\u001b[0m\n",
       "\u001b[0;32m--> 738\u001b[0;31m             \u001b[0mself\u001b[0m\u001b[0;34m.\u001b[0m\u001b[0m_jwrite\u001b[0m\u001b[0;34m.\u001b[0m\u001b[0msave\u001b[0m\u001b[0;34m(\u001b[0m\u001b[0;34m)\u001b[0m\u001b[0;34m\u001b[0m\u001b[0;34m\u001b[0m\u001b[0m\n",
       "\u001b[0m\u001b[1;32m    739\u001b[0m         \u001b[0;32melse\u001b[0m\u001b[0;34m:\u001b[0m\u001b[0;34m\u001b[0m\u001b[0;34m\u001b[0m\u001b[0m\n",
       "\u001b[1;32m    740\u001b[0m             \u001b[0mself\u001b[0m\u001b[0;34m.\u001b[0m\u001b[0m_jwrite\u001b[0m\u001b[0;34m.\u001b[0m\u001b[0msave\u001b[0m\u001b[0;34m(\u001b[0m\u001b[0mpath\u001b[0m\u001b[0;34m)\u001b[0m\u001b[0;34m\u001b[0m\u001b[0;34m\u001b[0m\u001b[0m\n",
       "\n",
       "\u001b[0;32m/databricks/spark/python/lib/py4j-0.10.9.1-src.zip/py4j/java_gateway.py\u001b[0m in \u001b[0;36m__call__\u001b[0;34m(self, *args)\u001b[0m\n",
       "\u001b[1;32m   1302\u001b[0m \u001b[0;34m\u001b[0m\u001b[0m\n",
       "\u001b[1;32m   1303\u001b[0m         \u001b[0manswer\u001b[0m \u001b[0;34m=\u001b[0m \u001b[0mself\u001b[0m\u001b[0;34m.\u001b[0m\u001b[0mgateway_client\u001b[0m\u001b[0;34m.\u001b[0m\u001b[0msend_command\u001b[0m\u001b[0;34m(\u001b[0m\u001b[0mcommand\u001b[0m\u001b[0;34m)\u001b[0m\u001b[0;34m\u001b[0m\u001b[0;34m\u001b[0m\u001b[0m\n",
       "\u001b[0;32m-> 1304\u001b[0;31m         return_value = get_return_value(\n",
       "\u001b[0m\u001b[1;32m   1305\u001b[0m             answer, self.gateway_client, self.target_id, self.name)\n",
       "\u001b[1;32m   1306\u001b[0m \u001b[0;34m\u001b[0m\u001b[0m\n",
       "\n",
       "\u001b[0;32m/databricks/spark/python/pyspark/sql/utils.py\u001b[0m in \u001b[0;36mdeco\u001b[0;34m(*a, **kw)\u001b[0m\n",
       "\u001b[1;32m    115\u001b[0m     \u001b[0;32mdef\u001b[0m \u001b[0mdeco\u001b[0m\u001b[0;34m(\u001b[0m\u001b[0;34m*\u001b[0m\u001b[0ma\u001b[0m\u001b[0;34m,\u001b[0m \u001b[0;34m**\u001b[0m\u001b[0mkw\u001b[0m\u001b[0;34m)\u001b[0m\u001b[0;34m:\u001b[0m\u001b[0;34m\u001b[0m\u001b[0;34m\u001b[0m\u001b[0m\n",
       "\u001b[1;32m    116\u001b[0m         \u001b[0;32mtry\u001b[0m\u001b[0;34m:\u001b[0m\u001b[0;34m\u001b[0m\u001b[0;34m\u001b[0m\u001b[0m\n",
       "\u001b[0;32m--> 117\u001b[0;31m             \u001b[0;32mreturn\u001b[0m \u001b[0mf\u001b[0m\u001b[0;34m(\u001b[0m\u001b[0;34m*\u001b[0m\u001b[0ma\u001b[0m\u001b[0;34m,\u001b[0m \u001b[0;34m**\u001b[0m\u001b[0mkw\u001b[0m\u001b[0;34m)\u001b[0m\u001b[0;34m\u001b[0m\u001b[0;34m\u001b[0m\u001b[0m\n",
       "\u001b[0m\u001b[1;32m    118\u001b[0m         \u001b[0;32mexcept\u001b[0m \u001b[0mpy4j\u001b[0m\u001b[0;34m.\u001b[0m\u001b[0mprotocol\u001b[0m\u001b[0;34m.\u001b[0m\u001b[0mPy4JJavaError\u001b[0m \u001b[0;32mas\u001b[0m \u001b[0me\u001b[0m\u001b[0;34m:\u001b[0m\u001b[0;34m\u001b[0m\u001b[0;34m\u001b[0m\u001b[0m\n",
       "\u001b[1;32m    119\u001b[0m             \u001b[0mconverted\u001b[0m \u001b[0;34m=\u001b[0m \u001b[0mconvert_exception\u001b[0m\u001b[0;34m(\u001b[0m\u001b[0me\u001b[0m\u001b[0;34m.\u001b[0m\u001b[0mjava_exception\u001b[0m\u001b[0;34m)\u001b[0m\u001b[0;34m\u001b[0m\u001b[0;34m\u001b[0m\u001b[0m\n",
       "\n",
       "\u001b[0;32m/databricks/spark/python/lib/py4j-0.10.9.1-src.zip/py4j/protocol.py\u001b[0m in \u001b[0;36mget_return_value\u001b[0;34m(answer, gateway_client, target_id, name)\u001b[0m\n",
       "\u001b[1;32m    324\u001b[0m             \u001b[0mvalue\u001b[0m \u001b[0;34m=\u001b[0m \u001b[0mOUTPUT_CONVERTER\u001b[0m\u001b[0;34m[\u001b[0m\u001b[0mtype\u001b[0m\u001b[0;34m]\u001b[0m\u001b[0;34m(\u001b[0m\u001b[0manswer\u001b[0m\u001b[0;34m[\u001b[0m\u001b[0;36m2\u001b[0m\u001b[0;34m:\u001b[0m\u001b[0;34m]\u001b[0m\u001b[0;34m,\u001b[0m \u001b[0mgateway_client\u001b[0m\u001b[0;34m)\u001b[0m\u001b[0;34m\u001b[0m\u001b[0;34m\u001b[0m\u001b[0m\n",
       "\u001b[1;32m    325\u001b[0m             \u001b[0;32mif\u001b[0m \u001b[0manswer\u001b[0m\u001b[0;34m[\u001b[0m\u001b[0;36m1\u001b[0m\u001b[0;34m]\u001b[0m \u001b[0;34m==\u001b[0m \u001b[0mREFERENCE_TYPE\u001b[0m\u001b[0;34m:\u001b[0m\u001b[0;34m\u001b[0m\u001b[0;34m\u001b[0m\u001b[0m\n",
       "\u001b[0;32m--> 326\u001b[0;31m                 raise Py4JJavaError(\n",
       "\u001b[0m\u001b[1;32m    327\u001b[0m                     \u001b[0;34m\"An error occurred while calling {0}{1}{2}.\\n\"\u001b[0m\u001b[0;34m.\u001b[0m\u001b[0;34m\u001b[0m\u001b[0;34m\u001b[0m\u001b[0m\n",
       "\u001b[1;32m    328\u001b[0m                     format(target_id, \".\", name), value)\n",
       "\n",
       "\u001b[0;31mPy4JJavaError\u001b[0m: An error occurred while calling o2710.save.\n",
       ": org.postgresql.util.PSQLException: Connection to localhost:5432 refused. Check that the hostname and port are correct and that the postmaster is accepting TCP/IP connections.\n",
       "\tat org.postgresql.core.v3.ConnectionFactoryImpl.openConnectionImpl(ConnectionFactoryImpl.java:303)\n",
       "\tat org.postgresql.core.ConnectionFactory.openConnection(ConnectionFactory.java:51)\n",
       "\tat org.postgresql.jdbc.PgConnection.<init>(PgConnection.java:223)\n",
       "\tat org.postgresql.Driver.makeConnection(Driver.java:465)\n",
       "\tat org.postgresql.Driver.connect(Driver.java:264)\n",
       "\tat org.apache.spark.sql.execution.datasources.jdbc.connection.BasicConnectionProvider.getConnection(BasicConnectionProvider.scala:49)\n",
       "\tat org.apache.spark.sql.execution.datasources.jdbc.connection.ConnectionProviderBase.create(ConnectionProvider.scala:102)\n",
       "\tat org.apache.spark.sql.execution.datasources.jdbc.JdbcUtils$.$anonfun$createConnectionFactory$1(JdbcUtils.scala:69)\n",
       "\tat org.apache.spark.sql.execution.datasources.jdbc.JdbcRelationProvider.createRelation(JdbcRelationProvider.scala:49)\n",
       "\tat org.apache.spark.sql.execution.datasources.SaveIntoDataSourceCommand.run(SaveIntoDataSourceCommand.scala:47)\n",
       "\tat org.apache.spark.sql.execution.command.ExecutedCommandExec.sideEffectResult$lzycompute(commands.scala:80)\n",
       "\tat org.apache.spark.sql.execution.command.ExecutedCommandExec.sideEffectResult(commands.scala:78)\n",
       "\tat org.apache.spark.sql.execution.command.ExecutedCommandExec.executeCollect(commands.scala:89)\n",
       "\tat org.apache.spark.sql.execution.QueryExecution$$anonfun$$nestedInanonfun$eagerlyExecuteCommands$1$1.$anonfun$applyOrElse$1(QueryExecution.scala:160)\n",
       "\tat org.apache.spark.sql.execution.SQLExecution$.$anonfun$withCustomExecutionEnv$8(SQLExecution.scala:239)\n",
       "\tat org.apache.spark.sql.execution.SQLExecution$.withSQLConfPropagated(SQLExecution.scala:386)\n",
       "\tat org.apache.spark.sql.execution.SQLExecution$.$anonfun$withCustomExecutionEnv$1(SQLExecution.scala:186)\n",
       "\tat org.apache.spark.sql.SparkSession.withActive(SparkSession.scala:968)\n",
       "\tat org.apache.spark.sql.execution.SQLExecution$.withCustomExecutionEnv(SQLExecution.scala:141)\n",
       "\tat org.apache.spark.sql.execution.SQLExecution$.withNewExecutionId(SQLExecution.scala:336)\n",
       "\tat org.apache.spark.sql.execution.QueryExecution$$anonfun$$nestedInanonfun$eagerlyExecuteCommands$1$1.applyOrElse(QueryExecution.scala:160)\n",
       "\tat org.apache.spark.sql.execution.QueryExecution$$anonfun$$nestedInanonfun$eagerlyExecuteCommands$1$1.applyOrElse(QueryExecution.scala:156)\n",
       "\tat org.apache.spark.sql.catalyst.trees.TreeNode.$anonfun$transformDownWithPruning$1(TreeNode.scala:575)\n",
       "\tat org.apache.spark.sql.catalyst.trees.CurrentOrigin$.withOrigin(TreeNode.scala:167)\n",
       "\tat org.apache.spark.sql.catalyst.trees.TreeNode.transformDownWithPruning(TreeNode.scala:575)\n",
       "\tat org.apache.spark.sql.catalyst.plans.logical.LogicalPlan.org$apache$spark$sql$catalyst$plans$logical$AnalysisHelper$$super$transformDownWithPruning(LogicalPlan.scala:30)\n",
       "\tat org.apache.spark.sql.catalyst.plans.logical.AnalysisHelper.transformDownWithPruning(AnalysisHelper.scala:268)\n",
       "\tat org.apache.spark.sql.catalyst.plans.logical.AnalysisHelper.transformDownWithPruning$(AnalysisHelper.scala:264)\n",
       "\tat org.apache.spark.sql.catalyst.plans.logical.LogicalPlan.transformDownWithPruning(LogicalPlan.scala:30)\n",
       "\tat org.apache.spark.sql.catalyst.plans.logical.LogicalPlan.transformDownWithPruning(LogicalPlan.scala:30)\n",
       "\tat org.apache.spark.sql.catalyst.trees.TreeNode.transformDown(TreeNode.scala:551)\n",
       "\tat org.apache.spark.sql.execution.QueryExecution.$anonfun$eagerlyExecuteCommands$1(QueryExecution.scala:156)\n",
       "\tat org.apache.spark.sql.catalyst.plans.logical.AnalysisHelper$.allowInvokingTransformsInAnalyzer(AnalysisHelper.scala:324)\n",
       "\tat org.apache.spark.sql.execution.QueryExecution.eagerlyExecuteCommands(QueryExecution.scala:156)\n",
       "\tat org.apache.spark.sql.execution.QueryExecution.commandExecuted$lzycompute(QueryExecution.scala:141)\n",
       "\tat org.apache.spark.sql.execution.QueryExecution.commandExecuted(QueryExecution.scala:132)\n",
       "\tat org.apache.spark.sql.execution.QueryExecution.assertCommandExecuted(QueryExecution.scala:186)\n",
       "\tat org.apache.spark.sql.DataFrameWriter.runCommand(DataFrameWriter.scala:959)\n",
       "\tat org.apache.spark.sql.DataFrameWriter.saveToV1Source(DataFrameWriter.scala:427)\n",
       "\tat org.apache.spark.sql.DataFrameWriter.saveInternal(DataFrameWriter.scala:396)\n",
       "\tat org.apache.spark.sql.DataFrameWriter.save(DataFrameWriter.scala:258)\n",
       "\tat sun.reflect.NativeMethodAccessorImpl.invoke0(Native Method)\n",
       "\tat sun.reflect.NativeMethodAccessorImpl.invoke(NativeMethodAccessorImpl.java:62)\n",
       "\tat sun.reflect.DelegatingMethodAccessorImpl.invoke(DelegatingMethodAccessorImpl.java:43)\n",
       "\tat java.lang.reflect.Method.invoke(Method.java:498)\n",
       "\tat py4j.reflection.MethodInvoker.invoke(MethodInvoker.java:244)\n",
       "\tat py4j.reflection.ReflectionEngine.invoke(ReflectionEngine.java:380)\n",
       "\tat py4j.Gateway.invoke(Gateway.java:295)\n",
       "\tat py4j.commands.AbstractCommand.invokeMethod(AbstractCommand.java:132)\n",
       "\tat py4j.commands.CallCommand.execute(CallCommand.java:79)\n",
       "\tat py4j.GatewayConnection.run(GatewayConnection.java:251)\n",
       "\tat java.lang.Thread.run(Thread.java:748)\n",
       "Caused by: java.net.ConnectException: Connection refused (Connection refused)\n",
       "\tat java.net.PlainSocketImpl.socketConnect(Native Method)\n",
       "\tat java.net.AbstractPlainSocketImpl.doConnect(AbstractPlainSocketImpl.java:350)\n",
       "\tat java.net.AbstractPlainSocketImpl.connectToAddress(AbstractPlainSocketImpl.java:206)\n",
       "\tat java.net.AbstractPlainSocketImpl.connect(AbstractPlainSocketImpl.java:188)\n",
       "\tat java.net.SocksSocketImpl.connect(SocksSocketImpl.java:392)\n",
       "\tat java.net.Socket.connect(Socket.java:607)\n",
       "\tat org.postgresql.core.PGStream.createSocket(PGStream.java:231)\n",
       "\tat org.postgresql.core.PGStream.<init>(PGStream.java:95)\n",
       "\tat org.postgresql.core.v3.ConnectionFactoryImpl.tryConnect(ConnectionFactoryImpl.java:98)\n",
       "\tat org.postgresql.core.v3.ConnectionFactoryImpl.openConnectionImpl(ConnectionFactoryImpl.java:213)\n",
       "\t... 51 more\n"
      ]
     },
     "metadata": {
      "application/vnd.databricks.v1+output": {
       "arguments": {},
       "data": "\u001b[0;31m---------------------------------------------------------------------------\u001b[0m\n\u001b[0;31mPy4JJavaError\u001b[0m                             Traceback (most recent call last)\n\u001b[0;32m<command-3940188177395034>\u001b[0m in \u001b[0;36m<module>\u001b[0;34m\u001b[0m\n\u001b[0;32m----> 1\u001b[0;31m \u001b[0mdf_complete\u001b[0m\u001b[0;34m.\u001b[0m\u001b[0mselect\u001b[0m\u001b[0;34m(\u001b[0m\u001b[0;34m\"*\"\u001b[0m\u001b[0;34m)\u001b[0m\u001b[0;34m.\u001b[0m\u001b[0mwrite\u001b[0m\u001b[0;34m.\u001b[0m\u001b[0mformat\u001b[0m\u001b[0;34m(\u001b[0m\u001b[0;34m\"jdbc\"\u001b[0m\u001b[0;34m)\u001b[0m\u001b[0;31m\\\u001b[0m\u001b[0;34m\u001b[0m\u001b[0;34m\u001b[0m\u001b[0m\n\u001b[0m\u001b[1;32m      2\u001b[0m     \u001b[0;34m.\u001b[0m\u001b[0moption\u001b[0m\u001b[0;34m(\u001b[0m\u001b[0;34m\"url\"\u001b[0m\u001b[0;34m,\u001b[0m \u001b[0;34m\"jdbc:postgresql://localhost:5432/yellow_tripdata_2019\"\u001b[0m\u001b[0;34m)\u001b[0m\u001b[0;31m \u001b[0m\u001b[0;31m\\\u001b[0m\u001b[0;34m\u001b[0m\u001b[0;34m\u001b[0m\u001b[0m\n\u001b[1;32m      3\u001b[0m     \u001b[0;34m.\u001b[0m\u001b[0moption\u001b[0m\u001b[0;34m(\u001b[0m\u001b[0;34m\"driver\"\u001b[0m\u001b[0;34m,\u001b[0m \u001b[0;34m\"org.postgresql.Driver\"\u001b[0m\u001b[0;34m)\u001b[0m\u001b[0;34m.\u001b[0m\u001b[0moption\u001b[0m\u001b[0;34m(\u001b[0m\u001b[0;34m\"dbtable\"\u001b[0m\u001b[0;34m,\u001b[0m \u001b[0;34m\"yellow_tripdata_2019\"\u001b[0m\u001b[0;34m)\u001b[0m\u001b[0;31m \u001b[0m\u001b[0;31m\\\u001b[0m\u001b[0;34m\u001b[0m\u001b[0;34m\u001b[0m\u001b[0m\n\u001b[1;32m      4\u001b[0m     \u001b[0;34m.\u001b[0m\u001b[0moption\u001b[0m\u001b[0;34m(\u001b[0m\u001b[0;34m\"user\"\u001b[0m\u001b[0;34m,\u001b[0m \u001b[0;34m\"postgres\"\u001b[0m\u001b[0;34m)\u001b[0m\u001b[0;34m.\u001b[0m\u001b[0moption\u001b[0m\u001b[0;34m(\u001b[0m\u001b[0;34m\"password\"\u001b[0m\u001b[0;34m,\u001b[0m \u001b[0;34m\"vivek@3011\"\u001b[0m\u001b[0;34m)\u001b[0m\u001b[0;34m.\u001b[0m\u001b[0msave\u001b[0m\u001b[0;34m(\u001b[0m\u001b[0;34m)\u001b[0m\u001b[0;34m\u001b[0m\u001b[0;34m\u001b[0m\u001b[0m\n\n\u001b[0;32m/databricks/spark/python/pyspark/sql/readwriter.py\u001b[0m in \u001b[0;36msave\u001b[0;34m(self, path, format, mode, partitionBy, **options)\u001b[0m\n\u001b[1;32m    736\u001b[0m             \u001b[0mself\u001b[0m\u001b[0;34m.\u001b[0m\u001b[0mformat\u001b[0m\u001b[0;34m(\u001b[0m\u001b[0mformat\u001b[0m\u001b[0;34m)\u001b[0m\u001b[0;34m\u001b[0m\u001b[0;34m\u001b[0m\u001b[0m\n\u001b[1;32m    737\u001b[0m         \u001b[0;32mif\u001b[0m \u001b[0mpath\u001b[0m \u001b[0;32mis\u001b[0m \u001b[0;32mNone\u001b[0m\u001b[0;34m:\u001b[0m\u001b[0;34m\u001b[0m\u001b[0;34m\u001b[0m\u001b[0m\n\u001b[0;32m--> 738\u001b[0;31m             \u001b[0mself\u001b[0m\u001b[0;34m.\u001b[0m\u001b[0m_jwrite\u001b[0m\u001b[0;34m.\u001b[0m\u001b[0msave\u001b[0m\u001b[0;34m(\u001b[0m\u001b[0;34m)\u001b[0m\u001b[0;34m\u001b[0m\u001b[0;34m\u001b[0m\u001b[0m\n\u001b[0m\u001b[1;32m    739\u001b[0m         \u001b[0;32melse\u001b[0m\u001b[0;34m:\u001b[0m\u001b[0;34m\u001b[0m\u001b[0;34m\u001b[0m\u001b[0m\n\u001b[1;32m    740\u001b[0m             \u001b[0mself\u001b[0m\u001b[0;34m.\u001b[0m\u001b[0m_jwrite\u001b[0m\u001b[0;34m.\u001b[0m\u001b[0msave\u001b[0m\u001b[0;34m(\u001b[0m\u001b[0mpath\u001b[0m\u001b[0;34m)\u001b[0m\u001b[0;34m\u001b[0m\u001b[0;34m\u001b[0m\u001b[0m\n\n\u001b[0;32m/databricks/spark/python/lib/py4j-0.10.9.1-src.zip/py4j/java_gateway.py\u001b[0m in \u001b[0;36m__call__\u001b[0;34m(self, *args)\u001b[0m\n\u001b[1;32m   1302\u001b[0m \u001b[0;34m\u001b[0m\u001b[0m\n\u001b[1;32m   1303\u001b[0m         \u001b[0manswer\u001b[0m \u001b[0;34m=\u001b[0m \u001b[0mself\u001b[0m\u001b[0;34m.\u001b[0m\u001b[0mgateway_client\u001b[0m\u001b[0;34m.\u001b[0m\u001b[0msend_command\u001b[0m\u001b[0;34m(\u001b[0m\u001b[0mcommand\u001b[0m\u001b[0;34m)\u001b[0m\u001b[0;34m\u001b[0m\u001b[0;34m\u001b[0m\u001b[0m\n\u001b[0;32m-> 1304\u001b[0;31m         return_value = get_return_value(\n\u001b[0m\u001b[1;32m   1305\u001b[0m             answer, self.gateway_client, self.target_id, self.name)\n\u001b[1;32m   1306\u001b[0m \u001b[0;34m\u001b[0m\u001b[0m\n\n\u001b[0;32m/databricks/spark/python/pyspark/sql/utils.py\u001b[0m in \u001b[0;36mdeco\u001b[0;34m(*a, **kw)\u001b[0m\n\u001b[1;32m    115\u001b[0m     \u001b[0;32mdef\u001b[0m \u001b[0mdeco\u001b[0m\u001b[0;34m(\u001b[0m\u001b[0;34m*\u001b[0m\u001b[0ma\u001b[0m\u001b[0;34m,\u001b[0m \u001b[0;34m**\u001b[0m\u001b[0mkw\u001b[0m\u001b[0;34m)\u001b[0m\u001b[0;34m:\u001b[0m\u001b[0;34m\u001b[0m\u001b[0;34m\u001b[0m\u001b[0m\n\u001b[1;32m    116\u001b[0m         \u001b[0;32mtry\u001b[0m\u001b[0;34m:\u001b[0m\u001b[0;34m\u001b[0m\u001b[0;34m\u001b[0m\u001b[0m\n\u001b[0;32m--> 117\u001b[0;31m             \u001b[0;32mreturn\u001b[0m \u001b[0mf\u001b[0m\u001b[0;34m(\u001b[0m\u001b[0;34m*\u001b[0m\u001b[0ma\u001b[0m\u001b[0;34m,\u001b[0m \u001b[0;34m**\u001b[0m\u001b[0mkw\u001b[0m\u001b[0;34m)\u001b[0m\u001b[0;34m\u001b[0m\u001b[0;34m\u001b[0m\u001b[0m\n\u001b[0m\u001b[1;32m    118\u001b[0m         \u001b[0;32mexcept\u001b[0m \u001b[0mpy4j\u001b[0m\u001b[0;34m.\u001b[0m\u001b[0mprotocol\u001b[0m\u001b[0;34m.\u001b[0m\u001b[0mPy4JJavaError\u001b[0m \u001b[0;32mas\u001b[0m \u001b[0me\u001b[0m\u001b[0;34m:\u001b[0m\u001b[0;34m\u001b[0m\u001b[0;34m\u001b[0m\u001b[0m\n\u001b[1;32m    119\u001b[0m             \u001b[0mconverted\u001b[0m \u001b[0;34m=\u001b[0m \u001b[0mconvert_exception\u001b[0m\u001b[0;34m(\u001b[0m\u001b[0me\u001b[0m\u001b[0;34m.\u001b[0m\u001b[0mjava_exception\u001b[0m\u001b[0;34m)\u001b[0m\u001b[0;34m\u001b[0m\u001b[0;34m\u001b[0m\u001b[0m\n\n\u001b[0;32m/databricks/spark/python/lib/py4j-0.10.9.1-src.zip/py4j/protocol.py\u001b[0m in \u001b[0;36mget_return_value\u001b[0;34m(answer, gateway_client, target_id, name)\u001b[0m\n\u001b[1;32m    324\u001b[0m             \u001b[0mvalue\u001b[0m \u001b[0;34m=\u001b[0m \u001b[0mOUTPUT_CONVERTER\u001b[0m\u001b[0;34m[\u001b[0m\u001b[0mtype\u001b[0m\u001b[0;34m]\u001b[0m\u001b[0;34m(\u001b[0m\u001b[0manswer\u001b[0m\u001b[0;34m[\u001b[0m\u001b[0;36m2\u001b[0m\u001b[0;34m:\u001b[0m\u001b[0;34m]\u001b[0m\u001b[0;34m,\u001b[0m \u001b[0mgateway_client\u001b[0m\u001b[0;34m)\u001b[0m\u001b[0;34m\u001b[0m\u001b[0;34m\u001b[0m\u001b[0m\n\u001b[1;32m    325\u001b[0m             \u001b[0;32mif\u001b[0m \u001b[0manswer\u001b[0m\u001b[0;34m[\u001b[0m\u001b[0;36m1\u001b[0m\u001b[0;34m]\u001b[0m \u001b[0;34m==\u001b[0m \u001b[0mREFERENCE_TYPE\u001b[0m\u001b[0;34m:\u001b[0m\u001b[0;34m\u001b[0m\u001b[0;34m\u001b[0m\u001b[0m\n\u001b[0;32m--> 326\u001b[0;31m                 raise Py4JJavaError(\n\u001b[0m\u001b[1;32m    327\u001b[0m                     \u001b[0;34m\"An error occurred while calling {0}{1}{2}.\\n\"\u001b[0m\u001b[0;34m.\u001b[0m\u001b[0;34m\u001b[0m\u001b[0;34m\u001b[0m\u001b[0m\n\u001b[1;32m    328\u001b[0m                     format(target_id, \".\", name), value)\n\n\u001b[0;31mPy4JJavaError\u001b[0m: An error occurred while calling o2710.save.\n: org.postgresql.util.PSQLException: Connection to localhost:5432 refused. Check that the hostname and port are correct and that the postmaster is accepting TCP/IP connections.\n\tat org.postgresql.core.v3.ConnectionFactoryImpl.openConnectionImpl(ConnectionFactoryImpl.java:303)\n\tat org.postgresql.core.ConnectionFactory.openConnection(ConnectionFactory.java:51)\n\tat org.postgresql.jdbc.PgConnection.<init>(PgConnection.java:223)\n\tat org.postgresql.Driver.makeConnection(Driver.java:465)\n\tat org.postgresql.Driver.connect(Driver.java:264)\n\tat org.apache.spark.sql.execution.datasources.jdbc.connection.BasicConnectionProvider.getConnection(BasicConnectionProvider.scala:49)\n\tat org.apache.spark.sql.execution.datasources.jdbc.connection.ConnectionProviderBase.create(ConnectionProvider.scala:102)\n\tat org.apache.spark.sql.execution.datasources.jdbc.JdbcUtils$.$anonfun$createConnectionFactory$1(JdbcUtils.scala:69)\n\tat org.apache.spark.sql.execution.datasources.jdbc.JdbcRelationProvider.createRelation(JdbcRelationProvider.scala:49)\n\tat org.apache.spark.sql.execution.datasources.SaveIntoDataSourceCommand.run(SaveIntoDataSourceCommand.scala:47)\n\tat org.apache.spark.sql.execution.command.ExecutedCommandExec.sideEffectResult$lzycompute(commands.scala:80)\n\tat org.apache.spark.sql.execution.command.ExecutedCommandExec.sideEffectResult(commands.scala:78)\n\tat org.apache.spark.sql.execution.command.ExecutedCommandExec.executeCollect(commands.scala:89)\n\tat org.apache.spark.sql.execution.QueryExecution$$anonfun$$nestedInanonfun$eagerlyExecuteCommands$1$1.$anonfun$applyOrElse$1(QueryExecution.scala:160)\n\tat org.apache.spark.sql.execution.SQLExecution$.$anonfun$withCustomExecutionEnv$8(SQLExecution.scala:239)\n\tat org.apache.spark.sql.execution.SQLExecution$.withSQLConfPropagated(SQLExecution.scala:386)\n\tat org.apache.spark.sql.execution.SQLExecution$.$anonfun$withCustomExecutionEnv$1(SQLExecution.scala:186)\n\tat org.apache.spark.sql.SparkSession.withActive(SparkSession.scala:968)\n\tat org.apache.spark.sql.execution.SQLExecution$.withCustomExecutionEnv(SQLExecution.scala:141)\n\tat org.apache.spark.sql.execution.SQLExecution$.withNewExecutionId(SQLExecution.scala:336)\n\tat org.apache.spark.sql.execution.QueryExecution$$anonfun$$nestedInanonfun$eagerlyExecuteCommands$1$1.applyOrElse(QueryExecution.scala:160)\n\tat org.apache.spark.sql.execution.QueryExecution$$anonfun$$nestedInanonfun$eagerlyExecuteCommands$1$1.applyOrElse(QueryExecution.scala:156)\n\tat org.apache.spark.sql.catalyst.trees.TreeNode.$anonfun$transformDownWithPruning$1(TreeNode.scala:575)\n\tat org.apache.spark.sql.catalyst.trees.CurrentOrigin$.withOrigin(TreeNode.scala:167)\n\tat org.apache.spark.sql.catalyst.trees.TreeNode.transformDownWithPruning(TreeNode.scala:575)\n\tat org.apache.spark.sql.catalyst.plans.logical.LogicalPlan.org$apache$spark$sql$catalyst$plans$logical$AnalysisHelper$$super$transformDownWithPruning(LogicalPlan.scala:30)\n\tat org.apache.spark.sql.catalyst.plans.logical.AnalysisHelper.transformDownWithPruning(AnalysisHelper.scala:268)\n\tat org.apache.spark.sql.catalyst.plans.logical.AnalysisHelper.transformDownWithPruning$(AnalysisHelper.scala:264)\n\tat org.apache.spark.sql.catalyst.plans.logical.LogicalPlan.transformDownWithPruning(LogicalPlan.scala:30)\n\tat org.apache.spark.sql.catalyst.plans.logical.LogicalPlan.transformDownWithPruning(LogicalPlan.scala:30)\n\tat org.apache.spark.sql.catalyst.trees.TreeNode.transformDown(TreeNode.scala:551)\n\tat org.apache.spark.sql.execution.QueryExecution.$anonfun$eagerlyExecuteCommands$1(QueryExecution.scala:156)\n\tat org.apache.spark.sql.catalyst.plans.logical.AnalysisHelper$.allowInvokingTransformsInAnalyzer(AnalysisHelper.scala:324)\n\tat org.apache.spark.sql.execution.QueryExecution.eagerlyExecuteCommands(QueryExecution.scala:156)\n\tat org.apache.spark.sql.execution.QueryExecution.commandExecuted$lzycompute(QueryExecution.scala:141)\n\tat org.apache.spark.sql.execution.QueryExecution.commandExecuted(QueryExecution.scala:132)\n\tat org.apache.spark.sql.execution.QueryExecution.assertCommandExecuted(QueryExecution.scala:186)\n\tat org.apache.spark.sql.DataFrameWriter.runCommand(DataFrameWriter.scala:959)\n\tat org.apache.spark.sql.DataFrameWriter.saveToV1Source(DataFrameWriter.scala:427)\n\tat org.apache.spark.sql.DataFrameWriter.saveInternal(DataFrameWriter.scala:396)\n\tat org.apache.spark.sql.DataFrameWriter.save(DataFrameWriter.scala:258)\n\tat sun.reflect.NativeMethodAccessorImpl.invoke0(Native Method)\n\tat sun.reflect.NativeMethodAccessorImpl.invoke(NativeMethodAccessorImpl.java:62)\n\tat sun.reflect.DelegatingMethodAccessorImpl.invoke(DelegatingMethodAccessorImpl.java:43)\n\tat java.lang.reflect.Method.invoke(Method.java:498)\n\tat py4j.reflection.MethodInvoker.invoke(MethodInvoker.java:244)\n\tat py4j.reflection.ReflectionEngine.invoke(ReflectionEngine.java:380)\n\tat py4j.Gateway.invoke(Gateway.java:295)\n\tat py4j.commands.AbstractCommand.invokeMethod(AbstractCommand.java:132)\n\tat py4j.commands.CallCommand.execute(CallCommand.java:79)\n\tat py4j.GatewayConnection.run(GatewayConnection.java:251)\n\tat java.lang.Thread.run(Thread.java:748)\nCaused by: java.net.ConnectException: Connection refused (Connection refused)\n\tat java.net.PlainSocketImpl.socketConnect(Native Method)\n\tat java.net.AbstractPlainSocketImpl.doConnect(AbstractPlainSocketImpl.java:350)\n\tat java.net.AbstractPlainSocketImpl.connectToAddress(AbstractPlainSocketImpl.java:206)\n\tat java.net.AbstractPlainSocketImpl.connect(AbstractPlainSocketImpl.java:188)\n\tat java.net.SocksSocketImpl.connect(SocksSocketImpl.java:392)\n\tat java.net.Socket.connect(Socket.java:607)\n\tat org.postgresql.core.PGStream.createSocket(PGStream.java:231)\n\tat org.postgresql.core.PGStream.<init>(PGStream.java:95)\n\tat org.postgresql.core.v3.ConnectionFactoryImpl.tryConnect(ConnectionFactoryImpl.java:98)\n\tat org.postgresql.core.v3.ConnectionFactoryImpl.openConnectionImpl(ConnectionFactoryImpl.java:213)\n\t... 51 more\n",
       "errorSummary": "org.postgresql.util.PSQLException: Connection to localhost:5432 refused. Check that the hostname and port are correct and that the postmaster is accepting TCP/IP connections.",
       "errorTraceType": "ansi",
       "metadata": {},
       "type": "ipynbError"
      }
     },
     "output_type": "display_data"
    }
   ],
   "source": [
    "df_complete.select(\"*\").write.format(\"jdbc\")\\\n",
    "    .option(\"url\", \"jdbc:postgresql://localhost:5432/yellow_tripdata_2019\") \\\n",
    "    .option(\"driver\", \"org.postgresql.Driver\").option(\"dbtable\", \"yellow_tripdata_2019\") \\\n",
    "    .option(\"user\", \"postgres\").option(\"password\", \"vivek@3011\").save()"
   ]
  },
  {
   "cell_type": "code",
   "execution_count": 0,
   "metadata": {
    "application/vnd.databricks.v1+cell": {
     "inputWidgets": {},
     "nuid": "1872608f-089d-4512-a7df-7361bb7a47eb",
     "showTitle": false,
     "title": ""
    }
   },
   "outputs": [
    {
     "data": {
      "text/plain": [
       "\u001b[0;31m---------------------------------------------------------------------------\u001b[0m\n",
       "\u001b[0;31mPy4JJavaError\u001b[0m                             Traceback (most recent call last)\n",
       "\u001b[0;32m<command-1522843009367740>\u001b[0m in \u001b[0;36m<module>\u001b[0;34m\u001b[0m\n",
       "\u001b[1;32m     11\u001b[0m \u001b[0mTABLE_MYTABLE\u001b[0m \u001b[0;34m=\u001b[0m \u001b[0;34m\"t1\"\u001b[0m\u001b[0;34m\u001b[0m\u001b[0;34m\u001b[0m\u001b[0m\n",
       "\u001b[1;32m     12\u001b[0m \u001b[0mTABLE_EMPLOYEE\u001b[0m \u001b[0;34m=\u001b[0m \u001b[0;34m\"complete_data\"\u001b[0m\u001b[0;34m\u001b[0m\u001b[0;34m\u001b[0m\u001b[0m\n",
       "\u001b[0;32m---> 13\u001b[0;31m \u001b[0mdf_complete\u001b[0m\u001b[0;34m.\u001b[0m\u001b[0mwrite\u001b[0m\u001b[0;31m\\\u001b[0m\u001b[0;34m\u001b[0m\u001b[0;34m\u001b[0m\u001b[0m\n",
       "\u001b[0m\u001b[1;32m     14\u001b[0m         \u001b[0;34m.\u001b[0m\u001b[0mformat\u001b[0m\u001b[0;34m(\u001b[0m\u001b[0;34m\"jdbc\"\u001b[0m\u001b[0;34m)\u001b[0m\u001b[0;31m\\\u001b[0m\u001b[0;34m\u001b[0m\u001b[0;34m\u001b[0m\u001b[0m\n",
       "\u001b[1;32m     15\u001b[0m         \u001b[0;34m.\u001b[0m\u001b[0moption\u001b[0m\u001b[0;34m(\u001b[0m\u001b[0;34m\"url\"\u001b[0m\u001b[0;34m,\u001b[0m \u001b[0mURL\u001b[0m\u001b[0;34m)\u001b[0m\u001b[0;31m\\\u001b[0m\u001b[0;34m\u001b[0m\u001b[0;34m\u001b[0m\u001b[0m\n",
       "\n",
       "\u001b[0;32m/databricks/spark/python/pyspark/sql/readwriter.py\u001b[0m in \u001b[0;36msave\u001b[0;34m(self, path, format, mode, partitionBy, **options)\u001b[0m\n",
       "\u001b[1;32m    736\u001b[0m             \u001b[0mself\u001b[0m\u001b[0;34m.\u001b[0m\u001b[0mformat\u001b[0m\u001b[0;34m(\u001b[0m\u001b[0mformat\u001b[0m\u001b[0;34m)\u001b[0m\u001b[0;34m\u001b[0m\u001b[0;34m\u001b[0m\u001b[0m\n",
       "\u001b[1;32m    737\u001b[0m         \u001b[0;32mif\u001b[0m \u001b[0mpath\u001b[0m \u001b[0;32mis\u001b[0m \u001b[0;32mNone\u001b[0m\u001b[0;34m:\u001b[0m\u001b[0;34m\u001b[0m\u001b[0;34m\u001b[0m\u001b[0m\n",
       "\u001b[0;32m--> 738\u001b[0;31m             \u001b[0mself\u001b[0m\u001b[0;34m.\u001b[0m\u001b[0m_jwrite\u001b[0m\u001b[0;34m.\u001b[0m\u001b[0msave\u001b[0m\u001b[0;34m(\u001b[0m\u001b[0;34m)\u001b[0m\u001b[0;34m\u001b[0m\u001b[0;34m\u001b[0m\u001b[0m\n",
       "\u001b[0m\u001b[1;32m    739\u001b[0m         \u001b[0;32melse\u001b[0m\u001b[0;34m:\u001b[0m\u001b[0;34m\u001b[0m\u001b[0;34m\u001b[0m\u001b[0m\n",
       "\u001b[1;32m    740\u001b[0m             \u001b[0mself\u001b[0m\u001b[0;34m.\u001b[0m\u001b[0m_jwrite\u001b[0m\u001b[0;34m.\u001b[0m\u001b[0msave\u001b[0m\u001b[0;34m(\u001b[0m\u001b[0mpath\u001b[0m\u001b[0;34m)\u001b[0m\u001b[0;34m\u001b[0m\u001b[0;34m\u001b[0m\u001b[0m\n",
       "\n",
       "\u001b[0;32m/databricks/spark/python/lib/py4j-0.10.9.1-src.zip/py4j/java_gateway.py\u001b[0m in \u001b[0;36m__call__\u001b[0;34m(self, *args)\u001b[0m\n",
       "\u001b[1;32m   1302\u001b[0m \u001b[0;34m\u001b[0m\u001b[0m\n",
       "\u001b[1;32m   1303\u001b[0m         \u001b[0manswer\u001b[0m \u001b[0;34m=\u001b[0m \u001b[0mself\u001b[0m\u001b[0;34m.\u001b[0m\u001b[0mgateway_client\u001b[0m\u001b[0;34m.\u001b[0m\u001b[0msend_command\u001b[0m\u001b[0;34m(\u001b[0m\u001b[0mcommand\u001b[0m\u001b[0;34m)\u001b[0m\u001b[0;34m\u001b[0m\u001b[0;34m\u001b[0m\u001b[0m\n",
       "\u001b[0;32m-> 1304\u001b[0;31m         return_value = get_return_value(\n",
       "\u001b[0m\u001b[1;32m   1305\u001b[0m             answer, self.gateway_client, self.target_id, self.name)\n",
       "\u001b[1;32m   1306\u001b[0m \u001b[0;34m\u001b[0m\u001b[0m\n",
       "\n",
       "\u001b[0;32m/databricks/spark/python/pyspark/sql/utils.py\u001b[0m in \u001b[0;36mdeco\u001b[0;34m(*a, **kw)\u001b[0m\n",
       "\u001b[1;32m    115\u001b[0m     \u001b[0;32mdef\u001b[0m \u001b[0mdeco\u001b[0m\u001b[0;34m(\u001b[0m\u001b[0;34m*\u001b[0m\u001b[0ma\u001b[0m\u001b[0;34m,\u001b[0m \u001b[0;34m**\u001b[0m\u001b[0mkw\u001b[0m\u001b[0;34m)\u001b[0m\u001b[0;34m:\u001b[0m\u001b[0;34m\u001b[0m\u001b[0;34m\u001b[0m\u001b[0m\n",
       "\u001b[1;32m    116\u001b[0m         \u001b[0;32mtry\u001b[0m\u001b[0;34m:\u001b[0m\u001b[0;34m\u001b[0m\u001b[0;34m\u001b[0m\u001b[0m\n",
       "\u001b[0;32m--> 117\u001b[0;31m             \u001b[0;32mreturn\u001b[0m \u001b[0mf\u001b[0m\u001b[0;34m(\u001b[0m\u001b[0;34m*\u001b[0m\u001b[0ma\u001b[0m\u001b[0;34m,\u001b[0m \u001b[0;34m**\u001b[0m\u001b[0mkw\u001b[0m\u001b[0;34m)\u001b[0m\u001b[0;34m\u001b[0m\u001b[0;34m\u001b[0m\u001b[0m\n",
       "\u001b[0m\u001b[1;32m    118\u001b[0m         \u001b[0;32mexcept\u001b[0m \u001b[0mpy4j\u001b[0m\u001b[0;34m.\u001b[0m\u001b[0mprotocol\u001b[0m\u001b[0;34m.\u001b[0m\u001b[0mPy4JJavaError\u001b[0m \u001b[0;32mas\u001b[0m \u001b[0me\u001b[0m\u001b[0;34m:\u001b[0m\u001b[0;34m\u001b[0m\u001b[0;34m\u001b[0m\u001b[0m\n",
       "\u001b[1;32m    119\u001b[0m             \u001b[0mconverted\u001b[0m \u001b[0;34m=\u001b[0m \u001b[0mconvert_exception\u001b[0m\u001b[0;34m(\u001b[0m\u001b[0me\u001b[0m\u001b[0;34m.\u001b[0m\u001b[0mjava_exception\u001b[0m\u001b[0;34m)\u001b[0m\u001b[0;34m\u001b[0m\u001b[0;34m\u001b[0m\u001b[0m\n",
       "\n",
       "\u001b[0;32m/databricks/spark/python/lib/py4j-0.10.9.1-src.zip/py4j/protocol.py\u001b[0m in \u001b[0;36mget_return_value\u001b[0;34m(answer, gateway_client, target_id, name)\u001b[0m\n",
       "\u001b[1;32m    324\u001b[0m             \u001b[0mvalue\u001b[0m \u001b[0;34m=\u001b[0m \u001b[0mOUTPUT_CONVERTER\u001b[0m\u001b[0;34m[\u001b[0m\u001b[0mtype\u001b[0m\u001b[0;34m]\u001b[0m\u001b[0;34m(\u001b[0m\u001b[0manswer\u001b[0m\u001b[0;34m[\u001b[0m\u001b[0;36m2\u001b[0m\u001b[0;34m:\u001b[0m\u001b[0;34m]\u001b[0m\u001b[0;34m,\u001b[0m \u001b[0mgateway_client\u001b[0m\u001b[0;34m)\u001b[0m\u001b[0;34m\u001b[0m\u001b[0;34m\u001b[0m\u001b[0m\n",
       "\u001b[1;32m    325\u001b[0m             \u001b[0;32mif\u001b[0m \u001b[0manswer\u001b[0m\u001b[0;34m[\u001b[0m\u001b[0;36m1\u001b[0m\u001b[0;34m]\u001b[0m \u001b[0;34m==\u001b[0m \u001b[0mREFERENCE_TYPE\u001b[0m\u001b[0;34m:\u001b[0m\u001b[0;34m\u001b[0m\u001b[0;34m\u001b[0m\u001b[0m\n",
       "\u001b[0;32m--> 326\u001b[0;31m                 raise Py4JJavaError(\n",
       "\u001b[0m\u001b[1;32m    327\u001b[0m                     \u001b[0;34m\"An error occurred while calling {0}{1}{2}.\\n\"\u001b[0m\u001b[0;34m.\u001b[0m\u001b[0;34m\u001b[0m\u001b[0;34m\u001b[0m\u001b[0m\n",
       "\u001b[1;32m    328\u001b[0m                     format(target_id, \".\", name), value)\n",
       "\n",
       "\u001b[0;31mPy4JJavaError\u001b[0m: An error occurred while calling o2739.save.\n",
       ": org.postgresql.util.PSQLException: Connection to localhost:5432 refused. Check that the hostname and port are correct and that the postmaster is accepting TCP/IP connections.\n",
       "\tat org.postgresql.core.v3.ConnectionFactoryImpl.openConnectionImpl(ConnectionFactoryImpl.java:303)\n",
       "\tat org.postgresql.core.ConnectionFactory.openConnection(ConnectionFactory.java:51)\n",
       "\tat org.postgresql.jdbc.PgConnection.<init>(PgConnection.java:223)\n",
       "\tat org.postgresql.Driver.makeConnection(Driver.java:465)\n",
       "\tat org.postgresql.Driver.connect(Driver.java:264)\n",
       "\tat org.apache.spark.sql.execution.datasources.jdbc.connection.BasicConnectionProvider.getConnection(BasicConnectionProvider.scala:49)\n",
       "\tat org.apache.spark.sql.execution.datasources.jdbc.connection.ConnectionProviderBase.create(ConnectionProvider.scala:102)\n",
       "\tat org.apache.spark.sql.execution.datasources.jdbc.JdbcUtils$.$anonfun$createConnectionFactory$1(JdbcUtils.scala:69)\n",
       "\tat org.apache.spark.sql.execution.datasources.jdbc.JdbcRelationProvider.createRelation(JdbcRelationProvider.scala:49)\n",
       "\tat org.apache.spark.sql.execution.datasources.SaveIntoDataSourceCommand.run(SaveIntoDataSourceCommand.scala:47)\n",
       "\tat org.apache.spark.sql.execution.command.ExecutedCommandExec.sideEffectResult$lzycompute(commands.scala:80)\n",
       "\tat org.apache.spark.sql.execution.command.ExecutedCommandExec.sideEffectResult(commands.scala:78)\n",
       "\tat org.apache.spark.sql.execution.command.ExecutedCommandExec.executeCollect(commands.scala:89)\n",
       "\tat org.apache.spark.sql.execution.QueryExecution$$anonfun$$nestedInanonfun$eagerlyExecuteCommands$1$1.$anonfun$applyOrElse$1(QueryExecution.scala:160)\n",
       "\tat org.apache.spark.sql.execution.SQLExecution$.$anonfun$withCustomExecutionEnv$8(SQLExecution.scala:239)\n",
       "\tat org.apache.spark.sql.execution.SQLExecution$.withSQLConfPropagated(SQLExecution.scala:386)\n",
       "\tat org.apache.spark.sql.execution.SQLExecution$.$anonfun$withCustomExecutionEnv$1(SQLExecution.scala:186)\n",
       "\tat org.apache.spark.sql.SparkSession.withActive(SparkSession.scala:968)\n",
       "\tat org.apache.spark.sql.execution.SQLExecution$.withCustomExecutionEnv(SQLExecution.scala:141)\n",
       "\tat org.apache.spark.sql.execution.SQLExecution$.withNewExecutionId(SQLExecution.scala:336)\n",
       "\tat org.apache.spark.sql.execution.QueryExecution$$anonfun$$nestedInanonfun$eagerlyExecuteCommands$1$1.applyOrElse(QueryExecution.scala:160)\n",
       "\tat org.apache.spark.sql.execution.QueryExecution$$anonfun$$nestedInanonfun$eagerlyExecuteCommands$1$1.applyOrElse(QueryExecution.scala:156)\n",
       "\tat org.apache.spark.sql.catalyst.trees.TreeNode.$anonfun$transformDownWithPruning$1(TreeNode.scala:575)\n",
       "\tat org.apache.spark.sql.catalyst.trees.CurrentOrigin$.withOrigin(TreeNode.scala:167)\n",
       "\tat org.apache.spark.sql.catalyst.trees.TreeNode.transformDownWithPruning(TreeNode.scala:575)\n",
       "\tat org.apache.spark.sql.catalyst.plans.logical.LogicalPlan.org$apache$spark$sql$catalyst$plans$logical$AnalysisHelper$$super$transformDownWithPruning(LogicalPlan.scala:30)\n",
       "\tat org.apache.spark.sql.catalyst.plans.logical.AnalysisHelper.transformDownWithPruning(AnalysisHelper.scala:268)\n",
       "\tat org.apache.spark.sql.catalyst.plans.logical.AnalysisHelper.transformDownWithPruning$(AnalysisHelper.scala:264)\n",
       "\tat org.apache.spark.sql.catalyst.plans.logical.LogicalPlan.transformDownWithPruning(LogicalPlan.scala:30)\n",
       "\tat org.apache.spark.sql.catalyst.plans.logical.LogicalPlan.transformDownWithPruning(LogicalPlan.scala:30)\n",
       "\tat org.apache.spark.sql.catalyst.trees.TreeNode.transformDown(TreeNode.scala:551)\n",
       "\tat org.apache.spark.sql.execution.QueryExecution.$anonfun$eagerlyExecuteCommands$1(QueryExecution.scala:156)\n",
       "\tat org.apache.spark.sql.catalyst.plans.logical.AnalysisHelper$.allowInvokingTransformsInAnalyzer(AnalysisHelper.scala:324)\n",
       "\tat org.apache.spark.sql.execution.QueryExecution.eagerlyExecuteCommands(QueryExecution.scala:156)\n",
       "\tat org.apache.spark.sql.execution.QueryExecution.commandExecuted$lzycompute(QueryExecution.scala:141)\n",
       "\tat org.apache.spark.sql.execution.QueryExecution.commandExecuted(QueryExecution.scala:132)\n",
       "\tat org.apache.spark.sql.execution.QueryExecution.assertCommandExecuted(QueryExecution.scala:186)\n",
       "\tat org.apache.spark.sql.DataFrameWriter.runCommand(DataFrameWriter.scala:959)\n",
       "\tat org.apache.spark.sql.DataFrameWriter.saveToV1Source(DataFrameWriter.scala:427)\n",
       "\tat org.apache.spark.sql.DataFrameWriter.saveInternal(DataFrameWriter.scala:396)\n",
       "\tat org.apache.spark.sql.DataFrameWriter.save(DataFrameWriter.scala:258)\n",
       "\tat sun.reflect.NativeMethodAccessorImpl.invoke0(Native Method)\n",
       "\tat sun.reflect.NativeMethodAccessorImpl.invoke(NativeMethodAccessorImpl.java:62)\n",
       "\tat sun.reflect.DelegatingMethodAccessorImpl.invoke(DelegatingMethodAccessorImpl.java:43)\n",
       "\tat java.lang.reflect.Method.invoke(Method.java:498)\n",
       "\tat py4j.reflection.MethodInvoker.invoke(MethodInvoker.java:244)\n",
       "\tat py4j.reflection.ReflectionEngine.invoke(ReflectionEngine.java:380)\n",
       "\tat py4j.Gateway.invoke(Gateway.java:295)\n",
       "\tat py4j.commands.AbstractCommand.invokeMethod(AbstractCommand.java:132)\n",
       "\tat py4j.commands.CallCommand.execute(CallCommand.java:79)\n",
       "\tat py4j.GatewayConnection.run(GatewayConnection.java:251)\n",
       "\tat java.lang.Thread.run(Thread.java:748)\n",
       "Caused by: java.net.ConnectException: Connection refused (Connection refused)\n",
       "\tat java.net.PlainSocketImpl.socketConnect(Native Method)\n",
       "\tat java.net.AbstractPlainSocketImpl.doConnect(AbstractPlainSocketImpl.java:350)\n",
       "\tat java.net.AbstractPlainSocketImpl.connectToAddress(AbstractPlainSocketImpl.java:206)\n",
       "\tat java.net.AbstractPlainSocketImpl.connect(AbstractPlainSocketImpl.java:188)\n",
       "\tat java.net.SocksSocketImpl.connect(SocksSocketImpl.java:392)\n",
       "\tat java.net.Socket.connect(Socket.java:607)\n",
       "\tat org.postgresql.core.PGStream.createSocket(PGStream.java:231)\n",
       "\tat org.postgresql.core.PGStream.<init>(PGStream.java:95)\n",
       "\tat org.postgresql.core.v3.ConnectionFactoryImpl.tryConnect(ConnectionFactoryImpl.java:98)\n",
       "\tat org.postgresql.core.v3.ConnectionFactoryImpl.openConnectionImpl(ConnectionFactoryImpl.java:213)\n",
       "\t... 51 more\n"
      ]
     },
     "metadata": {
      "application/vnd.databricks.v1+output": {
       "arguments": {},
       "data": "\u001b[0;31m---------------------------------------------------------------------------\u001b[0m\n\u001b[0;31mPy4JJavaError\u001b[0m                             Traceback (most recent call last)\n\u001b[0;32m<command-1522843009367740>\u001b[0m in \u001b[0;36m<module>\u001b[0;34m\u001b[0m\n\u001b[1;32m     11\u001b[0m \u001b[0mTABLE_MYTABLE\u001b[0m \u001b[0;34m=\u001b[0m \u001b[0;34m\"t1\"\u001b[0m\u001b[0;34m\u001b[0m\u001b[0;34m\u001b[0m\u001b[0m\n\u001b[1;32m     12\u001b[0m \u001b[0mTABLE_EMPLOYEE\u001b[0m \u001b[0;34m=\u001b[0m \u001b[0;34m\"complete_data\"\u001b[0m\u001b[0;34m\u001b[0m\u001b[0;34m\u001b[0m\u001b[0m\n\u001b[0;32m---> 13\u001b[0;31m \u001b[0mdf_complete\u001b[0m\u001b[0;34m.\u001b[0m\u001b[0mwrite\u001b[0m\u001b[0;31m\\\u001b[0m\u001b[0;34m\u001b[0m\u001b[0;34m\u001b[0m\u001b[0m\n\u001b[0m\u001b[1;32m     14\u001b[0m         \u001b[0;34m.\u001b[0m\u001b[0mformat\u001b[0m\u001b[0;34m(\u001b[0m\u001b[0;34m\"jdbc\"\u001b[0m\u001b[0;34m)\u001b[0m\u001b[0;31m\\\u001b[0m\u001b[0;34m\u001b[0m\u001b[0;34m\u001b[0m\u001b[0m\n\u001b[1;32m     15\u001b[0m         \u001b[0;34m.\u001b[0m\u001b[0moption\u001b[0m\u001b[0;34m(\u001b[0m\u001b[0;34m\"url\"\u001b[0m\u001b[0;34m,\u001b[0m \u001b[0mURL\u001b[0m\u001b[0;34m)\u001b[0m\u001b[0;31m\\\u001b[0m\u001b[0;34m\u001b[0m\u001b[0;34m\u001b[0m\u001b[0m\n\n\u001b[0;32m/databricks/spark/python/pyspark/sql/readwriter.py\u001b[0m in \u001b[0;36msave\u001b[0;34m(self, path, format, mode, partitionBy, **options)\u001b[0m\n\u001b[1;32m    736\u001b[0m             \u001b[0mself\u001b[0m\u001b[0;34m.\u001b[0m\u001b[0mformat\u001b[0m\u001b[0;34m(\u001b[0m\u001b[0mformat\u001b[0m\u001b[0;34m)\u001b[0m\u001b[0;34m\u001b[0m\u001b[0;34m\u001b[0m\u001b[0m\n\u001b[1;32m    737\u001b[0m         \u001b[0;32mif\u001b[0m \u001b[0mpath\u001b[0m \u001b[0;32mis\u001b[0m \u001b[0;32mNone\u001b[0m\u001b[0;34m:\u001b[0m\u001b[0;34m\u001b[0m\u001b[0;34m\u001b[0m\u001b[0m\n\u001b[0;32m--> 738\u001b[0;31m             \u001b[0mself\u001b[0m\u001b[0;34m.\u001b[0m\u001b[0m_jwrite\u001b[0m\u001b[0;34m.\u001b[0m\u001b[0msave\u001b[0m\u001b[0;34m(\u001b[0m\u001b[0;34m)\u001b[0m\u001b[0;34m\u001b[0m\u001b[0;34m\u001b[0m\u001b[0m\n\u001b[0m\u001b[1;32m    739\u001b[0m         \u001b[0;32melse\u001b[0m\u001b[0;34m:\u001b[0m\u001b[0;34m\u001b[0m\u001b[0;34m\u001b[0m\u001b[0m\n\u001b[1;32m    740\u001b[0m             \u001b[0mself\u001b[0m\u001b[0;34m.\u001b[0m\u001b[0m_jwrite\u001b[0m\u001b[0;34m.\u001b[0m\u001b[0msave\u001b[0m\u001b[0;34m(\u001b[0m\u001b[0mpath\u001b[0m\u001b[0;34m)\u001b[0m\u001b[0;34m\u001b[0m\u001b[0;34m\u001b[0m\u001b[0m\n\n\u001b[0;32m/databricks/spark/python/lib/py4j-0.10.9.1-src.zip/py4j/java_gateway.py\u001b[0m in \u001b[0;36m__call__\u001b[0;34m(self, *args)\u001b[0m\n\u001b[1;32m   1302\u001b[0m \u001b[0;34m\u001b[0m\u001b[0m\n\u001b[1;32m   1303\u001b[0m         \u001b[0manswer\u001b[0m \u001b[0;34m=\u001b[0m \u001b[0mself\u001b[0m\u001b[0;34m.\u001b[0m\u001b[0mgateway_client\u001b[0m\u001b[0;34m.\u001b[0m\u001b[0msend_command\u001b[0m\u001b[0;34m(\u001b[0m\u001b[0mcommand\u001b[0m\u001b[0;34m)\u001b[0m\u001b[0;34m\u001b[0m\u001b[0;34m\u001b[0m\u001b[0m\n\u001b[0;32m-> 1304\u001b[0;31m         return_value = get_return_value(\n\u001b[0m\u001b[1;32m   1305\u001b[0m             answer, self.gateway_client, self.target_id, self.name)\n\u001b[1;32m   1306\u001b[0m \u001b[0;34m\u001b[0m\u001b[0m\n\n\u001b[0;32m/databricks/spark/python/pyspark/sql/utils.py\u001b[0m in \u001b[0;36mdeco\u001b[0;34m(*a, **kw)\u001b[0m\n\u001b[1;32m    115\u001b[0m     \u001b[0;32mdef\u001b[0m \u001b[0mdeco\u001b[0m\u001b[0;34m(\u001b[0m\u001b[0;34m*\u001b[0m\u001b[0ma\u001b[0m\u001b[0;34m,\u001b[0m \u001b[0;34m**\u001b[0m\u001b[0mkw\u001b[0m\u001b[0;34m)\u001b[0m\u001b[0;34m:\u001b[0m\u001b[0;34m\u001b[0m\u001b[0;34m\u001b[0m\u001b[0m\n\u001b[1;32m    116\u001b[0m         \u001b[0;32mtry\u001b[0m\u001b[0;34m:\u001b[0m\u001b[0;34m\u001b[0m\u001b[0;34m\u001b[0m\u001b[0m\n\u001b[0;32m--> 117\u001b[0;31m             \u001b[0;32mreturn\u001b[0m \u001b[0mf\u001b[0m\u001b[0;34m(\u001b[0m\u001b[0;34m*\u001b[0m\u001b[0ma\u001b[0m\u001b[0;34m,\u001b[0m \u001b[0;34m**\u001b[0m\u001b[0mkw\u001b[0m\u001b[0;34m)\u001b[0m\u001b[0;34m\u001b[0m\u001b[0;34m\u001b[0m\u001b[0m\n\u001b[0m\u001b[1;32m    118\u001b[0m         \u001b[0;32mexcept\u001b[0m \u001b[0mpy4j\u001b[0m\u001b[0;34m.\u001b[0m\u001b[0mprotocol\u001b[0m\u001b[0;34m.\u001b[0m\u001b[0mPy4JJavaError\u001b[0m \u001b[0;32mas\u001b[0m \u001b[0me\u001b[0m\u001b[0;34m:\u001b[0m\u001b[0;34m\u001b[0m\u001b[0;34m\u001b[0m\u001b[0m\n\u001b[1;32m    119\u001b[0m             \u001b[0mconverted\u001b[0m \u001b[0;34m=\u001b[0m \u001b[0mconvert_exception\u001b[0m\u001b[0;34m(\u001b[0m\u001b[0me\u001b[0m\u001b[0;34m.\u001b[0m\u001b[0mjava_exception\u001b[0m\u001b[0;34m)\u001b[0m\u001b[0;34m\u001b[0m\u001b[0;34m\u001b[0m\u001b[0m\n\n\u001b[0;32m/databricks/spark/python/lib/py4j-0.10.9.1-src.zip/py4j/protocol.py\u001b[0m in \u001b[0;36mget_return_value\u001b[0;34m(answer, gateway_client, target_id, name)\u001b[0m\n\u001b[1;32m    324\u001b[0m             \u001b[0mvalue\u001b[0m \u001b[0;34m=\u001b[0m \u001b[0mOUTPUT_CONVERTER\u001b[0m\u001b[0;34m[\u001b[0m\u001b[0mtype\u001b[0m\u001b[0;34m]\u001b[0m\u001b[0;34m(\u001b[0m\u001b[0manswer\u001b[0m\u001b[0;34m[\u001b[0m\u001b[0;36m2\u001b[0m\u001b[0;34m:\u001b[0m\u001b[0;34m]\u001b[0m\u001b[0;34m,\u001b[0m \u001b[0mgateway_client\u001b[0m\u001b[0;34m)\u001b[0m\u001b[0;34m\u001b[0m\u001b[0;34m\u001b[0m\u001b[0m\n\u001b[1;32m    325\u001b[0m             \u001b[0;32mif\u001b[0m \u001b[0manswer\u001b[0m\u001b[0;34m[\u001b[0m\u001b[0;36m1\u001b[0m\u001b[0;34m]\u001b[0m \u001b[0;34m==\u001b[0m \u001b[0mREFERENCE_TYPE\u001b[0m\u001b[0;34m:\u001b[0m\u001b[0;34m\u001b[0m\u001b[0;34m\u001b[0m\u001b[0m\n\u001b[0;32m--> 326\u001b[0;31m                 raise Py4JJavaError(\n\u001b[0m\u001b[1;32m    327\u001b[0m                     \u001b[0;34m\"An error occurred while calling {0}{1}{2}.\\n\"\u001b[0m\u001b[0;34m.\u001b[0m\u001b[0;34m\u001b[0m\u001b[0;34m\u001b[0m\u001b[0m\n\u001b[1;32m    328\u001b[0m                     format(target_id, \".\", name), value)\n\n\u001b[0;31mPy4JJavaError\u001b[0m: An error occurred while calling o2739.save.\n: org.postgresql.util.PSQLException: Connection to localhost:5432 refused. Check that the hostname and port are correct and that the postmaster is accepting TCP/IP connections.\n\tat org.postgresql.core.v3.ConnectionFactoryImpl.openConnectionImpl(ConnectionFactoryImpl.java:303)\n\tat org.postgresql.core.ConnectionFactory.openConnection(ConnectionFactory.java:51)\n\tat org.postgresql.jdbc.PgConnection.<init>(PgConnection.java:223)\n\tat org.postgresql.Driver.makeConnection(Driver.java:465)\n\tat org.postgresql.Driver.connect(Driver.java:264)\n\tat org.apache.spark.sql.execution.datasources.jdbc.connection.BasicConnectionProvider.getConnection(BasicConnectionProvider.scala:49)\n\tat org.apache.spark.sql.execution.datasources.jdbc.connection.ConnectionProviderBase.create(ConnectionProvider.scala:102)\n\tat org.apache.spark.sql.execution.datasources.jdbc.JdbcUtils$.$anonfun$createConnectionFactory$1(JdbcUtils.scala:69)\n\tat org.apache.spark.sql.execution.datasources.jdbc.JdbcRelationProvider.createRelation(JdbcRelationProvider.scala:49)\n\tat org.apache.spark.sql.execution.datasources.SaveIntoDataSourceCommand.run(SaveIntoDataSourceCommand.scala:47)\n\tat org.apache.spark.sql.execution.command.ExecutedCommandExec.sideEffectResult$lzycompute(commands.scala:80)\n\tat org.apache.spark.sql.execution.command.ExecutedCommandExec.sideEffectResult(commands.scala:78)\n\tat org.apache.spark.sql.execution.command.ExecutedCommandExec.executeCollect(commands.scala:89)\n\tat org.apache.spark.sql.execution.QueryExecution$$anonfun$$nestedInanonfun$eagerlyExecuteCommands$1$1.$anonfun$applyOrElse$1(QueryExecution.scala:160)\n\tat org.apache.spark.sql.execution.SQLExecution$.$anonfun$withCustomExecutionEnv$8(SQLExecution.scala:239)\n\tat org.apache.spark.sql.execution.SQLExecution$.withSQLConfPropagated(SQLExecution.scala:386)\n\tat org.apache.spark.sql.execution.SQLExecution$.$anonfun$withCustomExecutionEnv$1(SQLExecution.scala:186)\n\tat org.apache.spark.sql.SparkSession.withActive(SparkSession.scala:968)\n\tat org.apache.spark.sql.execution.SQLExecution$.withCustomExecutionEnv(SQLExecution.scala:141)\n\tat org.apache.spark.sql.execution.SQLExecution$.withNewExecutionId(SQLExecution.scala:336)\n\tat org.apache.spark.sql.execution.QueryExecution$$anonfun$$nestedInanonfun$eagerlyExecuteCommands$1$1.applyOrElse(QueryExecution.scala:160)\n\tat org.apache.spark.sql.execution.QueryExecution$$anonfun$$nestedInanonfun$eagerlyExecuteCommands$1$1.applyOrElse(QueryExecution.scala:156)\n\tat org.apache.spark.sql.catalyst.trees.TreeNode.$anonfun$transformDownWithPruning$1(TreeNode.scala:575)\n\tat org.apache.spark.sql.catalyst.trees.CurrentOrigin$.withOrigin(TreeNode.scala:167)\n\tat org.apache.spark.sql.catalyst.trees.TreeNode.transformDownWithPruning(TreeNode.scala:575)\n\tat org.apache.spark.sql.catalyst.plans.logical.LogicalPlan.org$apache$spark$sql$catalyst$plans$logical$AnalysisHelper$$super$transformDownWithPruning(LogicalPlan.scala:30)\n\tat org.apache.spark.sql.catalyst.plans.logical.AnalysisHelper.transformDownWithPruning(AnalysisHelper.scala:268)\n\tat org.apache.spark.sql.catalyst.plans.logical.AnalysisHelper.transformDownWithPruning$(AnalysisHelper.scala:264)\n\tat org.apache.spark.sql.catalyst.plans.logical.LogicalPlan.transformDownWithPruning(LogicalPlan.scala:30)\n\tat org.apache.spark.sql.catalyst.plans.logical.LogicalPlan.transformDownWithPruning(LogicalPlan.scala:30)\n\tat org.apache.spark.sql.catalyst.trees.TreeNode.transformDown(TreeNode.scala:551)\n\tat org.apache.spark.sql.execution.QueryExecution.$anonfun$eagerlyExecuteCommands$1(QueryExecution.scala:156)\n\tat org.apache.spark.sql.catalyst.plans.logical.AnalysisHelper$.allowInvokingTransformsInAnalyzer(AnalysisHelper.scala:324)\n\tat org.apache.spark.sql.execution.QueryExecution.eagerlyExecuteCommands(QueryExecution.scala:156)\n\tat org.apache.spark.sql.execution.QueryExecution.commandExecuted$lzycompute(QueryExecution.scala:141)\n\tat org.apache.spark.sql.execution.QueryExecution.commandExecuted(QueryExecution.scala:132)\n\tat org.apache.spark.sql.execution.QueryExecution.assertCommandExecuted(QueryExecution.scala:186)\n\tat org.apache.spark.sql.DataFrameWriter.runCommand(DataFrameWriter.scala:959)\n\tat org.apache.spark.sql.DataFrameWriter.saveToV1Source(DataFrameWriter.scala:427)\n\tat org.apache.spark.sql.DataFrameWriter.saveInternal(DataFrameWriter.scala:396)\n\tat org.apache.spark.sql.DataFrameWriter.save(DataFrameWriter.scala:258)\n\tat sun.reflect.NativeMethodAccessorImpl.invoke0(Native Method)\n\tat sun.reflect.NativeMethodAccessorImpl.invoke(NativeMethodAccessorImpl.java:62)\n\tat sun.reflect.DelegatingMethodAccessorImpl.invoke(DelegatingMethodAccessorImpl.java:43)\n\tat java.lang.reflect.Method.invoke(Method.java:498)\n\tat py4j.reflection.MethodInvoker.invoke(MethodInvoker.java:244)\n\tat py4j.reflection.ReflectionEngine.invoke(ReflectionEngine.java:380)\n\tat py4j.Gateway.invoke(Gateway.java:295)\n\tat py4j.commands.AbstractCommand.invokeMethod(AbstractCommand.java:132)\n\tat py4j.commands.CallCommand.execute(CallCommand.java:79)\n\tat py4j.GatewayConnection.run(GatewayConnection.java:251)\n\tat java.lang.Thread.run(Thread.java:748)\nCaused by: java.net.ConnectException: Connection refused (Connection refused)\n\tat java.net.PlainSocketImpl.socketConnect(Native Method)\n\tat java.net.AbstractPlainSocketImpl.doConnect(AbstractPlainSocketImpl.java:350)\n\tat java.net.AbstractPlainSocketImpl.connectToAddress(AbstractPlainSocketImpl.java:206)\n\tat java.net.AbstractPlainSocketImpl.connect(AbstractPlainSocketImpl.java:188)\n\tat java.net.SocksSocketImpl.connect(SocksSocketImpl.java:392)\n\tat java.net.Socket.connect(Socket.java:607)\n\tat org.postgresql.core.PGStream.createSocket(PGStream.java:231)\n\tat org.postgresql.core.PGStream.<init>(PGStream.java:95)\n\tat org.postgresql.core.v3.ConnectionFactoryImpl.tryConnect(ConnectionFactoryImpl.java:98)\n\tat org.postgresql.core.v3.ConnectionFactoryImpl.openConnectionImpl(ConnectionFactoryImpl.java:213)\n\t... 51 more\n",
       "errorSummary": "org.postgresql.util.PSQLException: Connection to localhost:5432 refused. Check that the hostname and port are correct and that the postmaster is accepting TCP/IP connections.",
       "errorTraceType": "ansi",
       "metadata": {},
       "type": "ipynbError"
      }
     },
     "output_type": "display_data"
    }
   ],
   "source": [
    "#Connection details\n",
    "PSQL_SERVERNAME = \"localhost\"\n",
    "PSQL_PORTNUMBER = 5432\n",
    "PSQL_DBNAME = \"test\"\n",
    "PSQL_USRRNAME = \"postgres\"\n",
    "PSQL_PASSWORD = \"vivek@3011\"\n",
    "\n",
    "URL = f\"jdbc:postgresql://{PSQL_SERVERNAME}/{PSQL_DBNAME}\"\n",
    "\n",
    "#Table details\n",
    "TABLE_MYTABLE = \"t1\"\n",
    "TABLE_EMPLOYEE = \"complete_data\"\n",
    "df_complete.write\\\n",
    "        .format(\"jdbc\")\\\n",
    "        .option(\"url\", URL)\\\n",
    "        .option(\"dbtable\", TABLE_EMPLOYEE)\\\n",
    "        .option(\"user\", PSQL_USRRNAME)\\\n",
    "        .option(\"password\", PSQL_PASSWORD)\\\n",
    "        .mode(\"append\")\\\n",
    "        .save()"
   ]
  },
  {
   "cell_type": "code",
   "execution_count": 0,
   "metadata": {
    "application/vnd.databricks.v1+cell": {
     "inputWidgets": {},
     "nuid": "6739a04c-63a8-47db-99ed-b568827da0ec",
     "showTitle": false,
     "title": ""
    }
   },
   "outputs": [],
   "source": []
  },
  {
   "cell_type": "code",
   "execution_count": 0,
   "metadata": {
    "application/vnd.databricks.v1+cell": {
     "inputWidgets": {},
     "nuid": "3632c645-3867-4ca0-ab7d-a9f5978eb68d",
     "showTitle": false,
     "title": ""
    }
   },
   "outputs": [],
   "source": []
  },
  {
   "cell_type": "code",
   "execution_count": 0,
   "metadata": {
    "application/vnd.databricks.v1+cell": {
     "inputWidgets": {},
     "nuid": "e15fc367-23c9-4ab5-83f5-fb38620123bf",
     "showTitle": false,
     "title": ""
    }
   },
   "outputs": [],
   "source": []
  },
  {
   "cell_type": "code",
   "execution_count": 0,
   "metadata": {
    "application/vnd.databricks.v1+cell": {
     "inputWidgets": {},
     "nuid": "89cb97da-bc6d-4073-baec-e2eb1149ba9a",
     "showTitle": false,
     "title": ""
    }
   },
   "outputs": [],
   "source": []
  },
  {
   "cell_type": "code",
   "execution_count": 0,
   "metadata": {
    "application/vnd.databricks.v1+cell": {
     "inputWidgets": {},
     "nuid": "3c797cda-eac1-4658-98fc-2f16aaa11e3f",
     "showTitle": false,
     "title": ""
    }
   },
   "outputs": [],
   "source": []
  },
  {
   "cell_type": "code",
   "execution_count": 0,
   "metadata": {
    "application/vnd.databricks.v1+cell": {
     "inputWidgets": {},
     "nuid": "3dee238d-9e7d-4a9d-bb18-3b6a51954ee1",
     "showTitle": false,
     "title": ""
    }
   },
   "outputs": [],
   "source": []
  },
  {
   "cell_type": "code",
   "execution_count": 0,
   "metadata": {
    "application/vnd.databricks.v1+cell": {
     "inputWidgets": {},
     "nuid": "d88899ed-d89f-4263-ad1c-d4016cd23c77",
     "showTitle": false,
     "title": ""
    }
   },
   "outputs": [
    {
     "data": {
      "text/plain": []
     },
     "metadata": {
      "application/vnd.databricks.v1+output": {
       "arguments": {},
       "data": "",
       "errorSummary": "Command skipped",
       "errorTraceType": "ansi",
       "metadata": {},
       "type": "ipynbError"
      }
     },
     "output_type": "display_data"
    }
   ],
   "source": [
    "mode=[]\n",
    "for i in range(len(df_complete.columns)): \n",
    "    mode.append(mode_values.collect()[0][i])\n",
    "    "
   ]
  },
  {
   "cell_type": "code",
   "execution_count": 0,
   "metadata": {
    "application/vnd.databricks.v1+cell": {
     "inputWidgets": {},
     "nuid": "5cfa087b-2466-4d1b-9e48-bf3fe57bddc6",
     "showTitle": false,
     "title": ""
    }
   },
   "outputs": [
    {
     "data": {
      "text/plain": []
     },
     "metadata": {
      "application/vnd.databricks.v1+output": {
       "arguments": {},
       "data": "",
       "errorSummary": "Command skipped",
       "errorTraceType": "ansi",
       "metadata": {},
       "type": "ipynbError"
      }
     },
     "output_type": "display_data"
    }
   ],
   "source": [
    "check=zip(df_complete.columns,mode)\n",
    "mydict=dict(check)\n",
    "a_dict = {key: mydict[key] for key in mydict if (key != 'VendorID' and key !='tpep_pickup_datetime' and key !='tpep_dropoff_datetime')}"
   ]
  },
  {
   "cell_type": "code",
   "execution_count": 0,
   "metadata": {
    "application/vnd.databricks.v1+cell": {
     "inputWidgets": {},
     "nuid": "03df54cf-ae68-49c7-8e18-f5b8815ecc32",
     "showTitle": false,
     "title": ""
    }
   },
   "outputs": [
    {
     "data": {
      "text/plain": []
     },
     "metadata": {
      "application/vnd.databricks.v1+output": {
       "arguments": {},
       "data": "",
       "errorSummary": "Command skipped",
       "errorTraceType": "ansi",
       "metadata": {},
       "type": "ipynbError"
      }
     },
     "output_type": "display_data"
    }
   ],
   "source": [
    "a_dict "
   ]
  },
  {
   "cell_type": "code",
   "execution_count": 0,
   "metadata": {
    "application/vnd.databricks.v1+cell": {
     "inputWidgets": {},
     "nuid": "a7ac468d-e342-456a-b769-9d1565481c97",
     "showTitle": false,
     "title": ""
    }
   },
   "outputs": [
    {
     "data": {
      "text/plain": []
     },
     "metadata": {
      "application/vnd.databricks.v1+output": {
       "arguments": {},
       "data": "",
       "errorSummary": "Command skipped",
       "errorTraceType": "ansi",
       "metadata": {},
       "type": "ipynbError"
      }
     },
     "output_type": "display_data"
    }
   ],
   "source": [
    "df_complete.printSchema()"
   ]
  },
  {
   "cell_type": "code",
   "execution_count": 0,
   "metadata": {
    "application/vnd.databricks.v1+cell": {
     "inputWidgets": {},
     "nuid": "c4ef3e2f-93dd-42de-a72b-a3220a6879b0",
     "showTitle": false,
     "title": ""
    }
   },
   "outputs": [],
   "source": []
  }
 ],
 "metadata": {
  "application/vnd.databricks.v1+notebook": {
   "dashboards": [],
   "language": "python",
   "notebookMetadata": {
    "pythonIndentUnit": 4
   },
   "notebookName": "final_analysis",
   "notebookOrigID": 1193177705817251,
   "widgets": {}
  },
  "kernelspec": {
   "display_name": "Python 3 (ipykernel)",
   "language": "python",
   "name": "python3"
  },
  "language_info": {
   "codemirror_mode": {
    "name": "ipython",
    "version": 3
   },
   "file_extension": ".py",
   "mimetype": "text/x-python",
   "name": "python",
   "nbconvert_exporter": "python",
   "pygments_lexer": "ipython3",
   "version": "3.9.12"
  }
 },
 "nbformat": 4,
 "nbformat_minor": 1
}
